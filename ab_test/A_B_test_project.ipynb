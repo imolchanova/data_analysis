{
  "cells": [
    {
      "cell_type": "markdown",
      "metadata": {
        "id": "9_2BUsG4xbgT"
      },
      "source": [
        "# Проект \"Увеличение выручки интернет-магазина\""
      ]
    },
    {
      "cell_type": "markdown",
      "metadata": {
        "id": "V6sA_hY1xbgU"
      },
      "source": [
        "# Цели и методы исследования"
      ]
    },
    {
      "cell_type": "markdown",
      "metadata": {
        "id": "yrn5nUH3xbgV"
      },
      "source": [
        "Крупный интернет-магазин хочет увеличить выручку от своей деятельности.\n",
        "\n",
        "Для достижения цели заказчика (например, финансовой службы, директора или владельца) аналитический и маркетинговый отделы составили список гипотез.\n",
        "\n",
        "Чтобы проверить гипотезы нам необходимо:\n",
        "1. Приоритизировать их методами ICE и RICE;\n",
        "2. Провести A/B-тест и зафиксировать результаты;\n",
        "3. Проанализировать результаты A/B-теста:\n",
        "- сравнить выручку в группах;\n",
        "- сравнить средний чек в группах;\n",
        "- сравнить количество заказов в группах.\n",
        "\n",
        "A/B-тест - это самый дорогой метод проверки гипотез. Чтобы минимизировать погрешности и неправильные выводы, при его проведении мы будем исследовать кумулятивные данные, оценивать их на наличие выбросов, анализировать данные с выбросами и без них.\n",
        "\n",
        "Чтобы выводы можно было представить заказчику в легкой для воспрития форме, мы построим графики изменений в наблюдаемых группах.\n",
        "\n",
        "Результатом исследования будет принятие решения о победе одной из групп или об отсутствии различий между ними, а также вывод о жизнеспособности гипотезы."
      ]
    },
    {
      "cell_type": "markdown",
      "metadata": {
        "id": "XGWSMxxbxbgX"
      },
      "source": [
        "# Часть 1. Приоритизация гипотез"
      ]
    },
    {
      "cell_type": "markdown",
      "metadata": {
        "id": "jd6O7NhfxbgY"
      },
      "source": [
        "### Обзор и предобработка данных"
      ]
    },
    {
      "cell_type": "markdown",
      "metadata": {
        "id": "3MgDa13cxbgZ"
      },
      "source": [
        "В нашем распоряжении находится датафрейм со списком гипотез для увеличения выручки. Рассмотрим его. Перед этим импортируем все библиотеки, которые понадобятся в ходе исследования."
      ]
    },
    {
      "cell_type": "code",
      "execution_count": null,
      "metadata": {
        "id": "9lrs2qWCxbgZ"
      },
      "outputs": [],
      "source": [
        "# импортируем библиотеки\n",
        "\n",
        "# для работы с таблицами\n",
        "import pandas as pd\n",
        "\n",
        "# для математических функций\n",
        "import numpy as np\n",
        "\n",
        "# для работы с датой и временем\n",
        "import datetime as dt\n",
        "\n",
        "# для статистических тестов\n",
        "from scipy import stats as stats\n",
        "\n",
        "#  для построения графиков\n",
        "import matplotlib.pyplot as plt\n",
        "import seaborn as sns"
      ]
    },
    {
      "cell_type": "markdown",
      "metadata": {
        "id": "hiwAfeJmxbga"
      },
      "source": [
        "Сохраним данные файла /datasets/hypothesis.csv в переменной data."
      ]
    },
    {
      "cell_type": "code",
      "execution_count": null,
      "metadata": {
        "id": "Tsha54Z_xbgb",
        "outputId": "42681aa0-176a-4e5e-bcc4-8aafdc0496db"
      },
      "outputs": [
        {
          "data": {
            "text/html": [
              "<div>\n",
              "<style scoped>\n",
              "    .dataframe tbody tr th:only-of-type {\n",
              "        vertical-align: middle;\n",
              "    }\n",
              "\n",
              "    .dataframe tbody tr th {\n",
              "        vertical-align: top;\n",
              "    }\n",
              "\n",
              "    .dataframe thead th {\n",
              "        text-align: right;\n",
              "    }\n",
              "</style>\n",
              "<table border=\"1\" class=\"dataframe\">\n",
              "  <thead>\n",
              "    <tr style=\"text-align: right;\">\n",
              "      <th></th>\n",
              "      <th>Hypothesis</th>\n",
              "      <th>Reach</th>\n",
              "      <th>Impact</th>\n",
              "      <th>Confidence</th>\n",
              "      <th>Efforts</th>\n",
              "    </tr>\n",
              "  </thead>\n",
              "  <tbody>\n",
              "    <tr>\n",
              "      <th>0</th>\n",
              "      <td>Добавить два новых канала привлечения трафика, что позволит привлекать на 30% больше пользователей</td>\n",
              "      <td>3</td>\n",
              "      <td>10</td>\n",
              "      <td>8</td>\n",
              "      <td>6</td>\n",
              "    </tr>\n",
              "    <tr>\n",
              "      <th>1</th>\n",
              "      <td>Запустить собственную службу доставки, что сократит срок доставки заказов</td>\n",
              "      <td>2</td>\n",
              "      <td>5</td>\n",
              "      <td>4</td>\n",
              "      <td>10</td>\n",
              "    </tr>\n",
              "    <tr>\n",
              "      <th>2</th>\n",
              "      <td>Добавить блоки рекомендаций товаров на сайт интернет магазина, чтобы повысить конверсию и средний чек заказа</td>\n",
              "      <td>8</td>\n",
              "      <td>3</td>\n",
              "      <td>7</td>\n",
              "      <td>3</td>\n",
              "    </tr>\n",
              "    <tr>\n",
              "      <th>3</th>\n",
              "      <td>Изменить структура категорий, что увеличит конверсию, т.к. пользователи быстрее найдут нужный товар</td>\n",
              "      <td>8</td>\n",
              "      <td>3</td>\n",
              "      <td>3</td>\n",
              "      <td>8</td>\n",
              "    </tr>\n",
              "    <tr>\n",
              "      <th>4</th>\n",
              "      <td>Изменить цвет фона главной страницы, чтобы увеличить вовлеченность пользователей</td>\n",
              "      <td>3</td>\n",
              "      <td>1</td>\n",
              "      <td>1</td>\n",
              "      <td>1</td>\n",
              "    </tr>\n",
              "    <tr>\n",
              "      <th>5</th>\n",
              "      <td>Добавить страницу отзывов клиентов о магазине, что позволит увеличить количество заказов</td>\n",
              "      <td>3</td>\n",
              "      <td>2</td>\n",
              "      <td>2</td>\n",
              "      <td>3</td>\n",
              "    </tr>\n",
              "    <tr>\n",
              "      <th>6</th>\n",
              "      <td>Показать на главной странице баннеры с актуальными акциями и распродажами, чтобы увеличить конверсию</td>\n",
              "      <td>5</td>\n",
              "      <td>3</td>\n",
              "      <td>8</td>\n",
              "      <td>3</td>\n",
              "    </tr>\n",
              "    <tr>\n",
              "      <th>7</th>\n",
              "      <td>Добавить форму подписки на все основные страницы, чтобы собрать базу клиентов для email-рассылок</td>\n",
              "      <td>10</td>\n",
              "      <td>7</td>\n",
              "      <td>8</td>\n",
              "      <td>5</td>\n",
              "    </tr>\n",
              "    <tr>\n",
              "      <th>8</th>\n",
              "      <td>Запустить акцию, дающую скидку на товар в день рождения</td>\n",
              "      <td>1</td>\n",
              "      <td>9</td>\n",
              "      <td>9</td>\n",
              "      <td>5</td>\n",
              "    </tr>\n",
              "  </tbody>\n",
              "</table>\n",
              "</div>"
            ],
            "text/plain": [
              "                                                                                                     Hypothesis  \\\n",
              "0            Добавить два новых канала привлечения трафика, что позволит привлекать на 30% больше пользователей   \n",
              "1                                     Запустить собственную службу доставки, что сократит срок доставки заказов   \n",
              "2  Добавить блоки рекомендаций товаров на сайт интернет магазина, чтобы повысить конверсию и средний чек заказа   \n",
              "3           Изменить структура категорий, что увеличит конверсию, т.к. пользователи быстрее найдут нужный товар   \n",
              "4                              Изменить цвет фона главной страницы, чтобы увеличить вовлеченность пользователей   \n",
              "5                      Добавить страницу отзывов клиентов о магазине, что позволит увеличить количество заказов   \n",
              "6          Показать на главной странице баннеры с актуальными акциями и распродажами, чтобы увеличить конверсию   \n",
              "7              Добавить форму подписки на все основные страницы, чтобы собрать базу клиентов для email-рассылок   \n",
              "8                                                       Запустить акцию, дающую скидку на товар в день рождения   \n",
              "\n",
              "   Reach  Impact  Confidence  Efforts  \n",
              "0      3      10           8        6  \n",
              "1      2       5           4       10  \n",
              "2      8       3           7        3  \n",
              "3      8       3           3        8  \n",
              "4      3       1           1        1  \n",
              "5      3       2           2        3  \n",
              "6      5       3           8        3  \n",
              "7     10       7           8        5  \n",
              "8      1       9           9        5  "
            ]
          },
          "execution_count": 214,
          "metadata": {},
          "output_type": "execute_result"
        }
      ],
      "source": [
        "data = pd.read_csv('/datasets/hypothesis.csv')\n",
        "data"
      ]
    },
    {
      "cell_type": "markdown",
      "metadata": {
        "id": "rTxYqZ5ixbgc"
      },
      "source": [
        "Переименуем столбцы в соответствии со змеиным регистром."
      ]
    },
    {
      "cell_type": "code",
      "execution_count": null,
      "metadata": {
        "id": "hZWFaZtxxbgd",
        "outputId": "a3648c0b-1270-4201-be1b-12d8bcd80747"
      },
      "outputs": [
        {
          "data": {
            "text/plain": [
              "Index(['hypothesis', 'reach', 'impact', 'confidence', 'efforts'], dtype='object')"
            ]
          },
          "execution_count": 215,
          "metadata": {},
          "output_type": "execute_result"
        }
      ],
      "source": [
        "data.columns = data.columns.str.lower()\n",
        "data.columns"
      ]
    },
    {
      "cell_type": "markdown",
      "metadata": {
        "id": "dzzBp9hsxbge"
      },
      "source": [
        "Всего составлено 9 гипотез. Чтобы выбрать, что тестировать, оценим и приоритизуем гипотезы методами ICE и RICE."
      ]
    },
    {
      "cell_type": "markdown",
      "metadata": {
        "id": "Qv1QyqJHxbge"
      },
      "source": [
        "### Оценка гипотез методом ICE"
      ]
    },
    {
      "cell_type": "markdown",
      "metadata": {
        "id": "P6hdtzNIxbgf"
      },
      "source": [
        "Метод ICE оценивает 3 параметра гипотезы: влияние на пользователей (impact), уверенность в жизнеспособности гипотезы (confidence), стоимость проверки гипотезы (efforts). Рассчитаем комплексную оценку гипотез этим методом."
      ]
    },
    {
      "cell_type": "code",
      "execution_count": null,
      "metadata": {
        "id": "F5bHX_Cjxbgf",
        "outputId": "922ed0af-d59e-475f-f833-9c679e39b0b7"
      },
      "outputs": [
        {
          "data": {
            "text/html": [
              "<div>\n",
              "<style scoped>\n",
              "    .dataframe tbody tr th:only-of-type {\n",
              "        vertical-align: middle;\n",
              "    }\n",
              "\n",
              "    .dataframe tbody tr th {\n",
              "        vertical-align: top;\n",
              "    }\n",
              "\n",
              "    .dataframe thead th {\n",
              "        text-align: right;\n",
              "    }\n",
              "</style>\n",
              "<table border=\"1\" class=\"dataframe\">\n",
              "  <thead>\n",
              "    <tr style=\"text-align: right;\">\n",
              "      <th></th>\n",
              "      <th>hypothesis</th>\n",
              "      <th>ICE</th>\n",
              "    </tr>\n",
              "  </thead>\n",
              "  <tbody>\n",
              "    <tr>\n",
              "      <th>0</th>\n",
              "      <td>Запустить акцию, дающую скидку на товар в день рождения</td>\n",
              "      <td>16.20</td>\n",
              "    </tr>\n",
              "    <tr>\n",
              "      <th>1</th>\n",
              "      <td>Добавить два новых канала привлечения трафика, что позволит привлекать на 30% больше пользователей</td>\n",
              "      <td>13.33</td>\n",
              "    </tr>\n",
              "    <tr>\n",
              "      <th>2</th>\n",
              "      <td>Добавить форму подписки на все основные страницы, чтобы собрать базу клиентов для email-рассылок</td>\n",
              "      <td>11.20</td>\n",
              "    </tr>\n",
              "    <tr>\n",
              "      <th>3</th>\n",
              "      <td>Показать на главной странице баннеры с актуальными акциями и распродажами, чтобы увеличить конверсию</td>\n",
              "      <td>8.00</td>\n",
              "    </tr>\n",
              "    <tr>\n",
              "      <th>4</th>\n",
              "      <td>Добавить блоки рекомендаций товаров на сайт интернет магазина, чтобы повысить конверсию и средний чек заказа</td>\n",
              "      <td>7.00</td>\n",
              "    </tr>\n",
              "    <tr>\n",
              "      <th>5</th>\n",
              "      <td>Запустить собственную службу доставки, что сократит срок доставки заказов</td>\n",
              "      <td>2.00</td>\n",
              "    </tr>\n",
              "    <tr>\n",
              "      <th>6</th>\n",
              "      <td>Добавить страницу отзывов клиентов о магазине, что позволит увеличить количество заказов</td>\n",
              "      <td>1.33</td>\n",
              "    </tr>\n",
              "    <tr>\n",
              "      <th>7</th>\n",
              "      <td>Изменить структура категорий, что увеличит конверсию, т.к. пользователи быстрее найдут нужный товар</td>\n",
              "      <td>1.12</td>\n",
              "    </tr>\n",
              "    <tr>\n",
              "      <th>8</th>\n",
              "      <td>Изменить цвет фона главной страницы, чтобы увеличить вовлеченность пользователей</td>\n",
              "      <td>1.00</td>\n",
              "    </tr>\n",
              "  </tbody>\n",
              "</table>\n",
              "</div>"
            ],
            "text/plain": [
              "                                                                                                     hypothesis  \\\n",
              "0                                                       Запустить акцию, дающую скидку на товар в день рождения   \n",
              "1            Добавить два новых канала привлечения трафика, что позволит привлекать на 30% больше пользователей   \n",
              "2              Добавить форму подписки на все основные страницы, чтобы собрать базу клиентов для email-рассылок   \n",
              "3          Показать на главной странице баннеры с актуальными акциями и распродажами, чтобы увеличить конверсию   \n",
              "4  Добавить блоки рекомендаций товаров на сайт интернет магазина, чтобы повысить конверсию и средний чек заказа   \n",
              "5                                     Запустить собственную службу доставки, что сократит срок доставки заказов   \n",
              "6                      Добавить страницу отзывов клиентов о магазине, что позволит увеличить количество заказов   \n",
              "7           Изменить структура категорий, что увеличит конверсию, т.к. пользователи быстрее найдут нужный товар   \n",
              "8                              Изменить цвет фона главной страницы, чтобы увеличить вовлеченность пользователей   \n",
              "\n",
              "     ICE  \n",
              "0  16.20  \n",
              "1  13.33  \n",
              "2  11.20  \n",
              "3   8.00  \n",
              "4   7.00  \n",
              "5   2.00  \n",
              "6   1.33  \n",
              "7   1.12  \n",
              "8   1.00  "
            ]
          },
          "execution_count": 216,
          "metadata": {},
          "output_type": "execute_result"
        }
      ],
      "source": [
        "# добавим столбец ICE к датафрейму data\n",
        "data['ICE'] = round((data['impact'] * data['confidence']) / data['efforts'], 2)\n",
        "\n",
        "# выведем список гипотез и оценку ICE\n",
        "data_sorted = data[['hypothesis', 'ICE']].sort_values('ICE', ascending=False).reset_index(drop=True)\n",
        "pd.options.display.max_colwidth = 210\n",
        "data_sorted"
      ]
    },
    {
      "cell_type": "markdown",
      "metadata": {
        "id": "iKhYzB6rxbgh"
      },
      "source": [
        "Отобразим итоговый рейтинг в виде барчарта."
      ]
    },
    {
      "cell_type": "code",
      "execution_count": null,
      "metadata": {
        "id": "fYj3oW8Yxbgi",
        "outputId": "865b1363-d7c9-423d-b9dd-3e6fc7d7376d"
      },
      "outputs": [
        {
          "data": {
            "image/png": "[encoded data removed]",
            "text/plain": [
              "<Figure size 1152x576 with 1 Axes>"
            ]
          },
          "metadata": {
            "needs_background": "light"
          },
          "output_type": "display_data"
        }
      ],
      "source": [
        "f, ax = plt.subplots(figsize=(16, 8))\n",
        "ax = sns.barplot(x='ICE', y='hypothesis', data = data_sorted)\n",
        "\n",
        "# добавим подписи к столбцам графика\n",
        "[ax.text(p.get_width()+0.3, p.get_y() + p.get_height()/2,\n",
        "         int(p.get_width()), fontsize=12)\n",
        " for p in ax.patches]\n",
        "plt.title('Рейтинг гипотез по методу ICE')\n",
        "plt.show()"
      ]
    },
    {
      "cell_type": "code",
      "execution_count": null,
      "metadata": {
        "scrolled": true,
        "id": "_ddQNvM2xbgj",
        "outputId": "9e9db534-5db4-459f-c32f-a561a4426e75"
      },
      "outputs": [
        {
          "name": "stdout",
          "output_type": "stream",
          "text": [
            "По методу ICE необходимо тестировать гипотезу:\n",
            "Запустить акцию, дающую скидку на товар в день рождения\n"
          ]
        }
      ],
      "source": [
        "print(f'По методу ICE необходимо тестировать гипотезу:\\n{data_sorted.loc[0, \"hypothesis\"]}')"
      ]
    },
    {
      "cell_type": "markdown",
      "metadata": {
        "id": "7J4V3F2uxbgk"
      },
      "source": [
        "### Оценка гипотез методом RICE"
      ]
    },
    {
      "cell_type": "markdown",
      "metadata": {
        "id": "8QV31Qk-xbgl"
      },
      "source": [
        "В отличие от метода ICE метод RICE в список показателей оценки качества гипотезы добавляется охват (reach) - количество пользователей, которых затронет изменение. Оценим наши гипотезы этим методом."
      ]
    },
    {
      "cell_type": "code",
      "execution_count": null,
      "metadata": {
        "id": "NPnHfRxPxbgl",
        "outputId": "cd476b58-5673-4802-e835-8615974dd701"
      },
      "outputs": [
        {
          "data": {
            "text/html": [
              "<div>\n",
              "<style scoped>\n",
              "    .dataframe tbody tr th:only-of-type {\n",
              "        vertical-align: middle;\n",
              "    }\n",
              "\n",
              "    .dataframe tbody tr th {\n",
              "        vertical-align: top;\n",
              "    }\n",
              "\n",
              "    .dataframe thead th {\n",
              "        text-align: right;\n",
              "    }\n",
              "</style>\n",
              "<table border=\"1\" class=\"dataframe\">\n",
              "  <thead>\n",
              "    <tr style=\"text-align: right;\">\n",
              "      <th></th>\n",
              "      <th>hypothesis</th>\n",
              "      <th>RICE</th>\n",
              "    </tr>\n",
              "  </thead>\n",
              "  <tbody>\n",
              "    <tr>\n",
              "      <th>0</th>\n",
              "      <td>Добавить форму подписки на все основные страницы, чтобы собрать базу клиентов для email-рассылок</td>\n",
              "      <td>112.0</td>\n",
              "    </tr>\n",
              "    <tr>\n",
              "      <th>1</th>\n",
              "      <td>Добавить блоки рекомендаций товаров на сайт интернет магазина, чтобы повысить конверсию и средний чек заказа</td>\n",
              "      <td>56.0</td>\n",
              "    </tr>\n",
              "    <tr>\n",
              "      <th>2</th>\n",
              "      <td>Добавить два новых канала привлечения трафика, что позволит привлекать на 30% больше пользователей</td>\n",
              "      <td>40.0</td>\n",
              "    </tr>\n",
              "    <tr>\n",
              "      <th>3</th>\n",
              "      <td>Показать на главной странице баннеры с актуальными акциями и распродажами, чтобы увеличить конверсию</td>\n",
              "      <td>40.0</td>\n",
              "    </tr>\n",
              "    <tr>\n",
              "      <th>4</th>\n",
              "      <td>Запустить акцию, дающую скидку на товар в день рождения</td>\n",
              "      <td>16.2</td>\n",
              "    </tr>\n",
              "    <tr>\n",
              "      <th>5</th>\n",
              "      <td>Изменить структура категорий, что увеличит конверсию, т.к. пользователи быстрее найдут нужный товар</td>\n",
              "      <td>9.0</td>\n",
              "    </tr>\n",
              "    <tr>\n",
              "      <th>6</th>\n",
              "      <td>Запустить собственную службу доставки, что сократит срок доставки заказов</td>\n",
              "      <td>4.0</td>\n",
              "    </tr>\n",
              "    <tr>\n",
              "      <th>7</th>\n",
              "      <td>Добавить страницу отзывов клиентов о магазине, что позволит увеличить количество заказов</td>\n",
              "      <td>4.0</td>\n",
              "    </tr>\n",
              "    <tr>\n",
              "      <th>8</th>\n",
              "      <td>Изменить цвет фона главной страницы, чтобы увеличить вовлеченность пользователей</td>\n",
              "      <td>3.0</td>\n",
              "    </tr>\n",
              "  </tbody>\n",
              "</table>\n",
              "</div>"
            ],
            "text/plain": [
              "                                                                                                     hypothesis  \\\n",
              "0              Добавить форму подписки на все основные страницы, чтобы собрать базу клиентов для email-рассылок   \n",
              "1  Добавить блоки рекомендаций товаров на сайт интернет магазина, чтобы повысить конверсию и средний чек заказа   \n",
              "2            Добавить два новых канала привлечения трафика, что позволит привлекать на 30% больше пользователей   \n",
              "3          Показать на главной странице баннеры с актуальными акциями и распродажами, чтобы увеличить конверсию   \n",
              "4                                                       Запустить акцию, дающую скидку на товар в день рождения   \n",
              "5           Изменить структура категорий, что увеличит конверсию, т.к. пользователи быстрее найдут нужный товар   \n",
              "6                                     Запустить собственную службу доставки, что сократит срок доставки заказов   \n",
              "7                      Добавить страницу отзывов клиентов о магазине, что позволит увеличить количество заказов   \n",
              "8                              Изменить цвет фона главной страницы, чтобы увеличить вовлеченность пользователей   \n",
              "\n",
              "    RICE  \n",
              "0  112.0  \n",
              "1   56.0  \n",
              "2   40.0  \n",
              "3   40.0  \n",
              "4   16.2  \n",
              "5    9.0  \n",
              "6    4.0  \n",
              "7    4.0  \n",
              "8    3.0  "
            ]
          },
          "execution_count": 219,
          "metadata": {},
          "output_type": "execute_result"
        }
      ],
      "source": [
        "# добавим столбец ICE к датафрейму data\n",
        "data['RICE'] = round((data['reach'] * data['impact'] * data['confidence']) / data['efforts'], 2)\n",
        "\n",
        "# выведем список гипотез и оценку ICE\n",
        "data_sorted = data[['hypothesis', 'RICE']].sort_values('RICE', ascending=False).reset_index(drop=True)\n",
        "pd.options.display.max_colwidth = 210\n",
        "data_sorted"
      ]
    },
    {
      "cell_type": "markdown",
      "metadata": {
        "id": "8eufHJkGxbgm"
      },
      "source": [
        "Как и в случае с методом ICE, отобразим итоговый рейтинг в виде столбчатой диаграммы."
      ]
    },
    {
      "cell_type": "code",
      "execution_count": null,
      "metadata": {
        "id": "4WK-L4g-xbgn",
        "outputId": "5bbf08a7-366b-4e96-f28b-5b3162313241"
      },
      "outputs": [
        {
          "data": {
            "image/png": "[encoded data removed]",
            "text/plain": [
              "<Figure size 1152x576 with 1 Axes>"
            ]
          },
          "metadata": {
            "needs_background": "light"
          },
          "output_type": "display_data"
        }
      ],
      "source": [
        "f, ax = plt.subplots(figsize=(16, 8))\n",
        "ax = sns.barplot(x='RICE', y='hypothesis', data = data_sorted)\n",
        "\n",
        "# добавим подписи к столбцам графика\n",
        "[ax.text(p.get_width()+0.3, p.get_y() + p.get_height()/2,\n",
        "         int(p.get_width()), fontsize=12)\n",
        " for p in ax.patches]\n",
        "plt.title('Рейтинг гипотез по методу RICE')\n",
        "plt.show()"
      ]
    },
    {
      "cell_type": "code",
      "execution_count": null,
      "metadata": {
        "scrolled": true,
        "id": "QPIH_CcOxbgo",
        "outputId": "4a9ec1c6-0414-4c74-a58c-af43f286d59e"
      },
      "outputs": [
        {
          "name": "stdout",
          "output_type": "stream",
          "text": [
            "По методу RICE необходимо тестировать гипотезу:\n",
            "Добавить форму подписки на все основные страницы, чтобы собрать базу клиентов для email-рассылок\n"
          ]
        }
      ],
      "source": [
        "print(f'По методу RICE необходимо тестировать гипотезу:\\n{data_sorted.loc[0, \"hypothesis\"]}')"
      ]
    },
    {
      "cell_type": "markdown",
      "metadata": {
        "id": "vO5D1iE4xbgq"
      },
      "source": [
        "В результате оценки гипотез методами ICE и RICE мы получили два разных результата: по методу ICE надо тестировать акцию в честь дня рождения, по методу RICE - форму подписки на рассылку. Если еще раз взглянуть на первоначальную таблицу с гипотезами, обе гипотезы не сильно отличаются по показателям impact, confidence и efforts. Но охват пользователей у гипотезы с подпиской максимальный - 10 баллов, а у гипотезы с акцией - всего 1 балл, что логично: предложение подписаться на рассылку коснется почти всех посетителей сайта, а предложение с акцией - только тех, кто посетит интернет-магазин в свой день рождения. Если бы e-mail рассылка уже была внедрена, то можно было рассылать предложение с акцией ко дню рождения на электронные почты посетителей, и тогда показатель охвата для этой гипотезы был бы выше. Так как e-mail-рассылки и скидки ко дню рождения внедрены во многих интернет-магазинах, закономерным будет тестировать гипотезу с акцией ко дню рождения одной из следующих. А в настоящее время необходимо тестировать гипотезу с формой подписки на e-mail рассылку."
      ]
    },
    {
      "cell_type": "markdown",
      "metadata": {
        "id": "nc6rHHbAxbgr"
      },
      "source": [
        "# Часть 2. Анализ результатов A/B-теста"
      ]
    },
    {
      "cell_type": "markdown",
      "metadata": {
        "id": "RQQbCu6Yxbgs"
      },
      "source": [
        "Мы провели A/B-тест и получили результаты, которые собраны в файлах '/datasets/orders.csv' и '/datasets/visitors.csv'. Откроем их, проверим на пропуски и аномалии и рассмотрим данные."
      ]
    },
    {
      "cell_type": "markdown",
      "metadata": {
        "id": "_7D9pAKVxbgs"
      },
      "source": [
        "### Проверка данных на пропуски"
      ]
    },
    {
      "cell_type": "code",
      "execution_count": null,
      "metadata": {
        "id": "t4wZjY-hxbgs",
        "outputId": "8c795450-979f-41fd-ec82-d4cc79b4fbad"
      },
      "outputs": [
        {
          "data": {
            "text/html": [
              "<div>\n",
              "<style scoped>\n",
              "    .dataframe tbody tr th:only-of-type {\n",
              "        vertical-align: middle;\n",
              "    }\n",
              "\n",
              "    .dataframe tbody tr th {\n",
              "        vertical-align: top;\n",
              "    }\n",
              "\n",
              "    .dataframe thead th {\n",
              "        text-align: right;\n",
              "    }\n",
              "</style>\n",
              "<table border=\"1\" class=\"dataframe\">\n",
              "  <thead>\n",
              "    <tr style=\"text-align: right;\">\n",
              "      <th></th>\n",
              "      <th>transactionId</th>\n",
              "      <th>visitorId</th>\n",
              "      <th>date</th>\n",
              "      <th>revenue</th>\n",
              "      <th>group</th>\n",
              "    </tr>\n",
              "  </thead>\n",
              "  <tbody>\n",
              "    <tr>\n",
              "      <th>0</th>\n",
              "      <td>3667963787</td>\n",
              "      <td>3312258926</td>\n",
              "      <td>2019-08-15</td>\n",
              "      <td>1650</td>\n",
              "      <td>B</td>\n",
              "    </tr>\n",
              "    <tr>\n",
              "      <th>1</th>\n",
              "      <td>2804400009</td>\n",
              "      <td>3642806036</td>\n",
              "      <td>2019-08-15</td>\n",
              "      <td>730</td>\n",
              "      <td>B</td>\n",
              "    </tr>\n",
              "    <tr>\n",
              "      <th>2</th>\n",
              "      <td>2961555356</td>\n",
              "      <td>4069496402</td>\n",
              "      <td>2019-08-15</td>\n",
              "      <td>400</td>\n",
              "      <td>A</td>\n",
              "    </tr>\n",
              "    <tr>\n",
              "      <th>3</th>\n",
              "      <td>3797467345</td>\n",
              "      <td>1196621759</td>\n",
              "      <td>2019-08-15</td>\n",
              "      <td>9759</td>\n",
              "      <td>B</td>\n",
              "    </tr>\n",
              "    <tr>\n",
              "      <th>4</th>\n",
              "      <td>2282983706</td>\n",
              "      <td>2322279887</td>\n",
              "      <td>2019-08-15</td>\n",
              "      <td>2308</td>\n",
              "      <td>B</td>\n",
              "    </tr>\n",
              "    <tr>\n",
              "      <th>5</th>\n",
              "      <td>182168103</td>\n",
              "      <td>935554773</td>\n",
              "      <td>2019-08-15</td>\n",
              "      <td>2210</td>\n",
              "      <td>B</td>\n",
              "    </tr>\n",
              "    <tr>\n",
              "      <th>6</th>\n",
              "      <td>398296753</td>\n",
              "      <td>2900797465</td>\n",
              "      <td>2019-08-15</td>\n",
              "      <td>1860</td>\n",
              "      <td>B</td>\n",
              "    </tr>\n",
              "    <tr>\n",
              "      <th>7</th>\n",
              "      <td>2626614568</td>\n",
              "      <td>78758296</td>\n",
              "      <td>2019-08-15</td>\n",
              "      <td>1044</td>\n",
              "      <td>A</td>\n",
              "    </tr>\n",
              "    <tr>\n",
              "      <th>8</th>\n",
              "      <td>1576988021</td>\n",
              "      <td>295230930</td>\n",
              "      <td>2019-08-15</td>\n",
              "      <td>13710</td>\n",
              "      <td>A</td>\n",
              "    </tr>\n",
              "    <tr>\n",
              "      <th>9</th>\n",
              "      <td>1506739906</td>\n",
              "      <td>1882260405</td>\n",
              "      <td>2019-08-15</td>\n",
              "      <td>1855</td>\n",
              "      <td>B</td>\n",
              "    </tr>\n",
              "  </tbody>\n",
              "</table>\n",
              "</div>"
            ],
            "text/plain": [
              "   transactionId   visitorId        date  revenue group\n",
              "0     3667963787  3312258926  2019-08-15     1650     B\n",
              "1     2804400009  3642806036  2019-08-15      730     B\n",
              "2     2961555356  4069496402  2019-08-15      400     A\n",
              "3     3797467345  1196621759  2019-08-15     9759     B\n",
              "4     2282983706  2322279887  2019-08-15     2308     B\n",
              "5      182168103   935554773  2019-08-15     2210     B\n",
              "6      398296753  2900797465  2019-08-15     1860     B\n",
              "7     2626614568    78758296  2019-08-15     1044     A\n",
              "8     1576988021   295230930  2019-08-15    13710     A\n",
              "9     1506739906  1882260405  2019-08-15     1855     B"
            ]
          },
          "metadata": {},
          "output_type": "display_data"
        },
        {
          "data": {
            "text/html": [
              "<div>\n",
              "<style scoped>\n",
              "    .dataframe tbody tr th:only-of-type {\n",
              "        vertical-align: middle;\n",
              "    }\n",
              "\n",
              "    .dataframe tbody tr th {\n",
              "        vertical-align: top;\n",
              "    }\n",
              "\n",
              "    .dataframe thead th {\n",
              "        text-align: right;\n",
              "    }\n",
              "</style>\n",
              "<table border=\"1\" class=\"dataframe\">\n",
              "  <thead>\n",
              "    <tr style=\"text-align: right;\">\n",
              "      <th></th>\n",
              "      <th>date</th>\n",
              "      <th>group</th>\n",
              "      <th>visitors</th>\n",
              "    </tr>\n",
              "  </thead>\n",
              "  <tbody>\n",
              "    <tr>\n",
              "      <th>0</th>\n",
              "      <td>2019-08-01</td>\n",
              "      <td>A</td>\n",
              "      <td>719</td>\n",
              "    </tr>\n",
              "    <tr>\n",
              "      <th>1</th>\n",
              "      <td>2019-08-02</td>\n",
              "      <td>A</td>\n",
              "      <td>619</td>\n",
              "    </tr>\n",
              "    <tr>\n",
              "      <th>2</th>\n",
              "      <td>2019-08-03</td>\n",
              "      <td>A</td>\n",
              "      <td>507</td>\n",
              "    </tr>\n",
              "    <tr>\n",
              "      <th>3</th>\n",
              "      <td>2019-08-04</td>\n",
              "      <td>A</td>\n",
              "      <td>717</td>\n",
              "    </tr>\n",
              "    <tr>\n",
              "      <th>4</th>\n",
              "      <td>2019-08-05</td>\n",
              "      <td>A</td>\n",
              "      <td>756</td>\n",
              "    </tr>\n",
              "    <tr>\n",
              "      <th>5</th>\n",
              "      <td>2019-08-06</td>\n",
              "      <td>A</td>\n",
              "      <td>667</td>\n",
              "    </tr>\n",
              "    <tr>\n",
              "      <th>6</th>\n",
              "      <td>2019-08-07</td>\n",
              "      <td>A</td>\n",
              "      <td>644</td>\n",
              "    </tr>\n",
              "    <tr>\n",
              "      <th>7</th>\n",
              "      <td>2019-08-08</td>\n",
              "      <td>A</td>\n",
              "      <td>610</td>\n",
              "    </tr>\n",
              "    <tr>\n",
              "      <th>8</th>\n",
              "      <td>2019-08-09</td>\n",
              "      <td>A</td>\n",
              "      <td>617</td>\n",
              "    </tr>\n",
              "    <tr>\n",
              "      <th>9</th>\n",
              "      <td>2019-08-10</td>\n",
              "      <td>A</td>\n",
              "      <td>406</td>\n",
              "    </tr>\n",
              "  </tbody>\n",
              "</table>\n",
              "</div>"
            ],
            "text/plain": [
              "         date group  visitors\n",
              "0  2019-08-01     A       719\n",
              "1  2019-08-02     A       619\n",
              "2  2019-08-03     A       507\n",
              "3  2019-08-04     A       717\n",
              "4  2019-08-05     A       756\n",
              "5  2019-08-06     A       667\n",
              "6  2019-08-07     A       644\n",
              "7  2019-08-08     A       610\n",
              "8  2019-08-09     A       617\n",
              "9  2019-08-10     A       406"
            ]
          },
          "execution_count": 222,
          "metadata": {},
          "output_type": "execute_result"
        }
      ],
      "source": [
        "# сохраним данные в датафреймы orders и visitors\n",
        "orders = pd.read_csv('/datasets/orders.csv')\n",
        "visitors = pd.read_csv('/datasets/visitors.csv')\n",
        "\n",
        "display(orders.head(10))\n",
        "visitors.head(10)"
      ]
    },
    {
      "cell_type": "code",
      "execution_count": null,
      "metadata": {
        "id": "kuxWjf7mxbgt",
        "outputId": "602b3744-b25d-4c00-b57a-eff92797e05c"
      },
      "outputs": [
        {
          "name": "stdout",
          "output_type": "stream",
          "text": [
            "<class 'pandas.core.frame.DataFrame'>\n",
            "RangeIndex: 1197 entries, 0 to 1196\n",
            "Data columns (total 5 columns):\n",
            " #   Column         Non-Null Count  Dtype \n",
            "---  ------         --------------  ----- \n",
            " 0   transactionId  1197 non-null   int64 \n",
            " 1   visitorId      1197 non-null   int64 \n",
            " 2   date           1197 non-null   object\n",
            " 3   revenue        1197 non-null   int64 \n",
            " 4   group          1197 non-null   object\n",
            "dtypes: int64(3), object(2)\n",
            "memory usage: 46.9+ KB\n"
          ]
        }
      ],
      "source": [
        "orders.info()"
      ]
    },
    {
      "cell_type": "code",
      "execution_count": null,
      "metadata": {
        "id": "AexOsJD7xbgu",
        "outputId": "576227d7-2558-40c1-81e1-0251f937d9c1"
      },
      "outputs": [
        {
          "name": "stdout",
          "output_type": "stream",
          "text": [
            "<class 'pandas.core.frame.DataFrame'>\n",
            "RangeIndex: 62 entries, 0 to 61\n",
            "Data columns (total 3 columns):\n",
            " #   Column    Non-Null Count  Dtype \n",
            "---  ------    --------------  ----- \n",
            " 0   date      62 non-null     object\n",
            " 1   group     62 non-null     object\n",
            " 2   visitors  62 non-null     int64 \n",
            "dtypes: int64(1), object(2)\n",
            "memory usage: 1.6+ KB\n"
          ]
        }
      ],
      "source": [
        "visitors.info()"
      ]
    },
    {
      "cell_type": "markdown",
      "metadata": {
        "id": "PXQMfglBxbgv"
      },
      "source": [
        "В обоих датасетах пропусков нет."
      ]
    },
    {
      "cell_type": "markdown",
      "metadata": {
        "id": "LWodOfSrxbgw"
      },
      "source": [
        "Теперь посмотрим, за какой период собраны данные. Для этого сначала изменим формат столбцов с датой."
      ]
    },
    {
      "cell_type": "code",
      "execution_count": null,
      "metadata": {
        "id": "dPtcZ59rxbgw",
        "outputId": "645844a9-9bf2-4e69-87d7-b14a27be2b4c"
      },
      "outputs": [
        {
          "data": {
            "text/plain": [
              "dtype('<M8[ns]')"
            ]
          },
          "execution_count": 225,
          "metadata": {},
          "output_type": "execute_result"
        }
      ],
      "source": [
        "orders['date'] = pd.to_datetime(orders['date'])\n",
        "orders['date'].dtype"
      ]
    },
    {
      "cell_type": "code",
      "execution_count": null,
      "metadata": {
        "id": "FKOCC3nixbgx",
        "outputId": "3bd6ba15-bbb7-4d44-be6c-a587fbcfc12f"
      },
      "outputs": [
        {
          "data": {
            "text/plain": [
              "dtype('<M8[ns]')"
            ]
          },
          "execution_count": 226,
          "metadata": {},
          "output_type": "execute_result"
        }
      ],
      "source": [
        "visitors['date'] = pd.to_datetime(visitors['date'])\n",
        "visitors['date'].dtype"
      ]
    },
    {
      "cell_type": "code",
      "execution_count": null,
      "metadata": {
        "id": "CoesMR8-xbgy",
        "outputId": "ac00dcf6-5409-4d17-a991-c4dcb9337f1b"
      },
      "outputs": [
        {
          "name": "stdout",
          "output_type": "stream",
          "text": [
            "Данные о заказах собраны за период с 2019-08-01 по 2019-08-31.\n"
          ]
        }
      ],
      "source": [
        "print(f'Данные о заказах собраны за период с {orders[\"date\"].dt.date.min()} по {orders[\"date\"].dt.date.max()}.')"
      ]
    },
    {
      "cell_type": "code",
      "execution_count": null,
      "metadata": {
        "id": "IwcHidryxbgy",
        "outputId": "9915a421-a291-4f0f-9d3b-3ba41b01ae9b"
      },
      "outputs": [
        {
          "name": "stdout",
          "output_type": "stream",
          "text": [
            "Данные о посетителях собраны за период с 2019-08-01 по 2019-08-31.\n"
          ]
        }
      ],
      "source": [
        "print(f'Данные о посетителях собраны за период с {visitors[\"date\"].dt.date.min()} по {visitors[\"date\"].dt.date.max()}.')"
      ]
    },
    {
      "cell_type": "markdown",
      "metadata": {
        "id": "hws5kNjOxbgz"
      },
      "source": [
        "Периоды в обеих таблицах аналогичны."
      ]
    },
    {
      "cell_type": "markdown",
      "metadata": {
        "id": "BJKqp_Swxbg0"
      },
      "source": [
        "#### Обзор размеров заказов"
      ]
    },
    {
      "cell_type": "markdown",
      "metadata": {
        "id": "qECF-BZDxbg0"
      },
      "source": [
        "Посмотрим основные статистические метрики датафрейма 'orders'."
      ]
    },
    {
      "cell_type": "code",
      "execution_count": null,
      "metadata": {
        "id": "TFMD5yEzxbg1",
        "outputId": "74d728d3-5d60-4253-8bef-4137a254723e"
      },
      "outputs": [
        {
          "data": {
            "text/html": [
              "<div>\n",
              "<style scoped>\n",
              "    .dataframe tbody tr th:only-of-type {\n",
              "        vertical-align: middle;\n",
              "    }\n",
              "\n",
              "    .dataframe tbody tr th {\n",
              "        vertical-align: top;\n",
              "    }\n",
              "\n",
              "    .dataframe thead th {\n",
              "        text-align: right;\n",
              "    }\n",
              "</style>\n",
              "<table border=\"1\" class=\"dataframe\">\n",
              "  <thead>\n",
              "    <tr style=\"text-align: right;\">\n",
              "      <th></th>\n",
              "      <th>transactionId</th>\n",
              "      <th>visitorId</th>\n",
              "      <th>revenue</th>\n",
              "    </tr>\n",
              "  </thead>\n",
              "  <tbody>\n",
              "    <tr>\n",
              "      <th>count</th>\n",
              "      <td>1197.000</td>\n",
              "      <td>1197.000</td>\n",
              "      <td>1197.000</td>\n",
              "    </tr>\n",
              "    <tr>\n",
              "      <th>mean</th>\n",
              "      <td>2155621385.530</td>\n",
              "      <td>2165960143.099</td>\n",
              "      <td>8348.006</td>\n",
              "    </tr>\n",
              "    <tr>\n",
              "      <th>std</th>\n",
              "      <td>1229084904.760</td>\n",
              "      <td>1236014192.147</td>\n",
              "      <td>39191.132</td>\n",
              "    </tr>\n",
              "    <tr>\n",
              "      <th>min</th>\n",
              "      <td>1062393.000</td>\n",
              "      <td>5114589.000</td>\n",
              "      <td>50.000</td>\n",
              "    </tr>\n",
              "    <tr>\n",
              "      <th>25%</th>\n",
              "      <td>1166775572.000</td>\n",
              "      <td>1111826046.000</td>\n",
              "      <td>1220.000</td>\n",
              "    </tr>\n",
              "    <tr>\n",
              "      <th>50%</th>\n",
              "      <td>2145193898.000</td>\n",
              "      <td>2217984702.000</td>\n",
              "      <td>2978.000</td>\n",
              "    </tr>\n",
              "    <tr>\n",
              "      <th>75%</th>\n",
              "      <td>3237740112.000</td>\n",
              "      <td>3177606451.000</td>\n",
              "      <td>8290.000</td>\n",
              "    </tr>\n",
              "    <tr>\n",
              "      <th>max</th>\n",
              "      <td>4293855558.000</td>\n",
              "      <td>4283872382.000</td>\n",
              "      <td>1294500.000</td>\n",
              "    </tr>\n",
              "  </tbody>\n",
              "</table>\n",
              "</div>"
            ],
            "text/plain": [
              "        transactionId       visitorId      revenue\n",
              "count        1197.000        1197.000     1197.000\n",
              "mean   2155621385.530  2165960143.099     8348.006\n",
              "std    1229084904.760  1236014192.147    39191.132\n",
              "min       1062393.000     5114589.000       50.000\n",
              "25%    1166775572.000  1111826046.000     1220.000\n",
              "50%    2145193898.000  2217984702.000     2978.000\n",
              "75%    3237740112.000  3177606451.000     8290.000\n",
              "max    4293855558.000  4283872382.000  1294500.000"
            ]
          },
          "execution_count": 229,
          "metadata": {},
          "output_type": "execute_result"
        }
      ],
      "source": [
        "orders.describe().apply(lambda s: s.apply(lambda x: format(x, '.3f')))"
      ]
    },
    {
      "cell_type": "markdown",
      "metadata": {
        "id": "WuLm8kXqxbg1"
      },
      "source": [
        "Построим диаграмму типа boxplot, чтобы визуально оценить размер выручки по транзакциям. Сделаем это в разбивке по группам."
      ]
    },
    {
      "cell_type": "code",
      "execution_count": null,
      "metadata": {
        "id": "RR_HHGXRxbg1",
        "outputId": "eb8f8906-0e8c-42ad-8e6e-cac1f795ff91"
      },
      "outputs": [
        {
          "data": {
            "text/plain": [
              "<AxesSubplot:xlabel='revenue', ylabel='group'>"
            ]
          },
          "execution_count": 230,
          "metadata": {},
          "output_type": "execute_result"
        },
        {
          "data": {
            "image/png": "[encoded data removed]",
            "text/plain": [
              "<Figure size 432x288 with 1 Axes>"
            ]
          },
          "metadata": {
            "needs_background": "light"
          },
          "output_type": "display_data"
        }
      ],
      "source": [
        "sns.boxplot(data=orders, x='revenue', y='group')"
      ]
    },
    {
      "cell_type": "markdown",
      "metadata": {
        "id": "mAnGrwiDxbg2"
      },
      "source": [
        "Из-за выбросов в сумме заказа боксплот выглядит как линия. Построим график еще раз, но без самых больших выбросов, которые на первом графике соответствуют сумме заказа больше 20 тыс. руб."
      ]
    },
    {
      "cell_type": "code",
      "execution_count": null,
      "metadata": {
        "id": "Kg0NgYVZxbg3",
        "outputId": "225bc932-1b0e-4dce-d9c1-1cda662d492d"
      },
      "outputs": [
        {
          "data": {
            "text/plain": [
              "<AxesSubplot:xlabel='revenue', ylabel='group'>"
            ]
          },
          "execution_count": 231,
          "metadata": {},
          "output_type": "execute_result"
        },
        {
          "data": {
            "image/png": "[encoded data removed]",
            "text/plain": [
              "<Figure size 432x288 with 1 Axes>"
            ]
          },
          "metadata": {
            "needs_background": "light"
          },
          "output_type": "display_data"
        }
      ],
      "source": [
        "sns.boxplot(data=orders.query('revenue < 20000'), x='revenue', y='group')"
      ]
    },
    {
      "cell_type": "markdown",
      "metadata": {
        "id": "wMJkHYWwxbg3"
      },
      "source": [
        "На графике без самых больших выбросов видно, что медианное значение суммы заказов находится на уровне чуть выше 2.5 тыс. руб. для обеих групп, при этом 4-ый квартиль находится в интервале 6 - 13 тыс. руб. для группы A и в интервале 6 - 12.5 тыс. руб. для группы B. Заказы больше 13 тыс. руб. в группе А и больше 12.5 в группе B встречаются редко. Выбросы могут искажать результаты A/B-теста, поэтому анализировать мы будем \"сырые\" и \"очищенные\" данные."
      ]
    },
    {
      "cell_type": "markdown",
      "metadata": {
        "id": "5dPN8erBxbg4"
      },
      "source": [
        "Построим гистограмму, отражающую количество заказов у каждого пользователя."
      ]
    },
    {
      "cell_type": "code",
      "execution_count": null,
      "metadata": {
        "id": "SuF-oGhSxbg4",
        "outputId": "ef01744a-7aa4-472f-cfb6-cbda011c470f"
      },
      "outputs": [
        {
          "data": {
            "text/html": [
              "<div>\n",
              "<style scoped>\n",
              "    .dataframe tbody tr th:only-of-type {\n",
              "        vertical-align: middle;\n",
              "    }\n",
              "\n",
              "    .dataframe tbody tr th {\n",
              "        vertical-align: top;\n",
              "    }\n",
              "\n",
              "    .dataframe thead th {\n",
              "        text-align: right;\n",
              "    }\n",
              "</style>\n",
              "<table border=\"1\" class=\"dataframe\">\n",
              "  <thead>\n",
              "    <tr style=\"text-align: right;\">\n",
              "      <th></th>\n",
              "      <th>visitorId</th>\n",
              "      <th>transactionId</th>\n",
              "      <th>revenue</th>\n",
              "    </tr>\n",
              "  </thead>\n",
              "  <tbody>\n",
              "    <tr>\n",
              "      <th>0</th>\n",
              "      <td>5114589</td>\n",
              "      <td>1</td>\n",
              "      <td>570</td>\n",
              "    </tr>\n",
              "    <tr>\n",
              "      <th>1</th>\n",
              "      <td>6958315</td>\n",
              "      <td>1</td>\n",
              "      <td>1490</td>\n",
              "    </tr>\n",
              "    <tr>\n",
              "      <th>2</th>\n",
              "      <td>8300375</td>\n",
              "      <td>2</td>\n",
              "      <td>12300</td>\n",
              "    </tr>\n",
              "    <tr>\n",
              "      <th>3</th>\n",
              "      <td>11685486</td>\n",
              "      <td>1</td>\n",
              "      <td>6201</td>\n",
              "    </tr>\n",
              "    <tr>\n",
              "      <th>4</th>\n",
              "      <td>39475350</td>\n",
              "      <td>1</td>\n",
              "      <td>3990</td>\n",
              "    </tr>\n",
              "    <tr>\n",
              "      <th>...</th>\n",
              "      <td>...</td>\n",
              "      <td>...</td>\n",
              "      <td>...</td>\n",
              "    </tr>\n",
              "    <tr>\n",
              "      <th>1026</th>\n",
              "      <td>4266935830</td>\n",
              "      <td>2</td>\n",
              "      <td>157980</td>\n",
              "    </tr>\n",
              "    <tr>\n",
              "      <th>1027</th>\n",
              "      <td>4278982564</td>\n",
              "      <td>1</td>\n",
              "      <td>24744</td>\n",
              "    </tr>\n",
              "    <tr>\n",
              "      <th>1028</th>\n",
              "      <td>4279090005</td>\n",
              "      <td>1</td>\n",
              "      <td>6716</td>\n",
              "    </tr>\n",
              "    <tr>\n",
              "      <th>1029</th>\n",
              "      <td>4281247801</td>\n",
              "      <td>1</td>\n",
              "      <td>2640</td>\n",
              "    </tr>\n",
              "    <tr>\n",
              "      <th>1030</th>\n",
              "      <td>4283872382</td>\n",
              "      <td>1</td>\n",
              "      <td>3806</td>\n",
              "    </tr>\n",
              "  </tbody>\n",
              "</table>\n",
              "<p>1031 rows × 3 columns</p>\n",
              "</div>"
            ],
            "text/plain": [
              "       visitorId  transactionId  revenue\n",
              "0        5114589              1      570\n",
              "1        6958315              1     1490\n",
              "2        8300375              2    12300\n",
              "3       11685486              1     6201\n",
              "4       39475350              1     3990\n",
              "...          ...            ...      ...\n",
              "1026  4266935830              2   157980\n",
              "1027  4278982564              1    24744\n",
              "1028  4279090005              1     6716\n",
              "1029  4281247801              1     2640\n",
              "1030  4283872382              1     3806\n",
              "\n",
              "[1031 rows x 3 columns]"
            ]
          },
          "execution_count": 232,
          "metadata": {},
          "output_type": "execute_result"
        }
      ],
      "source": [
        "orders_grouped = (orders\n",
        "                  .groupby(['visitorId'], as_index=False)\n",
        "                  .agg({'transactionId' : 'nunique', 'revenue' : 'sum'}))\n",
        "orders_grouped"
      ]
    },
    {
      "cell_type": "code",
      "execution_count": null,
      "metadata": {
        "id": "g7mzZ0_Exbg5",
        "outputId": "996a6f13-4bae-4794-e907-6a1f14da9c74"
      },
      "outputs": [
        {
          "data": {
            "text/plain": [
              "<AxesSubplot:ylabel='Frequency'>"
            ]
          },
          "execution_count": 233,
          "metadata": {},
          "output_type": "execute_result"
        },
        {
          "data": {
            "image/png": "[encoded data removed]",
            "text/plain": [
              "<Figure size 864x360 with 1 Axes>"
            ]
          },
          "metadata": {
            "needs_background": "light"
          },
          "output_type": "display_data"
        }
      ],
      "source": [
        "orders_grouped['transactionId'].plot(kind='hist',\n",
        "                                     figsize=(12,5),\n",
        "                                     x = np.arange(orders_grouped['transactionId'].min(),\n",
        "                                                   orders_grouped['transactionId'].max(),\n",
        "                                                   1))"
      ]
    },
    {
      "cell_type": "markdown",
      "metadata": {
        "id": "UvRoGfezxbg6"
      },
      "source": [
        "Большая часть пользователей в тестовый период делала 1 заказ. При наличии данных за более длительный период можно было бы проанализировать период между повторными заказами разных пользователей и сформулировать гипотезы по его уменьшению, что могло бы стать точкой роста выручки интернет-магазина."
      ]
    },
    {
      "cell_type": "markdown",
      "metadata": {
        "id": "cCrL_Wawxbg6"
      },
      "source": [
        "При моделировании A/B-теста на группы делились заказы, а не клиенты интернет-магазина. Из-за этого один и тот же покупатель мог попасть в разные группы. Рассчитаем, какая доля покупателей попала в обе группы."
      ]
    },
    {
      "cell_type": "code",
      "execution_count": null,
      "metadata": {
        "id": "DjYruaNuxbg7",
        "outputId": "ff14fd6f-daa6-4ffa-b986-695a0b35ace4"
      },
      "outputs": [
        {
          "data": {
            "text/plain": [
              "group    58\n",
              "dtype: int64"
            ]
          },
          "execution_count": 234,
          "metadata": {},
          "output_type": "execute_result"
        }
      ],
      "source": [
        "orders.groupby('visitorId').agg({'group' : 'nunique'}).query('group > 1').count()"
      ]
    },
    {
      "cell_type": "code",
      "execution_count": null,
      "metadata": {
        "id": "jZzvO1Cwxbg8",
        "outputId": "b78c18ff-b8e1-4082-c874-214e9d902741"
      },
      "outputs": [
        {
          "data": {
            "text/plain": [
              "group    0.056256\n",
              "dtype: float64"
            ]
          },
          "execution_count": 235,
          "metadata": {},
          "output_type": "execute_result"
        }
      ],
      "source": [
        "(orders.groupby('visitorId').agg({'group' : 'nunique'}).query('group > 1').count()\n",
        "/ orders.groupby('visitorId').agg({'group' : 'nunique'}).count())"
      ]
    },
    {
      "cell_type": "markdown",
      "metadata": {
        "id": "rNMcNYhBxbg8"
      },
      "source": [
        "Из общего числа покупателей 5,3% покупателей попадают в обе группы. Рассчитаем, какая сумма покупок на них приходится."
      ]
    },
    {
      "cell_type": "code",
      "execution_count": null,
      "metadata": {
        "id": "cEiXgvdjxbg9",
        "outputId": "95c76182-4262-48fd-e6b6-14a8185dcef6"
      },
      "outputs": [
        {
          "name": "stdout",
          "output_type": "stream",
          "text": [
            "1558935\n"
          ]
        },
        {
          "data": {
            "text/plain": [
              "0.1560095242832094"
            ]
          },
          "execution_count": 236,
          "metadata": {},
          "output_type": "execute_result"
        }
      ],
      "source": [
        "# создадим список покупателей, которые попали в обе группы\n",
        "double_users = (orders\n",
        "                .groupby('visitorId')\n",
        "                .agg({'group' : 'nunique'})\n",
        "                .reset_index()\n",
        "                .query('group > 1')['visitorId'].unique())\n",
        "\n",
        "# отберем и посчитаем сумму их покупок\n",
        "print(orders.query('visitorId in @double_users')['revenue'].sum())\n",
        "\n",
        "# рассчитаем процент их покупок\n",
        "orders.query('visitorId in @double_users')['revenue'].sum()/orders['revenue'].sum()"
      ]
    },
    {
      "cell_type": "markdown",
      "metadata": {
        "id": "i0R4fbblxbg-"
      },
      "source": [
        "Несмотря на то, что в обе группы попадает всего 5% покупателей, на них приходится 15% продаж за период. Удаление такого количества покупок может существенно сказаться на результатах исследования, поэтому удалять их не будем. Кроме того, такое распределение характерно для социальных наблюдений, поэтому для оценки результатов A/B-тестов мы будем применять тест Манна-Уитни, который благодаря ранжированию как раз позволяет оценивать распределения, далекие от нормального."
      ]
    },
    {
      "cell_type": "markdown",
      "metadata": {
        "id": "NfMG8VPwxbhA"
      },
      "source": [
        "### Анализ выручки и среднего чека"
      ]
    },
    {
      "cell_type": "markdown",
      "metadata": {
        "id": "dUiiuqGPxbhA"
      },
      "source": [
        "#### Анализ кумулятивной выручки по группам"
      ]
    },
    {
      "cell_type": "markdown",
      "metadata": {
        "id": "CIypbvMrxbhB"
      },
      "source": [
        "При анализе A/B-теста рассматривают данные не за каждый день теста, а накопленный итог и его динамику. Это помогает исклучить проблему подглядывания и увидеть, когда данные стабилизировались, чтобы принять решение об окончании или продолжении A/B-теста."
      ]
    },
    {
      "cell_type": "markdown",
      "metadata": {
        "id": "hTncVE0AxbhC"
      },
      "source": [
        "Сгруппируем данные по дням, заказам и пользователям."
      ]
    },
    {
      "cell_type": "code",
      "execution_count": null,
      "metadata": {
        "id": "H6-yM0SnxbhD",
        "outputId": "ae583388-f0f3-4a57-ef29-2417b912891f"
      },
      "outputs": [
        {
          "data": {
            "text/html": [
              "<div>\n",
              "<style scoped>\n",
              "    .dataframe tbody tr th:only-of-type {\n",
              "        vertical-align: middle;\n",
              "    }\n",
              "\n",
              "    .dataframe tbody tr th {\n",
              "        vertical-align: top;\n",
              "    }\n",
              "\n",
              "    .dataframe thead th {\n",
              "        text-align: right;\n",
              "    }\n",
              "</style>\n",
              "<table border=\"1\" class=\"dataframe\">\n",
              "  <thead>\n",
              "    <tr style=\"text-align: right;\">\n",
              "      <th></th>\n",
              "      <th>date</th>\n",
              "      <th>group</th>\n",
              "      <th>orders</th>\n",
              "      <th>buyers</th>\n",
              "      <th>revenue</th>\n",
              "      <th>visitors</th>\n",
              "    </tr>\n",
              "  </thead>\n",
              "  <tbody>\n",
              "    <tr>\n",
              "      <th>0</th>\n",
              "      <td>2019-08-01</td>\n",
              "      <td>A</td>\n",
              "      <td>24</td>\n",
              "      <td>20</td>\n",
              "      <td>148579</td>\n",
              "      <td>719</td>\n",
              "    </tr>\n",
              "    <tr>\n",
              "      <th>1</th>\n",
              "      <td>2019-08-01</td>\n",
              "      <td>B</td>\n",
              "      <td>21</td>\n",
              "      <td>20</td>\n",
              "      <td>101217</td>\n",
              "      <td>713</td>\n",
              "    </tr>\n",
              "    <tr>\n",
              "      <th>2</th>\n",
              "      <td>2019-08-02</td>\n",
              "      <td>A</td>\n",
              "      <td>44</td>\n",
              "      <td>38</td>\n",
              "      <td>242401</td>\n",
              "      <td>1338</td>\n",
              "    </tr>\n",
              "    <tr>\n",
              "      <th>3</th>\n",
              "      <td>2019-08-02</td>\n",
              "      <td>B</td>\n",
              "      <td>45</td>\n",
              "      <td>43</td>\n",
              "      <td>266748</td>\n",
              "      <td>1294</td>\n",
              "    </tr>\n",
              "    <tr>\n",
              "      <th>4</th>\n",
              "      <td>2019-08-03</td>\n",
              "      <td>A</td>\n",
              "      <td>68</td>\n",
              "      <td>62</td>\n",
              "      <td>354874</td>\n",
              "      <td>1845</td>\n",
              "    </tr>\n",
              "  </tbody>\n",
              "</table>\n",
              "</div>"
            ],
            "text/plain": [
              "        date group  orders  buyers  revenue  visitors\n",
              "0 2019-08-01     A      24      20   148579       719\n",
              "1 2019-08-01     B      21      20   101217       713\n",
              "2 2019-08-02     A      44      38   242401      1338\n",
              "3 2019-08-02     B      45      43   266748      1294\n",
              "4 2019-08-03     A      68      62   354874      1845"
            ]
          },
          "execution_count": 237,
          "metadata": {},
          "output_type": "execute_result"
        }
      ],
      "source": [
        "# создадим таблицу с уникальными датами с указанием групп, чтобы распределить по ним данные о выручке и клиентах\n",
        "datesGroups = orders[['date', 'group']].drop_duplicates()\n",
        "\n",
        "# считаем кумулятивную выручку для каждой группы в каждую дату по возрастанию\n",
        "ordersAggregated = (datesGroups.apply(lambda x:\n",
        "                                     orders[np.logical_and(orders['date'] <= x['date'],\n",
        "                                                           orders['group']==x['group'])]\n",
        "                                     .agg({'date' : 'max',\n",
        "                                           'group' : 'max',\n",
        "                                           'transactionId' : 'nunique',\n",
        "                                           'visitorId' : 'nunique',\n",
        "                                           'revenue' : 'sum'}), axis=1)\n",
        "                    .sort_values(by=['date','group']))\n",
        "\n",
        "# считаем количество посетителей нарастающим итогом\n",
        "visitorsAggregated = (datesGroups.apply(lambda x:\n",
        "                                        visitors[np.logical_and(visitors['date'] <= x['date'],\n",
        "                                                                visitors['group']==x['group'])]\n",
        "                                        .agg({'date':'max', 'group':'max', 'visitors':'sum'}), axis=1)\n",
        "                      .sort_values(by=['date','group']))\n",
        "\n",
        "# объединим данные о сумме заказов и количестве посетителей\n",
        "cumulativeData = ordersAggregated.merge(visitorsAggregated, left_on=['date', 'group'], right_on=['date', 'group'])\n",
        "# переименуем столбцы\n",
        "cumulativeData.columns = ['date', 'group', 'orders', 'buyers', 'revenue', 'visitors']\n",
        "\n",
        "cumulativeData.head()"
      ]
    },
    {
      "cell_type": "markdown",
      "metadata": {
        "id": "_bUWzY9fxbhD"
      },
      "source": [
        "Разобьем датасет с накоплением на подгруппы 'cumulativeData' и построим графики изменения выручки по дням."
      ]
    },
    {
      "cell_type": "code",
      "execution_count": null,
      "metadata": {
        "id": "Hst9NRglxbhE",
        "outputId": "caad796e-f28f-47d2-ed03-ff50d606b42e"
      },
      "outputs": [
        {
          "data": {
            "text/plain": [
              "Text(0, 0.5, 'Выручка, млн. руб.')"
            ]
          },
          "execution_count": 238,
          "metadata": {},
          "output_type": "execute_result"
        },
        {
          "data": {
            "image/png": "[encoded data removed]",
            "text/plain": [
              "<Figure size 864x432 with 1 Axes>"
            ]
          },
          "metadata": {
            "needs_background": "light"
          },
          "output_type": "display_data"
        }
      ],
      "source": [
        "cumulativeRevenueA = cumulativeData[cumulativeData['group']=='A'][['date','revenue', 'orders']]\n",
        "\n",
        "cumulativeRevenueB = cumulativeData[cumulativeData['group']=='B'][['date','revenue', 'orders']]\n",
        "\n",
        "# зададим размер осей\n",
        "plt.subplots(figsize=(12, 6))\n",
        "\n",
        "# построим график выручки группы А\n",
        "plt.plot(cumulativeRevenueA['date'], cumulativeRevenueA['revenue'], label='A')\n",
        "\n",
        "# построим график выручки группы B\n",
        "plt.plot(cumulativeRevenueB['date'], cumulativeRevenueB['revenue'], label='B')\n",
        "\n",
        "# добавим сетку и легенду\n",
        "plt.grid()\n",
        "plt.legend()\n",
        "plt.title('Динамика кумулятивной выручки по дням')\n",
        "plt.xlabel('Дата')\n",
        "plt.ylabel('Выручка, млн. руб.')"
      ]
    },
    {
      "cell_type": "markdown",
      "metadata": {
        "id": "HNnG40SjxbhG"
      },
      "source": [
        "По графику видно, что в наблюдаемой группе B выручка по дням не сильно превышала кумулятивную выручку в группе A до 18 августа. Но с 19 августа она стала почти в 2 раза больше. С одной стороны это может свидетельствовать, что внедренные изменения сработали и выручка интернет-магазина выросла. Но с другой стороны такой скачкообразный рост за один день может указывать о каком-то большом заказе, который является аномальным. Продолжим дальше проверять данные."
      ]
    },
    {
      "cell_type": "markdown",
      "metadata": {
        "id": "saqkdV9JxbhH"
      },
      "source": [
        "#### Анализ кумулятивного среднего чека по группам"
      ]
    },
    {
      "cell_type": "markdown",
      "metadata": {
        "id": "aCLxE7KQxbhH"
      },
      "source": [
        "Посмотрим, как менялся средний чек в исходной и наблюдаемой группах."
      ]
    },
    {
      "cell_type": "code",
      "execution_count": null,
      "metadata": {
        "id": "MBoLFuFTxbhH",
        "outputId": "62509b1b-d2a1-449f-8146-0444dd961945"
      },
      "outputs": [
        {
          "data": {
            "text/plain": [
              "Text(0, 0.5, 'Средний чек, руб.')"
            ]
          },
          "execution_count": 239,
          "metadata": {},
          "output_type": "execute_result"
        },
        {
          "data": {
            "image/png": "[encoded data removed]",
            "text/plain": [
              "<Figure size 864x432 with 1 Axes>"
            ]
          },
          "metadata": {
            "needs_background": "light"
          },
          "output_type": "display_data"
        }
      ],
      "source": [
        "# зададим оси\n",
        "plt.subplots(figsize=(12, 6))\n",
        "\n",
        "# посчитаем средний чек по накопленным данным и построим график\n",
        "plt.plot(cumulativeRevenueA['date'], cumulativeRevenueA['revenue']/cumulativeRevenueA['orders'], label='A')\n",
        "plt.plot(cumulativeRevenueB['date'], cumulativeRevenueB['revenue']/cumulativeRevenueB['orders'], label='B')\n",
        "\n",
        "# добавим сетку и легенду\n",
        "plt.grid()\n",
        "plt.legend()\n",
        "plt.title('Динамика кумулятивного среднего чека по дням')\n",
        "plt.xlabel('Дата')\n",
        "plt.ylabel('Средний чек, руб.')"
      ]
    },
    {
      "cell_type": "markdown",
      "metadata": {
        "id": "vVbGygmUxbhI"
      },
      "source": [
        "Как и на графике с кумулятивной выручкой, резкое увеличение среднего чека в группе B произошло 18 августа. Это значит, что выручка в этот день увеличилась сильнее, чем количество клиентов. Предположение о влиянии выброса в сумме заказов выглядит теперь более правдоподобным."
      ]
    },
    {
      "cell_type": "markdown",
      "metadata": {
        "id": "Z-akBb8YxbhJ"
      },
      "source": [
        "#### Расчет изменения кумулятивного среднего чека"
      ]
    },
    {
      "cell_type": "markdown",
      "metadata": {
        "id": "SBGFBvxtxbhJ"
      },
      "source": [
        "Рассчитаем, насколько изменился средний чек в наблюдаемый период и построим график."
      ]
    },
    {
      "cell_type": "code",
      "execution_count": null,
      "metadata": {
        "id": "rVXKDdQKxbhK",
        "outputId": "3c53c145-0fb3-472a-85ce-8c2f15f615d3"
      },
      "outputs": [
        {
          "data": {
            "text/plain": [
              "Text(0.5, 0, 'Дата')"
            ]
          },
          "execution_count": 240,
          "metadata": {},
          "output_type": "execute_result"
        },
        {
          "data": {
            "image/png": "[encoded data removed]",
            "text/plain": [
              "<Figure size 864x432 with 1 Axes>"
            ]
          },
          "metadata": {
            "needs_background": "light"
          },
          "output_type": "display_data"
        }
      ],
      "source": [
        "# объединим данные по группам в одном датафрейме\n",
        "mergedCumulativeRevenue = (cumulativeRevenueA\n",
        "                           .merge(cumulativeRevenueB,\n",
        "                                  left_on='date',\n",
        "                                  right_on='date',\n",
        "                                  how='left',\n",
        "                                  suffixes=['A', 'B']))\n",
        "# зададим оси\n",
        "plt.subplots(figsize=(12, 6))\n",
        "\n",
        "# построим график отношения средних чеков\n",
        "plt.plot(mergedCumulativeRevenue['date'],\n",
        "         (mergedCumulativeRevenue['revenueB']/mergedCumulativeRevenue['ordersB'])\n",
        "         /(mergedCumulativeRevenue['revenueA']/mergedCumulativeRevenue['ordersA'])-1)\n",
        "\n",
        "# добавляем ось X и сетку\n",
        "plt.axhline(y=0, color='black', linestyle='--')\n",
        "plt.grid()\n",
        "plt.title('Относительный прирост среднего чека группы B относительно группы A')\n",
        "plt.xlabel('Дата')"
      ]
    },
    {
      "cell_type": "markdown",
      "metadata": {
        "id": "S4pRdvUfxbhK"
      },
      "source": [
        "До 18 августа отношение среднего чека в наблюдаемой и исходной группе было нестабильно. Затем произошел скачкообразный рост показатели, но в дальнейшем он снижался. Это говорит о том, что внедренные изменения не позволили добиться стабильного результата для целевой метрики. Однако, и на этот показатель могут влиять выбросы. Поэтому делать окончательные выводы рано."
      ]
    },
    {
      "cell_type": "markdown",
      "metadata": {
        "id": "2JDZJiuOxbhL"
      },
      "source": [
        "### Анализ изменения среднего количества заказов"
      ]
    },
    {
      "cell_type": "markdown",
      "metadata": {
        "id": "J_pS95KlxbhM"
      },
      "source": [
        "#### Расчет среднего количества заказов по группам"
      ]
    },
    {
      "cell_type": "markdown",
      "metadata": {
        "id": "wjGBj3TUxbhM"
      },
      "source": [
        "Добавим в таблицу с накопленными данными столбец 'conversion', в котором посчитаем количество заказов на посетителя в наблюдаемой и исходной группах."
      ]
    },
    {
      "cell_type": "code",
      "execution_count": null,
      "metadata": {
        "id": "cdDuJLEIxbhN"
      },
      "outputs": [],
      "source": [
        "# считаем кумулятивную конверсию\n",
        "cumulativeData['conversion'] = cumulativeData['orders']/cumulativeData['visitors']\n",
        "\n",
        "# отделяем данные по группе A\n",
        "cumulativeDataA = cumulativeData[cumulativeData['group']=='A']\n",
        "\n",
        "# отделяем данные по группе B\n",
        "cumulativeDataB = cumulativeData[cumulativeData['group']=='B']"
      ]
    },
    {
      "cell_type": "markdown",
      "metadata": {
        "id": "74atEXPpxbhN"
      },
      "source": [
        "Построим графики для изучения динамики."
      ]
    },
    {
      "cell_type": "code",
      "execution_count": null,
      "metadata": {
        "id": "SNiH7nH0xbhO",
        "outputId": "f8e494a0-4632-44f6-c741-12b362ad5e23"
      },
      "outputs": [
        {
          "data": {
            "text/plain": [
              "Text(0, 0.5, 'Выручка, млн. руб.')"
            ]
          },
          "execution_count": 242,
          "metadata": {},
          "output_type": "execute_result"
        },
        {
          "data": {
            "image/png": "[encoded data removed]",
            "text/plain": [
              "<Figure size 864x432 with 1 Axes>"
            ]
          },
          "metadata": {
            "needs_background": "light"
          },
          "output_type": "display_data"
        }
      ],
      "source": [
        "# задаем оси\n",
        "plt.subplots(figsize=(12, 6))\n",
        "\n",
        "# строим графики\n",
        "plt.plot(cumulativeDataA['date'], cumulativeDataA['conversion'], label='A')\n",
        "plt.plot(cumulativeDataB['date'], cumulativeDataB['conversion'], label='B')\n",
        "plt.legend()\n",
        "\n",
        "# задаем масштаб осей и отображение сетки\n",
        "plt.axis([dt.datetime(2019, 8, 1), dt.datetime(2019, 8, 31), 0, 0.05])\n",
        "plt.grid()\n",
        "plt.title('Изменение кумулятивной выручки по дням')\n",
        "plt.xlabel('Дата')\n",
        "plt.ylabel('Выручка, млн. руб.')"
      ]
    },
    {
      "cell_type": "markdown",
      "metadata": {
        "id": "msohIV0OxbhP"
      },
      "source": [
        "Среднее количество заказов в группе A на короткий отрезок времени превышало среднее количество заказов в группе B, начиная с 6 августа, стало стабильно выше. Количество заказов - опережающая метрика для выручки. И даже ее небольшое увеличение может оказать существенное влияние на доходы интернет-магазина."
      ]
    },
    {
      "cell_type": "markdown",
      "metadata": {
        "id": "v0ImE8RzxbhQ"
      },
      "source": [
        "#### Расчет относительного изменения среднего количества заказов"
      ]
    },
    {
      "cell_type": "markdown",
      "metadata": {
        "id": "uxyurlvAxbhQ"
      },
      "source": [
        "Посчитаем относительное изменение кумулятивного среднего количества заказов в группе B по отношению к группе A и построим график."
      ]
    },
    {
      "cell_type": "code",
      "execution_count": null,
      "metadata": {
        "id": "ELljhU_QxbhQ",
        "outputId": "6901103d-ceed-474b-b603-4bc22c6d99a7"
      },
      "outputs": [
        {
          "data": {
            "text/plain": [
              "(18109.0, 18139.0, -0.5, 0.5)"
            ]
          },
          "execution_count": 243,
          "metadata": {},
          "output_type": "execute_result"
        },
        {
          "data": {
            "image/png": "[encoded data removed]",
            "text/plain": [
              "<Figure size 864x432 with 1 Axes>"
            ]
          },
          "metadata": {
            "needs_background": "light"
          },
          "output_type": "display_data"
        }
      ],
      "source": [
        "# объединим таблицы с конверсиями в группах\n",
        "mergedCumulativeConversions = (cumulativeDataA[['date','conversion']]\n",
        "                               .merge(cumulativeDataB[['date','conversion']],\n",
        "                                      left_on='date',\n",
        "                                      right_on='date',\n",
        "                                      how='left',\n",
        "                                      suffixes=['A', 'B']))\n",
        "\n",
        "# зададим оси\n",
        "plt.subplots(figsize=(12, 6))\n",
        "\n",
        "# построим график отношения среднего количества заказов\n",
        "plt.plot(mergedCumulativeConversions['date'],\n",
        "         mergedCumulativeConversions['conversionB']/mergedCumulativeConversions['conversionA']-1,\n",
        "         label='Относительный прирост конверсии группы B относительно группы A')\n",
        "plt.grid()\n",
        "plt.legend()\n",
        "\n",
        "# добавим вспомогательные линии и масштаб осей\n",
        "plt.axhline(y=0, color='black', linestyle='--')\n",
        "plt.axhline(y=0.2, color='grey', linestyle='--')\n",
        "plt.axis([dt.datetime(2019, 8, 1), dt.datetime(2019, 8, 31), -0.5, 0.5])"
      ]
    },
    {
      "cell_type": "markdown",
      "metadata": {
        "id": "9zzW6xYZxbhR"
      },
      "source": [
        "Также как на графике конверсии, относительная разница среднего количества заказов в группе В по сравнению с группой A околонулевая до 7 августа. Но с 15 по 17 августа она достигла максимально значения в 20% и по итогам месяца сохранилась на уровне около 16%."
      ]
    },
    {
      "cell_type": "markdown",
      "metadata": {
        "id": "2A7RtxBhxbhS"
      },
      "source": [
        "### Сравнительный анализ \"сырых\" и \"очищенных\" результатов  A/B-теста"
      ]
    },
    {
      "cell_type": "markdown",
      "metadata": {
        "id": "Vd4NzBC2xbhT"
      },
      "source": [
        "#### Анализ количества заказов по пользователям"
      ]
    },
    {
      "cell_type": "markdown",
      "metadata": {
        "id": "wN3DjdzmxbhT"
      },
      "source": [
        "Еще раз построим график количества заказов по пользователям, но сделаем это в формате scatter-plot."
      ]
    },
    {
      "cell_type": "code",
      "execution_count": null,
      "metadata": {
        "id": "zgpTXUXUxbhU",
        "outputId": "98254715-a618-47c6-e855-a45c871e64d1"
      },
      "outputs": [
        {
          "data": {
            "text/html": [
              "<div>\n",
              "<style scoped>\n",
              "    .dataframe tbody tr th:only-of-type {\n",
              "        vertical-align: middle;\n",
              "    }\n",
              "\n",
              "    .dataframe tbody tr th {\n",
              "        vertical-align: top;\n",
              "    }\n",
              "\n",
              "    .dataframe thead th {\n",
              "        text-align: right;\n",
              "    }\n",
              "</style>\n",
              "<table border=\"1\" class=\"dataframe\">\n",
              "  <thead>\n",
              "    <tr style=\"text-align: right;\">\n",
              "      <th></th>\n",
              "      <th>transactionId</th>\n",
              "      <th>visitorId</th>\n",
              "      <th>date</th>\n",
              "      <th>revenue</th>\n",
              "      <th>group</th>\n",
              "    </tr>\n",
              "  </thead>\n",
              "  <tbody>\n",
              "    <tr>\n",
              "      <th>0</th>\n",
              "      <td>3667963787</td>\n",
              "      <td>3312258926</td>\n",
              "      <td>2019-08-15</td>\n",
              "      <td>1650</td>\n",
              "      <td>B</td>\n",
              "    </tr>\n",
              "    <tr>\n",
              "      <th>1</th>\n",
              "      <td>2804400009</td>\n",
              "      <td>3642806036</td>\n",
              "      <td>2019-08-15</td>\n",
              "      <td>730</td>\n",
              "      <td>B</td>\n",
              "    </tr>\n",
              "    <tr>\n",
              "      <th>2</th>\n",
              "      <td>2961555356</td>\n",
              "      <td>4069496402</td>\n",
              "      <td>2019-08-15</td>\n",
              "      <td>400</td>\n",
              "      <td>A</td>\n",
              "    </tr>\n",
              "    <tr>\n",
              "      <th>3</th>\n",
              "      <td>3797467345</td>\n",
              "      <td>1196621759</td>\n",
              "      <td>2019-08-15</td>\n",
              "      <td>9759</td>\n",
              "      <td>B</td>\n",
              "    </tr>\n",
              "    <tr>\n",
              "      <th>4</th>\n",
              "      <td>2282983706</td>\n",
              "      <td>2322279887</td>\n",
              "      <td>2019-08-15</td>\n",
              "      <td>2308</td>\n",
              "      <td>B</td>\n",
              "    </tr>\n",
              "    <tr>\n",
              "      <th>...</th>\n",
              "      <td>...</td>\n",
              "      <td>...</td>\n",
              "      <td>...</td>\n",
              "      <td>...</td>\n",
              "      <td>...</td>\n",
              "    </tr>\n",
              "    <tr>\n",
              "      <th>1192</th>\n",
              "      <td>2662137336</td>\n",
              "      <td>3733762160</td>\n",
              "      <td>2019-08-14</td>\n",
              "      <td>6490</td>\n",
              "      <td>B</td>\n",
              "    </tr>\n",
              "    <tr>\n",
              "      <th>1193</th>\n",
              "      <td>2203539145</td>\n",
              "      <td>370388673</td>\n",
              "      <td>2019-08-14</td>\n",
              "      <td>3190</td>\n",
              "      <td>A</td>\n",
              "    </tr>\n",
              "    <tr>\n",
              "      <th>1194</th>\n",
              "      <td>1807773912</td>\n",
              "      <td>573423106</td>\n",
              "      <td>2019-08-14</td>\n",
              "      <td>10550</td>\n",
              "      <td>A</td>\n",
              "    </tr>\n",
              "    <tr>\n",
              "      <th>1195</th>\n",
              "      <td>1947021204</td>\n",
              "      <td>1614305549</td>\n",
              "      <td>2019-08-14</td>\n",
              "      <td>100</td>\n",
              "      <td>A</td>\n",
              "    </tr>\n",
              "    <tr>\n",
              "      <th>1196</th>\n",
              "      <td>3936777065</td>\n",
              "      <td>2108080724</td>\n",
              "      <td>2019-08-15</td>\n",
              "      <td>202740</td>\n",
              "      <td>B</td>\n",
              "    </tr>\n",
              "  </tbody>\n",
              "</table>\n",
              "<p>1197 rows × 5 columns</p>\n",
              "</div>"
            ],
            "text/plain": [
              "      transactionId   visitorId       date  revenue group\n",
              "0        3667963787  3312258926 2019-08-15     1650     B\n",
              "1        2804400009  3642806036 2019-08-15      730     B\n",
              "2        2961555356  4069496402 2019-08-15      400     A\n",
              "3        3797467345  1196621759 2019-08-15     9759     B\n",
              "4        2282983706  2322279887 2019-08-15     2308     B\n",
              "...             ...         ...        ...      ...   ...\n",
              "1192     2662137336  3733762160 2019-08-14     6490     B\n",
              "1193     2203539145   370388673 2019-08-14     3190     A\n",
              "1194     1807773912   573423106 2019-08-14    10550     A\n",
              "1195     1947021204  1614305549 2019-08-14      100     A\n",
              "1196     3936777065  2108080724 2019-08-15   202740     B\n",
              "\n",
              "[1197 rows x 5 columns]"
            ]
          },
          "execution_count": 244,
          "metadata": {},
          "output_type": "execute_result"
        }
      ],
      "source": [
        "orders"
      ]
    },
    {
      "cell_type": "code",
      "execution_count": null,
      "metadata": {
        "id": "7AgT1lVQxbhV",
        "outputId": "e5803e7d-1cd9-4703-f5cd-a4ccc86ac7f5"
      },
      "outputs": [
        {
          "data": {
            "text/html": [
              "<div>\n",
              "<style scoped>\n",
              "    .dataframe tbody tr th:only-of-type {\n",
              "        vertical-align: middle;\n",
              "    }\n",
              "\n",
              "    .dataframe tbody tr th {\n",
              "        vertical-align: top;\n",
              "    }\n",
              "\n",
              "    .dataframe thead th {\n",
              "        text-align: right;\n",
              "    }\n",
              "</style>\n",
              "<table border=\"1\" class=\"dataframe\">\n",
              "  <thead>\n",
              "    <tr style=\"text-align: right;\">\n",
              "      <th></th>\n",
              "      <th>userId</th>\n",
              "      <th>orders</th>\n",
              "    </tr>\n",
              "  </thead>\n",
              "  <tbody>\n",
              "    <tr>\n",
              "      <th>1023</th>\n",
              "      <td>4256040402</td>\n",
              "      <td>11</td>\n",
              "    </tr>\n",
              "    <tr>\n",
              "      <th>591</th>\n",
              "      <td>2458001652</td>\n",
              "      <td>11</td>\n",
              "    </tr>\n",
              "    <tr>\n",
              "      <th>569</th>\n",
              "      <td>2378935119</td>\n",
              "      <td>9</td>\n",
              "    </tr>\n",
              "    <tr>\n",
              "      <th>487</th>\n",
              "      <td>2038680547</td>\n",
              "      <td>8</td>\n",
              "    </tr>\n",
              "    <tr>\n",
              "      <th>44</th>\n",
              "      <td>199603092</td>\n",
              "      <td>5</td>\n",
              "    </tr>\n",
              "    <tr>\n",
              "      <th>744</th>\n",
              "      <td>3062433592</td>\n",
              "      <td>5</td>\n",
              "    </tr>\n",
              "    <tr>\n",
              "      <th>55</th>\n",
              "      <td>237748145</td>\n",
              "      <td>5</td>\n",
              "    </tr>\n",
              "    <tr>\n",
              "      <th>917</th>\n",
              "      <td>3803269165</td>\n",
              "      <td>5</td>\n",
              "    </tr>\n",
              "    <tr>\n",
              "      <th>299</th>\n",
              "      <td>1230306981</td>\n",
              "      <td>5</td>\n",
              "    </tr>\n",
              "    <tr>\n",
              "      <th>897</th>\n",
              "      <td>3717692402</td>\n",
              "      <td>5</td>\n",
              "    </tr>\n",
              "  </tbody>\n",
              "</table>\n",
              "</div>"
            ],
            "text/plain": [
              "          userId  orders\n",
              "1023  4256040402      11\n",
              "591   2458001652      11\n",
              "569   2378935119       9\n",
              "487   2038680547       8\n",
              "44     199603092       5\n",
              "744   3062433592       5\n",
              "55     237748145       5\n",
              "917   3803269165       5\n",
              "299   1230306981       5\n",
              "897   3717692402       5"
            ]
          },
          "execution_count": 245,
          "metadata": {},
          "output_type": "execute_result"
        }
      ],
      "source": [
        "# сгруппируем количество заказов по пользователям\n",
        "ordersByUsers = (\n",
        "    orders.groupby('visitorId', as_index=False)\n",
        "    .agg({'transactionId': 'nunique'})\n",
        ")\n",
        "ordersByUsers.columns = ['userId', 'orders']\n",
        "\n",
        "ordersByUsers.sort_values(by='orders', ascending=False).head(10)"
      ]
    },
    {
      "cell_type": "code",
      "execution_count": null,
      "metadata": {
        "id": "JgFGrJXjxbhV",
        "outputId": "102c04fe-67a7-43f5-ccbb-69f207a6949b"
      },
      "outputs": [
        {
          "data": {
            "text/plain": [
              "Text(0, 0.5, 'Количество покупок')"
            ]
          },
          "execution_count": 246,
          "metadata": {},
          "output_type": "execute_result"
        },
        {
          "data": {
            "image/png": "[encoded data removed]",
            "text/plain": [
              "<Figure size 432x288 with 1 Axes>"
            ]
          },
          "metadata": {
            "needs_background": "light"
          },
          "output_type": "display_data"
        }
      ],
      "source": [
        "# серия из чисел от 0 до количества наблюдений в ordersByUsers\n",
        "x_values = pd.Series(range(0, len(ordersByUsers)))\n",
        "plt.scatter(x_values, ordersByUsers['orders'])\n",
        "plt.title('Количество покупок на покупателя')\n",
        "plt.xlabel('Покупатель, №')\n",
        "plt.ylabel('Количество покупок')"
      ]
    },
    {
      "cell_type": "markdown",
      "metadata": {
        "id": "NN66VtvsxbhW"
      },
      "source": [
        "Как и гистограмма, точечная диаграмма подтверждает, что большинство пользователей делают 1-2 заказа. Чтобы понять, какая доля пользователей делает большое количество заказов, рассчитаем перцентили распределения количества заказов."
      ]
    },
    {
      "cell_type": "code",
      "execution_count": null,
      "metadata": {
        "id": "aUjW1vjsxbhW",
        "outputId": "4537df7e-22c4-4f2c-d039-aafe87432fbe"
      },
      "outputs": [
        {
          "data": {
            "text/plain": [
              "array([2., 4.])"
            ]
          },
          "execution_count": 247,
          "metadata": {},
          "output_type": "execute_result"
        }
      ],
      "source": [
        "np.percentile(ordersByUsers['orders'], [95, 99])"
      ]
    },
    {
      "cell_type": "markdown",
      "metadata": {
        "id": "gPOJrcemxbhX"
      },
      "source": [
        "Не более 5% пользователей делали больше 2 заказов, и не более 1% пользователей делали больше 3 заказов. Таким образом, за верхнюю границу нормального числа заказов возьмем 4, а 5 и более заказов будем считать аномальными значениями."
      ]
    },
    {
      "cell_type": "markdown",
      "metadata": {
        "id": "H13jJOhTxbhY"
      },
      "source": [
        "#### Анализ средней стоимости заказов"
      ]
    },
    {
      "cell_type": "markdown",
      "metadata": {
        "id": "AleA8s_HxbhY"
      },
      "source": [
        "Также как и для количества заказов, построим точечную диаграмму стоимостей заказов."
      ]
    },
    {
      "cell_type": "code",
      "execution_count": null,
      "metadata": {
        "id": "2O6dudDJxbhZ",
        "outputId": "b600bc28-9c96-43b6-e803-cbe855cb2f8f"
      },
      "outputs": [
        {
          "data": {
            "text/html": [
              "<div>\n",
              "<style scoped>\n",
              "    .dataframe tbody tr th:only-of-type {\n",
              "        vertical-align: middle;\n",
              "    }\n",
              "\n",
              "    .dataframe tbody tr th {\n",
              "        vertical-align: top;\n",
              "    }\n",
              "\n",
              "    .dataframe thead th {\n",
              "        text-align: right;\n",
              "    }\n",
              "</style>\n",
              "<table border=\"1\" class=\"dataframe\">\n",
              "  <thead>\n",
              "    <tr style=\"text-align: right;\">\n",
              "      <th></th>\n",
              "      <th>transactionId</th>\n",
              "      <th>visitorId</th>\n",
              "      <th>date</th>\n",
              "      <th>revenue</th>\n",
              "      <th>group</th>\n",
              "    </tr>\n",
              "  </thead>\n",
              "  <tbody>\n",
              "    <tr>\n",
              "      <th>425</th>\n",
              "      <td>590470918</td>\n",
              "      <td>1920142716</td>\n",
              "      <td>2019-08-19</td>\n",
              "      <td>1294500</td>\n",
              "      <td>B</td>\n",
              "    </tr>\n",
              "    <tr>\n",
              "      <th>1196</th>\n",
              "      <td>3936777065</td>\n",
              "      <td>2108080724</td>\n",
              "      <td>2019-08-15</td>\n",
              "      <td>202740</td>\n",
              "      <td>B</td>\n",
              "    </tr>\n",
              "    <tr>\n",
              "      <th>858</th>\n",
              "      <td>192721366</td>\n",
              "      <td>1316129916</td>\n",
              "      <td>2019-08-27</td>\n",
              "      <td>93940</td>\n",
              "      <td>A</td>\n",
              "    </tr>\n",
              "    <tr>\n",
              "      <th>1136</th>\n",
              "      <td>666610489</td>\n",
              "      <td>1307669133</td>\n",
              "      <td>2019-08-13</td>\n",
              "      <td>92550</td>\n",
              "      <td>A</td>\n",
              "    </tr>\n",
              "    <tr>\n",
              "      <th>744</th>\n",
              "      <td>3668308183</td>\n",
              "      <td>888512513</td>\n",
              "      <td>2019-08-27</td>\n",
              "      <td>86620</td>\n",
              "      <td>B</td>\n",
              "    </tr>\n",
              "    <tr>\n",
              "      <th>682</th>\n",
              "      <td>1216533772</td>\n",
              "      <td>4266935830</td>\n",
              "      <td>2019-08-29</td>\n",
              "      <td>78990</td>\n",
              "      <td>B</td>\n",
              "    </tr>\n",
              "    <tr>\n",
              "      <th>662</th>\n",
              "      <td>1811671147</td>\n",
              "      <td>4266935830</td>\n",
              "      <td>2019-08-29</td>\n",
              "      <td>78990</td>\n",
              "      <td>A</td>\n",
              "    </tr>\n",
              "    <tr>\n",
              "      <th>743</th>\n",
              "      <td>3603576309</td>\n",
              "      <td>4133034833</td>\n",
              "      <td>2019-08-09</td>\n",
              "      <td>67990</td>\n",
              "      <td>A</td>\n",
              "    </tr>\n",
              "    <tr>\n",
              "      <th>1103</th>\n",
              "      <td>1348774318</td>\n",
              "      <td>1164614297</td>\n",
              "      <td>2019-08-12</td>\n",
              "      <td>66350</td>\n",
              "      <td>A</td>\n",
              "    </tr>\n",
              "    <tr>\n",
              "      <th>1099</th>\n",
              "      <td>316924019</td>\n",
              "      <td>148427295</td>\n",
              "      <td>2019-08-12</td>\n",
              "      <td>65710</td>\n",
              "      <td>A</td>\n",
              "    </tr>\n",
              "  </tbody>\n",
              "</table>\n",
              "</div>"
            ],
            "text/plain": [
              "      transactionId   visitorId       date  revenue group\n",
              "425       590470918  1920142716 2019-08-19  1294500     B\n",
              "1196     3936777065  2108080724 2019-08-15   202740     B\n",
              "858       192721366  1316129916 2019-08-27    93940     A\n",
              "1136      666610489  1307669133 2019-08-13    92550     A\n",
              "744      3668308183   888512513 2019-08-27    86620     B\n",
              "682      1216533772  4266935830 2019-08-29    78990     B\n",
              "662      1811671147  4266935830 2019-08-29    78990     A\n",
              "743      3603576309  4133034833 2019-08-09    67990     A\n",
              "1103     1348774318  1164614297 2019-08-12    66350     A\n",
              "1099      316924019   148427295 2019-08-12    65710     A"
            ]
          },
          "execution_count": 248,
          "metadata": {},
          "output_type": "execute_result"
        }
      ],
      "source": [
        "orders.sort_values(by='revenue', ascending=False).head(10)"
      ]
    },
    {
      "cell_type": "code",
      "execution_count": null,
      "metadata": {
        "id": "LFko6N_VxbhZ",
        "outputId": "e6ca0fcb-0db2-41f7-aeae-e4d26769e716"
      },
      "outputs": [
        {
          "data": {
            "text/plain": [
              "Text(0, 0.5, 'Сумма чеков')"
            ]
          },
          "execution_count": 249,
          "metadata": {},
          "output_type": "execute_result"
        },
        {
          "data": {
            "image/png": "[encoded data removed]",
            "text/plain": [
              "<Figure size 432x288 with 1 Axes>"
            ]
          },
          "metadata": {
            "needs_background": "light"
          },
          "output_type": "display_data"
        }
      ],
      "source": [
        "x_values = pd.Series(range(0, len(orders['revenue'])))\n",
        "plt.scatter(x_values, orders['revenue'])\n",
        "plt.title('Стоимость заказов')\n",
        "plt.xlabel('Заказ, №')\n",
        "plt.ylabel('Сумма чеков')"
      ]
    },
    {
      "cell_type": "markdown",
      "metadata": {
        "id": "3Hc8wKPwxbhb"
      },
      "source": [
        "Чтобы определить порог аномальный значений, рассчитаем 95-й и 99-й перцентиль стоимостей заказов."
      ]
    },
    {
      "cell_type": "code",
      "execution_count": null,
      "metadata": {
        "id": "gddxq6vTxbhc",
        "outputId": "4f9ba87c-5d48-4a4c-d43d-ef98311b6e3d"
      },
      "outputs": [
        {
          "data": {
            "text/plain": [
              "array([28000. , 58233.2])"
            ]
          },
          "execution_count": 250,
          "metadata": {},
          "output_type": "execute_result"
        }
      ],
      "source": [
        "np.percentile(orders['revenue'], [95, 99])"
      ]
    },
    {
      "cell_type": "markdown",
      "metadata": {
        "id": "cz43043yxbhc"
      },
      "source": [
        "Не более 5% заказов совершаются на сумму более 28 тыс. руб., и не более 1% заказов - на сумму более 59 тыс. руб. Примем эту стоимость за порог аномальных значений."
      ]
    },
    {
      "cell_type": "markdown",
      "metadata": {
        "id": "JbCRMAFvxbhe"
      },
      "source": [
        "#### Расчет статистической значимости различий"
      ]
    },
    {
      "cell_type": "markdown",
      "metadata": {
        "id": "bkT7HJOUxbhf"
      },
      "source": [
        "##### Разница в среднем количестве заказов в \"сырых\" данных"
      ]
    },
    {
      "cell_type": "markdown",
      "metadata": {
        "id": "c0hyBj1Fxbhf"
      },
      "source": [
        "Перед тем, как рассчитать статистическую значимость различий между средним количеством заказов в \"сырых\" и \"очищенных\" данных, как и в любом статистическом тесте необходимо сформулировать нулевую и альтернативную гипотезы:\n",
        "- Нулевая: различий в среднем количестве заказов между группами нет.\n",
        "- Альтернативная: различия в среднем между группами есть.\n",
        "\n",
        "Уровень статзначимости, по которой будем отвергать нулевую гипотезу, примем в размере 5%."
      ]
    },
    {
      "cell_type": "markdown",
      "metadata": {
        "id": "GhJLYKxLxbhh"
      },
      "source": [
        "Подготовим данные."
      ]
    },
    {
      "cell_type": "code",
      "execution_count": null,
      "metadata": {
        "id": "vHfPSFmrxbhi",
        "outputId": "05cb916e-dd19-44b4-ff62-081418415b33"
      },
      "outputs": [
        {
          "data": {
            "text/html": [
              "<div>\n",
              "<style scoped>\n",
              "    .dataframe tbody tr th:only-of-type {\n",
              "        vertical-align: middle;\n",
              "    }\n",
              "\n",
              "    .dataframe tbody tr th {\n",
              "        vertical-align: top;\n",
              "    }\n",
              "\n",
              "    .dataframe thead th {\n",
              "        text-align: right;\n",
              "    }\n",
              "</style>\n",
              "<table border=\"1\" class=\"dataframe\">\n",
              "  <thead>\n",
              "    <tr style=\"text-align: right;\">\n",
              "      <th></th>\n",
              "      <th>date</th>\n",
              "      <th>ordersPerDateA</th>\n",
              "      <th>revenuePerDateA</th>\n",
              "      <th>ordersPerDateB</th>\n",
              "      <th>revenuePerDateB</th>\n",
              "      <th>ordersCummulativeA</th>\n",
              "      <th>revenueCummulativeA</th>\n",
              "      <th>ordersCummulativeB</th>\n",
              "      <th>revenueCummulativeB</th>\n",
              "      <th>visitorsPerDateA</th>\n",
              "      <th>visitorsPerDateB</th>\n",
              "      <th>visitorsCummulativeA</th>\n",
              "      <th>visitorsCummulativeB</th>\n",
              "    </tr>\n",
              "  </thead>\n",
              "  <tbody>\n",
              "    <tr>\n",
              "      <th>0</th>\n",
              "      <td>2019-08-01</td>\n",
              "      <td>24</td>\n",
              "      <td>148579</td>\n",
              "      <td>21</td>\n",
              "      <td>101217</td>\n",
              "      <td>24</td>\n",
              "      <td>148579</td>\n",
              "      <td>21</td>\n",
              "      <td>101217</td>\n",
              "      <td>719</td>\n",
              "      <td>713</td>\n",
              "      <td>719</td>\n",
              "      <td>713</td>\n",
              "    </tr>\n",
              "    <tr>\n",
              "      <th>1</th>\n",
              "      <td>2019-08-02</td>\n",
              "      <td>20</td>\n",
              "      <td>93822</td>\n",
              "      <td>24</td>\n",
              "      <td>165531</td>\n",
              "      <td>44</td>\n",
              "      <td>242401</td>\n",
              "      <td>45</td>\n",
              "      <td>266748</td>\n",
              "      <td>619</td>\n",
              "      <td>581</td>\n",
              "      <td>1338</td>\n",
              "      <td>1294</td>\n",
              "    </tr>\n",
              "    <tr>\n",
              "      <th>2</th>\n",
              "      <td>2019-08-03</td>\n",
              "      <td>24</td>\n",
              "      <td>112473</td>\n",
              "      <td>16</td>\n",
              "      <td>114248</td>\n",
              "      <td>68</td>\n",
              "      <td>354874</td>\n",
              "      <td>61</td>\n",
              "      <td>380996</td>\n",
              "      <td>507</td>\n",
              "      <td>509</td>\n",
              "      <td>1845</td>\n",
              "      <td>1803</td>\n",
              "    </tr>\n",
              "    <tr>\n",
              "      <th>3</th>\n",
              "      <td>2019-08-04</td>\n",
              "      <td>16</td>\n",
              "      <td>70825</td>\n",
              "      <td>17</td>\n",
              "      <td>108571</td>\n",
              "      <td>84</td>\n",
              "      <td>425699</td>\n",
              "      <td>78</td>\n",
              "      <td>489567</td>\n",
              "      <td>717</td>\n",
              "      <td>770</td>\n",
              "      <td>2562</td>\n",
              "      <td>2573</td>\n",
              "    </tr>\n",
              "    <tr>\n",
              "      <th>4</th>\n",
              "      <td>2019-08-05</td>\n",
              "      <td>25</td>\n",
              "      <td>124218</td>\n",
              "      <td>23</td>\n",
              "      <td>92428</td>\n",
              "      <td>109</td>\n",
              "      <td>549917</td>\n",
              "      <td>101</td>\n",
              "      <td>581995</td>\n",
              "      <td>756</td>\n",
              "      <td>707</td>\n",
              "      <td>3318</td>\n",
              "      <td>3280</td>\n",
              "    </tr>\n",
              "    <tr>\n",
              "      <th>5</th>\n",
              "      <td>2019-08-06</td>\n",
              "      <td>18</td>\n",
              "      <td>48484</td>\n",
              "      <td>28</td>\n",
              "      <td>242342</td>\n",
              "      <td>127</td>\n",
              "      <td>598401</td>\n",
              "      <td>129</td>\n",
              "      <td>824337</td>\n",
              "      <td>667</td>\n",
              "      <td>655</td>\n",
              "      <td>3985</td>\n",
              "      <td>3935</td>\n",
              "    </tr>\n",
              "    <tr>\n",
              "      <th>6</th>\n",
              "      <td>2019-08-07</td>\n",
              "      <td>18</td>\n",
              "      <td>142417</td>\n",
              "      <td>24</td>\n",
              "      <td>225334</td>\n",
              "      <td>145</td>\n",
              "      <td>740818</td>\n",
              "      <td>153</td>\n",
              "      <td>1049671</td>\n",
              "      <td>644</td>\n",
              "      <td>709</td>\n",
              "      <td>4629</td>\n",
              "      <td>4644</td>\n",
              "    </tr>\n",
              "    <tr>\n",
              "      <th>7</th>\n",
              "      <td>2019-08-08</td>\n",
              "      <td>16</td>\n",
              "      <td>96279</td>\n",
              "      <td>27</td>\n",
              "      <td>220918</td>\n",
              "      <td>161</td>\n",
              "      <td>837097</td>\n",
              "      <td>180</td>\n",
              "      <td>1270589</td>\n",
              "      <td>610</td>\n",
              "      <td>654</td>\n",
              "      <td>5239</td>\n",
              "      <td>5298</td>\n",
              "    </tr>\n",
              "    <tr>\n",
              "      <th>8</th>\n",
              "      <td>2019-08-09</td>\n",
              "      <td>16</td>\n",
              "      <td>188506</td>\n",
              "      <td>25</td>\n",
              "      <td>160812</td>\n",
              "      <td>177</td>\n",
              "      <td>1025603</td>\n",
              "      <td>205</td>\n",
              "      <td>1431401</td>\n",
              "      <td>617</td>\n",
              "      <td>610</td>\n",
              "      <td>5856</td>\n",
              "      <td>5908</td>\n",
              "    </tr>\n",
              "    <tr>\n",
              "      <th>9</th>\n",
              "      <td>2019-08-10</td>\n",
              "      <td>16</td>\n",
              "      <td>210495</td>\n",
              "      <td>23</td>\n",
              "      <td>107802</td>\n",
              "      <td>193</td>\n",
              "      <td>1236098</td>\n",
              "      <td>228</td>\n",
              "      <td>1539203</td>\n",
              "      <td>406</td>\n",
              "      <td>369</td>\n",
              "      <td>6262</td>\n",
              "      <td>6277</td>\n",
              "    </tr>\n",
              "    <tr>\n",
              "      <th>10</th>\n",
              "      <td>2019-08-11</td>\n",
              "      <td>13</td>\n",
              "      <td>77585</td>\n",
              "      <td>13</td>\n",
              "      <td>53310</td>\n",
              "      <td>206</td>\n",
              "      <td>1313683</td>\n",
              "      <td>241</td>\n",
              "      <td>1592513</td>\n",
              "      <td>718</td>\n",
              "      <td>721</td>\n",
              "      <td>6980</td>\n",
              "      <td>6998</td>\n",
              "    </tr>\n",
              "    <tr>\n",
              "      <th>11</th>\n",
              "      <td>2019-08-12</td>\n",
              "      <td>24</td>\n",
              "      <td>249190</td>\n",
              "      <td>23</td>\n",
              "      <td>141554</td>\n",
              "      <td>230</td>\n",
              "      <td>1562873</td>\n",
              "      <td>264</td>\n",
              "      <td>1734067</td>\n",
              "      <td>595</td>\n",
              "      <td>543</td>\n",
              "      <td>7575</td>\n",
              "      <td>7541</td>\n",
              "    </tr>\n",
              "    <tr>\n",
              "      <th>12</th>\n",
              "      <td>2019-08-13</td>\n",
              "      <td>14</td>\n",
              "      <td>263638</td>\n",
              "      <td>21</td>\n",
              "      <td>119671</td>\n",
              "      <td>244</td>\n",
              "      <td>1826511</td>\n",
              "      <td>285</td>\n",
              "      <td>1853738</td>\n",
              "      <td>748</td>\n",
              "      <td>769</td>\n",
              "      <td>8323</td>\n",
              "      <td>8310</td>\n",
              "    </tr>\n",
              "    <tr>\n",
              "      <th>13</th>\n",
              "      <td>2019-08-14</td>\n",
              "      <td>24</td>\n",
              "      <td>64341</td>\n",
              "      <td>23</td>\n",
              "      <td>171708</td>\n",
              "      <td>268</td>\n",
              "      <td>1890852</td>\n",
              "      <td>308</td>\n",
              "      <td>2025446</td>\n",
              "      <td>735</td>\n",
              "      <td>746</td>\n",
              "      <td>9058</td>\n",
              "      <td>9056</td>\n",
              "    </tr>\n",
              "    <tr>\n",
              "      <th>14</th>\n",
              "      <td>2019-08-15</td>\n",
              "      <td>15</td>\n",
              "      <td>88205</td>\n",
              "      <td>31</td>\n",
              "      <td>342499</td>\n",
              "      <td>283</td>\n",
              "      <td>1979057</td>\n",
              "      <td>339</td>\n",
              "      <td>2367945</td>\n",
              "      <td>628</td>\n",
              "      <td>544</td>\n",
              "      <td>9686</td>\n",
              "      <td>9600</td>\n",
              "    </tr>\n",
              "    <tr>\n",
              "      <th>15</th>\n",
              "      <td>2019-08-16</td>\n",
              "      <td>18</td>\n",
              "      <td>99851</td>\n",
              "      <td>20</td>\n",
              "      <td>171690</td>\n",
              "      <td>301</td>\n",
              "      <td>2078908</td>\n",
              "      <td>359</td>\n",
              "      <td>2539635</td>\n",
              "      <td>361</td>\n",
              "      <td>413</td>\n",
              "      <td>10047</td>\n",
              "      <td>10013</td>\n",
              "    </tr>\n",
              "    <tr>\n",
              "      <th>16</th>\n",
              "      <td>2019-08-17</td>\n",
              "      <td>10</td>\n",
              "      <td>50861</td>\n",
              "      <td>14</td>\n",
              "      <td>81155</td>\n",
              "      <td>311</td>\n",
              "      <td>2129769</td>\n",
              "      <td>373</td>\n",
              "      <td>2620790</td>\n",
              "      <td>412</td>\n",
              "      <td>421</td>\n",
              "      <td>10459</td>\n",
              "      <td>10434</td>\n",
              "    </tr>\n",
              "    <tr>\n",
              "      <th>17</th>\n",
              "      <td>2019-08-18</td>\n",
              "      <td>17</td>\n",
              "      <td>72398</td>\n",
              "      <td>9</td>\n",
              "      <td>65831</td>\n",
              "      <td>328</td>\n",
              "      <td>2202167</td>\n",
              "      <td>382</td>\n",
              "      <td>2686621</td>\n",
              "      <td>668</td>\n",
              "      <td>737</td>\n",
              "      <td>11127</td>\n",
              "      <td>11171</td>\n",
              "    </tr>\n",
              "    <tr>\n",
              "      <th>18</th>\n",
              "      <td>2019-08-19</td>\n",
              "      <td>22</td>\n",
              "      <td>189743</td>\n",
              "      <td>21</td>\n",
              "      <td>1429920</td>\n",
              "      <td>350</td>\n",
              "      <td>2391910</td>\n",
              "      <td>403</td>\n",
              "      <td>4116541</td>\n",
              "      <td>502</td>\n",
              "      <td>487</td>\n",
              "      <td>11629</td>\n",
              "      <td>11658</td>\n",
              "    </tr>\n",
              "    <tr>\n",
              "      <th>19</th>\n",
              "      <td>2019-08-20</td>\n",
              "      <td>12</td>\n",
              "      <td>77619</td>\n",
              "      <td>20</td>\n",
              "      <td>147274</td>\n",
              "      <td>362</td>\n",
              "      <td>2469529</td>\n",
              "      <td>423</td>\n",
              "      <td>4263815</td>\n",
              "      <td>575</td>\n",
              "      <td>560</td>\n",
              "      <td>12204</td>\n",
              "      <td>12218</td>\n",
              "    </tr>\n",
              "    <tr>\n",
              "      <th>20</th>\n",
              "      <td>2019-08-21</td>\n",
              "      <td>23</td>\n",
              "      <td>174309</td>\n",
              "      <td>14</td>\n",
              "      <td>163077</td>\n",
              "      <td>385</td>\n",
              "      <td>2643838</td>\n",
              "      <td>437</td>\n",
              "      <td>4426892</td>\n",
              "      <td>646</td>\n",
              "      <td>656</td>\n",
              "      <td>12850</td>\n",
              "      <td>12874</td>\n",
              "    </tr>\n",
              "    <tr>\n",
              "      <th>21</th>\n",
              "      <td>2019-08-22</td>\n",
              "      <td>16</td>\n",
              "      <td>112741</td>\n",
              "      <td>25</td>\n",
              "      <td>162355</td>\n",
              "      <td>401</td>\n",
              "      <td>2756579</td>\n",
              "      <td>462</td>\n",
              "      <td>4589247</td>\n",
              "      <td>609</td>\n",
              "      <td>650</td>\n",
              "      <td>13459</td>\n",
              "      <td>13524</td>\n",
              "    </tr>\n",
              "    <tr>\n",
              "      <th>22</th>\n",
              "      <td>2019-08-23</td>\n",
              "      <td>25</td>\n",
              "      <td>117788</td>\n",
              "      <td>15</td>\n",
              "      <td>113969</td>\n",
              "      <td>426</td>\n",
              "      <td>2874367</td>\n",
              "      <td>477</td>\n",
              "      <td>4703216</td>\n",
              "      <td>468</td>\n",
              "      <td>546</td>\n",
              "      <td>13927</td>\n",
              "      <td>14070</td>\n",
              "    </tr>\n",
              "    <tr>\n",
              "      <th>23</th>\n",
              "      <td>2019-08-24</td>\n",
              "      <td>15</td>\n",
              "      <td>127703</td>\n",
              "      <td>16</td>\n",
              "      <td>95506</td>\n",
              "      <td>441</td>\n",
              "      <td>3002070</td>\n",
              "      <td>493</td>\n",
              "      <td>4798722</td>\n",
              "      <td>395</td>\n",
              "      <td>378</td>\n",
              "      <td>14322</td>\n",
              "      <td>14448</td>\n",
              "    </tr>\n",
              "    <tr>\n",
              "      <th>24</th>\n",
              "      <td>2019-08-25</td>\n",
              "      <td>10</td>\n",
              "      <td>68634</td>\n",
              "      <td>14</td>\n",
              "      <td>102862</td>\n",
              "      <td>451</td>\n",
              "      <td>3070704</td>\n",
              "      <td>507</td>\n",
              "      <td>4901584</td>\n",
              "      <td>621</td>\n",
              "      <td>679</td>\n",
              "      <td>14943</td>\n",
              "      <td>15127</td>\n",
              "    </tr>\n",
              "    <tr>\n",
              "      <th>25</th>\n",
              "      <td>2019-08-26</td>\n",
              "      <td>16</td>\n",
              "      <td>157214</td>\n",
              "      <td>25</td>\n",
              "      <td>182999</td>\n",
              "      <td>467</td>\n",
              "      <td>3227918</td>\n",
              "      <td>532</td>\n",
              "      <td>5084583</td>\n",
              "      <td>722</td>\n",
              "      <td>676</td>\n",
              "      <td>15665</td>\n",
              "      <td>15803</td>\n",
              "    </tr>\n",
              "    <tr>\n",
              "      <th>26</th>\n",
              "      <td>2019-08-27</td>\n",
              "      <td>28</td>\n",
              "      <td>286780</td>\n",
              "      <td>16</td>\n",
              "      <td>147677</td>\n",
              "      <td>495</td>\n",
              "      <td>3514698</td>\n",
              "      <td>548</td>\n",
              "      <td>5232260</td>\n",
              "      <td>711</td>\n",
              "      <td>720</td>\n",
              "      <td>16376</td>\n",
              "      <td>16523</td>\n",
              "    </tr>\n",
              "    <tr>\n",
              "      <th>27</th>\n",
              "      <td>2019-08-28</td>\n",
              "      <td>17</td>\n",
              "      <td>101122</td>\n",
              "      <td>28</td>\n",
              "      <td>96008</td>\n",
              "      <td>512</td>\n",
              "      <td>3615820</td>\n",
              "      <td>576</td>\n",
              "      <td>5328268</td>\n",
              "      <td>594</td>\n",
              "      <td>654</td>\n",
              "      <td>16970</td>\n",
              "      <td>17177</td>\n",
              "    </tr>\n",
              "    <tr>\n",
              "      <th>28</th>\n",
              "      <td>2019-08-29</td>\n",
              "      <td>22</td>\n",
              "      <td>320690</td>\n",
              "      <td>20</td>\n",
              "      <td>231130</td>\n",
              "      <td>534</td>\n",
              "      <td>3936510</td>\n",
              "      <td>596</td>\n",
              "      <td>5559398</td>\n",
              "      <td>577</td>\n",
              "      <td>531</td>\n",
              "      <td>17547</td>\n",
              "      <td>17708</td>\n",
              "    </tr>\n",
              "    <tr>\n",
              "      <th>29</th>\n",
              "      <td>2019-08-30</td>\n",
              "      <td>11</td>\n",
              "      <td>86460</td>\n",
              "      <td>24</td>\n",
              "      <td>215233</td>\n",
              "      <td>545</td>\n",
              "      <td>4022970</td>\n",
              "      <td>620</td>\n",
              "      <td>5774631</td>\n",
              "      <td>490</td>\n",
              "      <td>490</td>\n",
              "      <td>18037</td>\n",
              "      <td>18198</td>\n",
              "    </tr>\n",
              "    <tr>\n",
              "      <th>30</th>\n",
              "      <td>2019-08-31</td>\n",
              "      <td>12</td>\n",
              "      <td>61833</td>\n",
              "      <td>20</td>\n",
              "      <td>133129</td>\n",
              "      <td>557</td>\n",
              "      <td>4084803</td>\n",
              "      <td>640</td>\n",
              "      <td>5907760</td>\n",
              "      <td>699</td>\n",
              "      <td>718</td>\n",
              "      <td>18736</td>\n",
              "      <td>18916</td>\n",
              "    </tr>\n",
              "  </tbody>\n",
              "</table>\n",
              "</div>"
            ],
            "text/plain": [
              "         date  ordersPerDateA  revenuePerDateA  ordersPerDateB  \\\n",
              "0  2019-08-01              24           148579              21   \n",
              "1  2019-08-02              20            93822              24   \n",
              "2  2019-08-03              24           112473              16   \n",
              "3  2019-08-04              16            70825              17   \n",
              "4  2019-08-05              25           124218              23   \n",
              "5  2019-08-06              18            48484              28   \n",
              "6  2019-08-07              18           142417              24   \n",
              "7  2019-08-08              16            96279              27   \n",
              "8  2019-08-09              16           188506              25   \n",
              "9  2019-08-10              16           210495              23   \n",
              "10 2019-08-11              13            77585              13   \n",
              "11 2019-08-12              24           249190              23   \n",
              "12 2019-08-13              14           263638              21   \n",
              "13 2019-08-14              24            64341              23   \n",
              "14 2019-08-15              15            88205              31   \n",
              "15 2019-08-16              18            99851              20   \n",
              "16 2019-08-17              10            50861              14   \n",
              "17 2019-08-18              17            72398               9   \n",
              "18 2019-08-19              22           189743              21   \n",
              "19 2019-08-20              12            77619              20   \n",
              "20 2019-08-21              23           174309              14   \n",
              "21 2019-08-22              16           112741              25   \n",
              "22 2019-08-23              25           117788              15   \n",
              "23 2019-08-24              15           127703              16   \n",
              "24 2019-08-25              10            68634              14   \n",
              "25 2019-08-26              16           157214              25   \n",
              "26 2019-08-27              28           286780              16   \n",
              "27 2019-08-28              17           101122              28   \n",
              "28 2019-08-29              22           320690              20   \n",
              "29 2019-08-30              11            86460              24   \n",
              "30 2019-08-31              12            61833              20   \n",
              "\n",
              "    revenuePerDateB  ordersCummulativeA  revenueCummulativeA  \\\n",
              "0            101217                  24               148579   \n",
              "1            165531                  44               242401   \n",
              "2            114248                  68               354874   \n",
              "3            108571                  84               425699   \n",
              "4             92428                 109               549917   \n",
              "5            242342                 127               598401   \n",
              "6            225334                 145               740818   \n",
              "7            220918                 161               837097   \n",
              "8            160812                 177              1025603   \n",
              "9            107802                 193              1236098   \n",
              "10            53310                 206              1313683   \n",
              "11           141554                 230              1562873   \n",
              "12           119671                 244              1826511   \n",
              "13           171708                 268              1890852   \n",
              "14           342499                 283              1979057   \n",
              "15           171690                 301              2078908   \n",
              "16            81155                 311              2129769   \n",
              "17            65831                 328              2202167   \n",
              "18          1429920                 350              2391910   \n",
              "19           147274                 362              2469529   \n",
              "20           163077                 385              2643838   \n",
              "21           162355                 401              2756579   \n",
              "22           113969                 426              2874367   \n",
              "23            95506                 441              3002070   \n",
              "24           102862                 451              3070704   \n",
              "25           182999                 467              3227918   \n",
              "26           147677                 495              3514698   \n",
              "27            96008                 512              3615820   \n",
              "28           231130                 534              3936510   \n",
              "29           215233                 545              4022970   \n",
              "30           133129                 557              4084803   \n",
              "\n",
              "    ordersCummulativeB  revenueCummulativeB  visitorsPerDateA  \\\n",
              "0                   21               101217               719   \n",
              "1                   45               266748               619   \n",
              "2                   61               380996               507   \n",
              "3                   78               489567               717   \n",
              "4                  101               581995               756   \n",
              "5                  129               824337               667   \n",
              "6                  153              1049671               644   \n",
              "7                  180              1270589               610   \n",
              "8                  205              1431401               617   \n",
              "9                  228              1539203               406   \n",
              "10                 241              1592513               718   \n",
              "11                 264              1734067               595   \n",
              "12                 285              1853738               748   \n",
              "13                 308              2025446               735   \n",
              "14                 339              2367945               628   \n",
              "15                 359              2539635               361   \n",
              "16                 373              2620790               412   \n",
              "17                 382              2686621               668   \n",
              "18                 403              4116541               502   \n",
              "19                 423              4263815               575   \n",
              "20                 437              4426892               646   \n",
              "21                 462              4589247               609   \n",
              "22                 477              4703216               468   \n",
              "23                 493              4798722               395   \n",
              "24                 507              4901584               621   \n",
              "25                 532              5084583               722   \n",
              "26                 548              5232260               711   \n",
              "27                 576              5328268               594   \n",
              "28                 596              5559398               577   \n",
              "29                 620              5774631               490   \n",
              "30                 640              5907760               699   \n",
              "\n",
              "    visitorsPerDateB  visitorsCummulativeA  visitorsCummulativeB  \n",
              "0                713                   719                   713  \n",
              "1                581                  1338                  1294  \n",
              "2                509                  1845                  1803  \n",
              "3                770                  2562                  2573  \n",
              "4                707                  3318                  3280  \n",
              "5                655                  3985                  3935  \n",
              "6                709                  4629                  4644  \n",
              "7                654                  5239                  5298  \n",
              "8                610                  5856                  5908  \n",
              "9                369                  6262                  6277  \n",
              "10               721                  6980                  6998  \n",
              "11               543                  7575                  7541  \n",
              "12               769                  8323                  8310  \n",
              "13               746                  9058                  9056  \n",
              "14               544                  9686                  9600  \n",
              "15               413                 10047                 10013  \n",
              "16               421                 10459                 10434  \n",
              "17               737                 11127                 11171  \n",
              "18               487                 11629                 11658  \n",
              "19               560                 12204                 12218  \n",
              "20               656                 12850                 12874  \n",
              "21               650                 13459                 13524  \n",
              "22               546                 13927                 14070  \n",
              "23               378                 14322                 14448  \n",
              "24               679                 14943                 15127  \n",
              "25               676                 15665                 15803  \n",
              "26               720                 16376                 16523  \n",
              "27               654                 16970                 17177  \n",
              "28               531                 17547                 17708  \n",
              "29               490                 18037                 18198  \n",
              "30               718                 18736                 18916  "
            ]
          },
          "execution_count": 251,
          "metadata": {},
          "output_type": "execute_result"
        }
      ],
      "source": [
        "# отберем количество посетителей по дням для группы A\n",
        "visitorsADaily = visitors[visitors['group'] == 'A'][['date', 'visitors']]\n",
        "visitorsADaily.columns = ['date', 'visitorsPerDateA']\n",
        "\n",
        "# посчитаем количество посетителей по дням нарастающим итогом\n",
        "visitorsACummulative = visitorsADaily.apply(\n",
        "    lambda x: visitorsADaily[visitorsADaily['date'] <= x['date']].agg(\n",
        "        {'date': 'max', 'visitorsPerDateA': 'sum'}\n",
        "    ),\n",
        "    axis=1,\n",
        ")\n",
        "visitorsACummulative.columns = ['date', 'visitorsCummulativeA']\n",
        "\n",
        "# сделаем то же самое для группы B\n",
        "visitorsBDaily = visitors[visitors['group'] == 'B'][['date', 'visitors']]\n",
        "visitorsBDaily.columns = ['date', 'visitorsPerDateB']\n",
        "\n",
        "visitorsBCummulative = visitorsBDaily.apply(\n",
        "    lambda x: visitorsBDaily[visitorsBDaily['date'] <= x['date']].agg(\n",
        "        {'date': 'max', 'visitorsPerDateB': 'sum'}\n",
        "    ),\n",
        "    axis=1,\n",
        ")\n",
        "visitorsBCummulative.columns = ['date', 'visitorsCummulativeB']\n",
        "\n",
        "# посчитаем выручку по дням нарастающим итогом для группы A\n",
        "ordersADaily = (\n",
        "    orders[orders['group'] == 'A'][['date', 'transactionId', 'visitorId', 'revenue']]\n",
        "    .groupby('date', as_index=False)\n",
        "    .agg({'transactionId': pd.Series.nunique, 'revenue': 'sum'})\n",
        ")\n",
        "ordersADaily.columns = ['date', 'ordersPerDateA', 'revenuePerDateA']\n",
        "\n",
        "ordersACummulative = ordersADaily.apply(\n",
        "    lambda x: ordersADaily[ordersADaily['date'] <= x['date']].agg(\n",
        "        {'date': 'max', 'ordersPerDateA': 'sum', 'revenuePerDateA': 'sum'}\n",
        "    ),\n",
        "    axis=1,\n",
        ").sort_values(by=['date'])\n",
        "ordersACummulative.columns = [\n",
        "    'date',\n",
        "    'ordersCummulativeA',\n",
        "    'revenueCummulativeA',\n",
        "]\n",
        "\n",
        "# посчитаем выручку по дням нарастающим итогом для группы B\n",
        "ordersBDaily = (\n",
        "    orders[orders['group'] == 'B'][['date', 'transactionId', 'visitorId', 'revenue']]\n",
        "    .groupby('date', as_index=False)\n",
        "    .agg({'transactionId': pd.Series.nunique, 'revenue': 'sum'})\n",
        ")\n",
        "ordersBDaily.columns = ['date', 'ordersPerDateB', 'revenuePerDateB']\n",
        "\n",
        "ordersBCummulative = ordersBDaily.apply(\n",
        "    lambda x: ordersBDaily[ordersBDaily['date'] <= x['date']].agg(\n",
        "        {'date': 'max', 'ordersPerDateB': 'sum', 'revenuePerDateB': 'sum'}\n",
        "    ),\n",
        "    axis=1,\n",
        ").sort_values(by=['date'])\n",
        "ordersBCummulative.columns = [\n",
        "    'date',\n",
        "    'ordersCummulativeB',\n",
        "    'revenueCummulativeB',\n",
        "]\n",
        "\n",
        "# объединим по датам количество заказов и выручку для обеих групп\n",
        "data = (\n",
        "    ordersADaily.merge(\n",
        "        ordersBDaily, left_on='date', right_on='date', how='left'\n",
        "    )\n",
        "    .merge(ordersACummulative, left_on='date', right_on='date', how='left')\n",
        "    .merge(ordersBCummulative, left_on='date', right_on='date', how='left')\n",
        "    .merge(visitorsADaily, left_on='date', right_on='date', how='left')\n",
        "    .merge(visitorsBDaily, left_on='date', right_on='date', how='left')\n",
        "    .merge(visitorsACummulative, left_on='date', right_on='date', how='left')\n",
        "    .merge(visitorsBCummulative, left_on='date', right_on='date', how='left')\n",
        ")\n",
        "\n",
        "data"
      ]
    },
    {
      "cell_type": "code",
      "execution_count": null,
      "metadata": {
        "id": "lBMlVT8Qxbhj",
        "outputId": "16b3da25-9bcc-43c7-f547-a8c79ffcc95d"
      },
      "outputs": [
        {
          "name": "stdout",
          "output_type": "stream",
          "text": [
            "0.01679\n",
            "0.138\n"
          ]
        }
      ],
      "source": [
        "# отберем заказы по группам A и B и сгруппируем их по идентификатору посетителя\n",
        "ordersByUsersA = (\n",
        "    orders[orders['group'] == 'A']\n",
        "    .groupby('visitorId', as_index=False)\n",
        "    .agg({'transactionId': pd.Series.nunique})\n",
        ")\n",
        "ordersByUsersA.columns = ['userId', 'orders']\n",
        "\n",
        "ordersByUsersB = (\n",
        "    orders[orders['group'] == 'B']\n",
        "    .groupby('visitorId', as_index=False)\n",
        "    .agg({'transactionId': pd.Series.nunique})\n",
        ")\n",
        "ordersByUsersB.columns = ['userId', 'orders']\n",
        "\n",
        "# объединим пользователей, у которых есть заказы, с пользователями без заказов\n",
        "sampleA = pd.concat([ordersByUsersA['orders'],\n",
        "                     pd.Series(0,\n",
        "                               index=np.arange(data['visitorsPerDateA'].sum()\n",
        "                                                  - len(ordersByUsersA['orders'])),\n",
        "                               name='orders')],\n",
        "                    axis=0)\n",
        "\n",
        "sampleB = pd.concat([ordersByUsersB['orders'],\n",
        "                     pd.Series(0,\n",
        "                               index=np.arange(data['visitorsPerDateB'].sum()\n",
        "                                               - len(ordersByUsersB['orders'])),\n",
        "                               name='orders')],\n",
        "                    axis=0)\n",
        "\n",
        "# рассчитаем статистическую значимость различий в распределениях количества заказов в группах\n",
        "# с помощью теста Манна-Уитни\n",
        "print(\"{0:.5f}\".format(stats.mannwhitneyu(sampleA, sampleB)[1]))\n",
        "\n",
        "# рассчитаем разницу в среднем количестве заказов в группах\n",
        "print(\"{0:.3f}\".format(sampleB.mean() / sampleA.mean() - 1))"
      ]
    },
    {
      "cell_type": "markdown",
      "metadata": {
        "id": "VBX_Nzbuxbhl"
      },
      "source": [
        "p-value проведенного теста равен 0.01, что меньше 0.05. Это значит, что нулевая гипотеза о том, что разницы в среднем количестве заказов между наблюдаемой и исходной группами нет, не подтверждается, и разница между средним количеством заказов есть, и она составляет 13.8%."
      ]
    },
    {
      "cell_type": "markdown",
      "metadata": {
        "id": "0dnRCdLDxbhn"
      },
      "source": [
        "##### Разница в среднем чеке в \"сырых\" данных"
      ]
    },
    {
      "cell_type": "markdown",
      "metadata": {
        "id": "IUXPuHtmxbho"
      },
      "source": [
        "Сформулируем нулевую и альтернативную гипотезы для статтеста:\n",
        "- Нулевая: различий в среднем чеке между группами нет.\n",
        "- Альтернативная: различия в среднем чеке между группами есть.\n",
        "\n",
        "Уровень статзначимости, по которой будем отвергать нулевую гипотезу, примем в размере 5%."
      ]
    },
    {
      "cell_type": "code",
      "execution_count": null,
      "metadata": {
        "id": "yrVJ0ZF3xbho",
        "outputId": "83374d83-819e-4c41-a0d3-91f1a23a2685"
      },
      "outputs": [
        {
          "name": "stdout",
          "output_type": "stream",
          "text": [
            "0.729\n",
            "0.259\n"
          ]
        }
      ],
      "source": [
        "print('{0:.3f}'.format(stats.mannwhitneyu(orders[orders['group']=='A']['revenue'],\n",
        "                                          orders[orders['group']=='B']['revenue'])\n",
        "                       [1]))\n",
        "print('{0:.3f}'.format(orders[orders['group']=='B']['revenue'].mean()/\n",
        "                       orders[orders['group']=='A']['revenue'].mean()-1))"
      ]
    },
    {
      "cell_type": "markdown",
      "metadata": {
        "id": "29F8cBFAxbhq"
      },
      "source": [
        "Проведенный тест показывает, что в \"сырых\" данных вероятность того, в группах A и B средняя стоимость заказа может быть равна, составляет 0.729, что превышает принятый уровень статзначимости. Поэтому мы не может отвергнуть нулевую гипотезу, и разница в среднем чеке в размере 25.9% не является статистически значимой, разницы в группах нет."
      ]
    },
    {
      "cell_type": "markdown",
      "metadata": {
        "id": "zmmkzT9Oxbhr"
      },
      "source": [
        "##### Разница в среднем количестве заказов в \"очищенных\" данных"
      ]
    },
    {
      "cell_type": "markdown",
      "metadata": {
        "id": "DDFYaiFZxbhs"
      },
      "source": [
        "Мы уже рассчитали 95-й и 99-й перцентили количества и стоимости заказов, они составляют 2 и 4 заказа и 28 тыс. и 52.3 тыс. руб. соответственно. В качестве аномальных возьмем количество заказов больше 3, стоимость заказов больше 28 тыс. руб. и исключим пользователей, которые их совершили."
      ]
    },
    {
      "cell_type": "code",
      "execution_count": null,
      "metadata": {
        "id": "21XSqrtixbhu",
        "outputId": "5a18572e-bea8-4d46-b44e-ffc2a01670e5"
      },
      "outputs": [
        {
          "name": "stdout",
          "output_type": "stream",
          "text": [
            "2.0\n",
            "28000.000000000004\n"
          ]
        },
        {
          "data": {
            "text/plain": [
              "1099    148427295\n",
              "18      199603092\n",
              "928     204675465\n",
              "23      237748145\n",
              "37      249864742\n",
              "dtype: int64"
            ]
          },
          "execution_count": 254,
          "metadata": {},
          "output_type": "execute_result"
        }
      ],
      "source": [
        "# сохраним границы на уровне 95-го перцентиля и назовем для отбора в переменных\n",
        "manyOrders = np.percentile(ordersByUsers['orders'], 95)\n",
        "print(manyOrders)\n",
        "expensiveOrders = np.percentile(orders['revenue'], 95)\n",
        "print(expensiveOrders)\n",
        "\n",
        "# из ранее подготовленных таблиц с количеством заказов отберем покупателей с количеством заказов больше 2\n",
        "usersWithManyOrders = pd.concat(\n",
        "    [\n",
        "        ordersByUsersA[ordersByUsersA['orders'] > manyOrders]['userId'],\n",
        "        ordersByUsersB[ordersByUsersB['orders'] > manyOrders]['userId'],\n",
        "    ],\n",
        "    axis=0)\n",
        "\n",
        "# и с размером заказа больше 28 тыс. руб.\n",
        "usersWithExpensiveOrders = orders[orders['revenue'] > expensiveOrders]['visitorId']\n",
        "abnormalUsers = (\n",
        "    pd.concat([usersWithManyOrders, usersWithExpensiveOrders], axis=0)\n",
        "    .drop_duplicates()\n",
        "    .sort_values()\n",
        ")\n",
        "abnormalUsers.head()"
      ]
    },
    {
      "cell_type": "code",
      "execution_count": null,
      "metadata": {
        "id": "dfq-7r3Lxbhz",
        "outputId": "719bb9ac-5dea-44f9-b7ff-87cb15af111b"
      },
      "outputs": [
        {
          "name": "stdout",
          "output_type": "stream",
          "text": [
            "0.01304\n",
            "0.173\n"
          ]
        }
      ],
      "source": [
        "# конкатенируем построчно покупателей с заказами и обычных посетителей для группы A\n",
        "# исключив из них аномальных покупателей\n",
        "sampleAFiltered = pd.concat(\n",
        "    [\n",
        "        ordersByUsersA[\n",
        "            np.logical_not(ordersByUsersA['userId'].isin(abnormalUsers))\n",
        "        ]['orders'],\n",
        "        pd.Series(\n",
        "            0,\n",
        "            index=np.arange(\n",
        "                data['visitorsPerDateA'].sum() - len(ordersByUsersA['orders'])\n",
        "            ),\n",
        "            name='orders',\n",
        "        ),\n",
        "    ],\n",
        "    axis=0,\n",
        ")\n",
        "\n",
        "# также для группы B\n",
        "sampleBFiltered = pd.concat(\n",
        "    [\n",
        "        ordersByUsersB[\n",
        "            np.logical_not(ordersByUsersB['userId'].isin(abnormalUsers))\n",
        "        ]['orders'],\n",
        "        pd.Series(\n",
        "            0,\n",
        "            index=np.arange(\n",
        "                data['visitorsPerDateB'].sum() - len(ordersByUsersB['orders'])\n",
        "            ),\n",
        "            name='orders',\n",
        "        ),\n",
        "    ],\n",
        "    axis=0,\n",
        ") \n",
        "\n",
        "# проведем тест Манна-Уитни\n",
        "print('{0:.5f}'.format(stats.mannwhitneyu(sampleAFiltered, sampleBFiltered)[1]))\n",
        "print('{0:.3f}'.format(sampleBFiltered.mean()/sampleAFiltered.mean()-1))"
      ]
    },
    {
      "cell_type": "markdown",
      "metadata": {
        "id": "R-_YcFVdxbh0"
      },
      "source": [
        "За предельный уровень статзначимости так же, как и раньше, примем 5%. P-value проведенного теста составил 1.794%, это ниже 5%, поэтому нулевая гипотеза не подтверилась и разница в среднем количестве заказов между группами есть. Она составляет 14.8%."
      ]
    },
    {
      "cell_type": "markdown",
      "metadata": {
        "id": "HqZp0Z_Lxbh0"
      },
      "source": [
        "##### Разница в среднем чеке в \"очищенных\" данных"
      ]
    },
    {
      "cell_type": "markdown",
      "metadata": {
        "id": "RgfoGS_sxbh1"
      },
      "source": [
        "Проведем тест для проверки разницы средней стоимости заказа в группах без аномальных пользователей. Критический p-value примем на уровне 0.05."
      ]
    },
    {
      "cell_type": "code",
      "execution_count": null,
      "metadata": {
        "id": "5Ab6dR0Sxbh1",
        "outputId": "36edaf42-1d4e-42f3-fe4c-fd8add726123"
      },
      "outputs": [
        {
          "name": "stdout",
          "output_type": "stream",
          "text": [
            "0.738\n",
            "-0.020\n"
          ]
        }
      ],
      "source": [
        "print(\n",
        "    '{0:.3f}'.format(\n",
        "        stats.mannwhitneyu(\n",
        "            orders[\n",
        "                np.logical_and(\n",
        "                    orders['group'] == 'A',\n",
        "                    np.logical_not(orders['visitorId'].isin(abnormalUsers)),\n",
        "                )\n",
        "            ]['revenue'],\n",
        "            orders[\n",
        "                np.logical_and(\n",
        "                    orders['group'] == 'B',\n",
        "                    np.logical_not(orders['visitorId'].isin(abnormalUsers)),\n",
        "                )\n",
        "            ]['revenue'],\n",
        "        )[1]\n",
        "    )\n",
        ")\n",
        "\n",
        "print(\n",
        "    \"{0:.3f}\".format(\n",
        "        orders[\n",
        "            np.logical_and(\n",
        "                orders['group'] == 'B',\n",
        "                np.logical_not(orders['visitorId'].isin(abnormalUsers)),\n",
        "            )\n",
        "        ]['revenue'].mean()\n",
        "        / orders[\n",
        "            np.logical_and(\n",
        "                orders['group'] == 'A',\n",
        "                np.logical_not(orders['visitorId'].isin(abnormalUsers)),\n",
        "            )\n",
        "        ]['revenue'].mean()\n",
        "        - 1\n",
        "    )\n",
        ")"
      ]
    },
    {
      "cell_type": "markdown",
      "metadata": {
        "id": "19ItKLKoxbh2"
      },
      "source": [
        "P-value проведенного теста составил 0.977, что значительно превышает критический уровень статзначимости. Поэтому как и в случае с \"сырыми\" данными разница в среднем чеке в группах A и B не существенна. Средний чек в группе B ниже среднего чека в группе A на 1,7%."
      ]
    },
    {
      "cell_type": "markdown",
      "metadata": {
        "id": "K_vN0yDrxbh4"
      },
      "source": [
        "### Выводы"
      ]
    },
    {
      "cell_type": "markdown",
      "metadata": {
        "id": "E-RjJOLcxbh5"
      },
      "source": [
        "В данном исследовании мы проанализировали среднее количество заказов и средний чек, изучили их динамику и провели статистические тесты для выявления различий в целевой и исходной группах и принятия решения о внедрении изменений для увеличения выручки интернет-магазина."
      ]
    },
    {
      "cell_type": "markdown",
      "metadata": {
        "id": "HHK7tNgBxbh5"
      },
      "source": [
        "По результатам статтестов мы выявили:\n",
        "1. Разница в количестве заказов является статистически значимой и по \"сырым\", и по \"очищенным\" данным.\n",
        "2. Нет статистически значимого различия по среднему чеку между группами ни по «сырым», ни по данным после фильтрации аномалий."
      ]
    },
    {
      "cell_type": "code",
      "execution_count": null,
      "metadata": {
        "id": "HDkAG3htxbh5",
        "outputId": "1aab66ec-edda-482e-c480-55afbfd0754e"
      },
      "outputs": [
        {
          "data": {
            "text/plain": [
              "<matplotlib.legend.Legend at 0x7fbe406119d0>"
            ]
          },
          "execution_count": 257,
          "metadata": {},
          "output_type": "execute_result"
        },
        {
          "data": {
            "image/png": "[encoded data removed]",
            "text/plain": [
              "<Figure size 864x432 with 1 Axes>"
            ]
          },
          "metadata": {
            "needs_background": "light"
          },
          "output_type": "display_data"
        }
      ],
      "source": [
        "plt.subplots(figsize=(12, 6))\n",
        "plt.plot(mergedCumulativeConversions['date'],\n",
        "         mergedCumulativeConversions['conversionB']/mergedCumulativeConversions['conversionA']-1,\n",
        "         label=\"Относительный прирост конверсии группы B относительно группы A\")\n",
        "plt.grid()\n",
        "plt.legend()"
      ]
    },
    {
      "cell_type": "markdown",
      "metadata": {
        "id": "R3dqY4KAxbh6"
      },
      "source": [
        "Таким образом, выявленная тенденция к стабилизации прироста количества заказов в группе B относительно группы A подтверждает, что группа B лучше группы A. Вариабельность графика прироста указывает на то, что тест можно продлить на 7-14 дней до окончательной стабилизации, и если данные подтвердятся, эксперимент можно считать успешным."
      ]
    },
    {
      "cell_type": "code",
      "execution_count": null,
      "metadata": {
        "id": "faqnKxU1xbh6",
        "outputId": "e3ce6a71-599a-4f87-dcb0-17c0973f19cb"
      },
      "outputs": [
        {
          "data": {
            "image/png": "[encoded data removed]",
            "text/plain": [
              "<Figure size 864x432 with 1 Axes>"
            ]
          },
          "metadata": {
            "needs_background": "light"
          },
          "output_type": "display_data"
        }
      ],
      "source": [
        "plt.subplots(figsize=(12, 6))\n",
        "\n",
        "plt.plot(mergedCumulativeRevenue['date'],\n",
        "         (mergedCumulativeRevenue['revenueB']/mergedCumulativeRevenue['ordersB'])\n",
        "         /(mergedCumulativeRevenue['revenueA']/mergedCumulativeRevenue['ordersA'])-1,\n",
        "         label=\"Относительный прирост средней стоимости заказа в группе B относительно группы A\")\n",
        "\n",
        "plt.axhline(y=0, color='black', linestyle='--')\n",
        "plt.legend()\n",
        "plt.grid()"
      ]
    },
    {
      "cell_type": "markdown",
      "metadata": {
        "id": "k9Exl-uqxbh7"
      },
      "source": [
        "В ситуации со средним чеком ситуация не такая радужная. Несмотря на то, что во второй половине периода проведения A/B-теста, прирост среднего чека в наблюдаемой группе стал положительным и к концу теста составил 25%, статзначимость этих изменений не существенна. По показателю среднего чека надо признать эксперимент несостоявшимся и прекратить его."
      ]
    },
    {
      "cell_type": "markdown",
      "metadata": {
        "id": "tKf0ANuOxbh7"
      },
      "source": [
        "Таким образом, для увеличения выручки интернет-магазина проведенный эксперимент можно считать успешным, так как влияя на количество заказов, даже без увеличения среднего чека, можно увеличить выручку."
      ]
    }
  ],
  "metadata": {
    "ExecuteTimeLog": [
      {
        "duration": 1336,
        "start_time": "2023-03-03T12:59:01.276Z"
      },
      {
        "duration": 102,
        "start_time": "2023-03-03T13:04:22.138Z"
      },
      {
        "duration": 66,
        "start_time": "2023-03-03T13:04:29.171Z"
      },
      {
        "duration": 35,
        "start_time": "2023-03-03T13:04:37.472Z"
      },
      {
        "duration": 1363,
        "start_time": "2023-03-03T13:30:35.028Z"
      },
      {
        "duration": 3,
        "start_time": "2023-03-03T13:38:23.618Z"
      },
      {
        "duration": 6,
        "start_time": "2023-03-03T13:38:30.988Z"
      },
      {
        "duration": 12,
        "start_time": "2023-03-03T13:38:50.928Z"
      },
      {
        "duration": 186,
        "start_time": "2023-03-03T13:42:10.595Z"
      },
      {
        "duration": 208,
        "start_time": "2023-03-03T13:42:25.570Z"
      },
      {
        "duration": 20,
        "start_time": "2023-03-03T13:43:01.612Z"
      },
      {
        "duration": 13,
        "start_time": "2023-03-03T13:44:07.562Z"
      },
      {
        "duration": 11,
        "start_time": "2023-03-03T13:47:34.893Z"
      },
      {
        "duration": 6,
        "start_time": "2023-03-03T13:47:56.566Z"
      },
      {
        "duration": 11,
        "start_time": "2023-03-03T13:48:05.094Z"
      },
      {
        "duration": 4,
        "start_time": "2023-03-03T13:48:18.069Z"
      },
      {
        "duration": 4,
        "start_time": "2023-03-03T13:48:27.410Z"
      },
      {
        "duration": 14,
        "start_time": "2023-03-03T13:49:04.093Z"
      },
      {
        "duration": 4,
        "start_time": "2023-03-03T13:49:11.558Z"
      },
      {
        "duration": 3,
        "start_time": "2023-03-03T13:49:28.266Z"
      },
      {
        "duration": 63,
        "start_time": "2023-03-04T12:48:18.934Z"
      },
      {
        "duration": 1404,
        "start_time": "2023-03-04T12:48:26.641Z"
      },
      {
        "duration": 81,
        "start_time": "2023-03-04T12:48:28.048Z"
      },
      {
        "duration": 4,
        "start_time": "2023-03-04T12:48:28.131Z"
      },
      {
        "duration": 17,
        "start_time": "2023-03-04T12:48:28.137Z"
      },
      {
        "duration": 22,
        "start_time": "2023-03-04T12:48:28.156Z"
      },
      {
        "duration": 3,
        "start_time": "2023-03-04T12:48:39.103Z"
      },
      {
        "duration": 67,
        "start_time": "2023-03-04T12:49:46.069Z"
      },
      {
        "duration": 3,
        "start_time": "2023-03-04T12:50:05.038Z"
      },
      {
        "duration": 367,
        "start_time": "2023-03-04T12:56:10.733Z"
      },
      {
        "duration": 320,
        "start_time": "2023-03-04T12:57:22.399Z"
      },
      {
        "duration": 311,
        "start_time": "2023-03-04T12:57:52.409Z"
      },
      {
        "duration": 4,
        "start_time": "2023-03-04T12:58:11.118Z"
      },
      {
        "duration": 324,
        "start_time": "2023-03-04T12:59:13.276Z"
      },
      {
        "duration": 396,
        "start_time": "2023-03-04T12:59:30.443Z"
      },
      {
        "duration": 347,
        "start_time": "2023-03-04T12:59:49.267Z"
      },
      {
        "duration": 392,
        "start_time": "2023-03-04T12:59:58.783Z"
      },
      {
        "duration": 450,
        "start_time": "2023-03-04T13:00:04.141Z"
      },
      {
        "duration": 393,
        "start_time": "2023-03-04T13:00:15.977Z"
      },
      {
        "duration": 437,
        "start_time": "2023-03-04T13:00:20.582Z"
      },
      {
        "duration": 351,
        "start_time": "2023-03-04T13:01:00.214Z"
      },
      {
        "duration": 5,
        "start_time": "2023-03-04T13:02:23.672Z"
      },
      {
        "duration": 12,
        "start_time": "2023-03-04T13:06:10.815Z"
      },
      {
        "duration": 349,
        "start_time": "2023-03-04T13:07:59.375Z"
      },
      {
        "duration": 3,
        "start_time": "2023-03-04T13:08:53.737Z"
      },
      {
        "duration": 324,
        "start_time": "2023-03-04T13:30:38.741Z"
      },
      {
        "duration": 201,
        "start_time": "2023-03-04T13:31:01.235Z"
      },
      {
        "duration": 3,
        "start_time": "2023-03-04T13:31:08.538Z"
      },
      {
        "duration": 35,
        "start_time": "2023-03-04T13:31:08.543Z"
      },
      {
        "duration": 4,
        "start_time": "2023-03-04T13:31:08.580Z"
      },
      {
        "duration": 11,
        "start_time": "2023-03-04T13:31:08.586Z"
      },
      {
        "duration": 307,
        "start_time": "2023-03-04T13:31:15.567Z"
      },
      {
        "duration": 14,
        "start_time": "2023-03-04T13:31:20.311Z"
      },
      {
        "duration": 335,
        "start_time": "2023-03-04T13:33:59.775Z"
      },
      {
        "duration": 4,
        "start_time": "2023-03-04T13:34:05.035Z"
      },
      {
        "duration": 52,
        "start_time": "2023-03-05T12:47:31.883Z"
      },
      {
        "duration": 1322,
        "start_time": "2023-03-05T12:47:38.388Z"
      },
      {
        "duration": 93,
        "start_time": "2023-03-05T12:47:39.712Z"
      },
      {
        "duration": 6,
        "start_time": "2023-03-05T12:47:39.807Z"
      },
      {
        "duration": 16,
        "start_time": "2023-03-05T12:47:39.815Z"
      },
      {
        "duration": 359,
        "start_time": "2023-03-05T12:47:39.832Z"
      },
      {
        "duration": 5,
        "start_time": "2023-03-05T12:47:40.193Z"
      },
      {
        "duration": 13,
        "start_time": "2023-03-05T12:47:40.199Z"
      },
      {
        "duration": 360,
        "start_time": "2023-03-05T12:47:40.214Z"
      },
      {
        "duration": 4,
        "start_time": "2023-03-05T12:47:40.576Z"
      },
      {
        "duration": 183,
        "start_time": "2023-03-05T12:47:49.848Z"
      },
      {
        "duration": 69,
        "start_time": "2023-03-05T12:48:04.726Z"
      },
      {
        "duration": 103,
        "start_time": "2023-03-05T12:48:27.853Z"
      },
      {
        "duration": 69,
        "start_time": "2023-03-05T12:48:39.462Z"
      },
      {
        "duration": 12,
        "start_time": "2023-03-05T12:52:37.261Z"
      },
      {
        "duration": 17,
        "start_time": "2023-03-05T12:58:24.543Z"
      },
      {
        "duration": 10,
        "start_time": "2023-03-05T12:58:40.112Z"
      },
      {
        "duration": 65,
        "start_time": "2023-03-05T13:01:49.437Z"
      },
      {
        "duration": 8,
        "start_time": "2023-03-05T13:03:45.974Z"
      },
      {
        "duration": 103,
        "start_time": "2023-03-05T13:04:07.499Z"
      },
      {
        "duration": 11,
        "start_time": "2023-03-05T13:04:11.997Z"
      },
      {
        "duration": 4,
        "start_time": "2023-03-05T13:04:25.261Z"
      },
      {
        "duration": 141,
        "start_time": "2023-03-05T13:04:25.267Z"
      },
      {
        "duration": 58,
        "start_time": "2023-03-05T13:04:25.410Z"
      },
      {
        "duration": 39,
        "start_time": "2023-03-05T13:04:25.470Z"
      },
      {
        "duration": 439,
        "start_time": "2023-03-05T13:04:25.512Z"
      },
      {
        "duration": 4,
        "start_time": "2023-03-05T13:04:25.959Z"
      },
      {
        "duration": 55,
        "start_time": "2023-03-05T13:04:25.965Z"
      },
      {
        "duration": 411,
        "start_time": "2023-03-05T13:04:26.022Z"
      },
      {
        "duration": 11,
        "start_time": "2023-03-05T13:04:26.435Z"
      },
      {
        "duration": 188,
        "start_time": "2023-03-05T13:04:26.449Z"
      },
      {
        "duration": 22,
        "start_time": "2023-03-05T13:04:26.639Z"
      },
      {
        "duration": 21,
        "start_time": "2023-03-05T13:04:26.666Z"
      },
      {
        "duration": 21,
        "start_time": "2023-03-05T13:04:36.058Z"
      },
      {
        "duration": 223,
        "start_time": "2023-03-05T13:05:58.894Z"
      },
      {
        "duration": 4,
        "start_time": "2023-03-05T13:06:39.862Z"
      },
      {
        "duration": 244,
        "start_time": "2023-03-05T13:06:45.216Z"
      },
      {
        "duration": 3,
        "start_time": "2023-03-05T13:07:04.345Z"
      },
      {
        "duration": 39,
        "start_time": "2023-03-05T13:07:04.354Z"
      },
      {
        "duration": 5,
        "start_time": "2023-03-05T13:07:04.394Z"
      },
      {
        "duration": 32,
        "start_time": "2023-03-05T13:07:04.402Z"
      },
      {
        "duration": 387,
        "start_time": "2023-03-05T13:07:04.436Z"
      },
      {
        "duration": 3,
        "start_time": "2023-03-05T13:07:04.825Z"
      },
      {
        "duration": 24,
        "start_time": "2023-03-05T13:07:04.845Z"
      },
      {
        "duration": 362,
        "start_time": "2023-03-05T13:07:04.871Z"
      },
      {
        "duration": 13,
        "start_time": "2023-03-05T13:07:05.242Z"
      },
      {
        "duration": 73,
        "start_time": "2023-03-05T13:07:05.256Z"
      },
      {
        "duration": 26,
        "start_time": "2023-03-05T13:07:05.331Z"
      },
      {
        "duration": 19,
        "start_time": "2023-03-05T13:07:05.360Z"
      },
      {
        "duration": 313,
        "start_time": "2023-03-05T13:07:15.475Z"
      },
      {
        "duration": 237,
        "start_time": "2023-03-05T13:07:39.511Z"
      },
      {
        "duration": 20,
        "start_time": "2023-03-05T13:08:36.301Z"
      },
      {
        "duration": 225,
        "start_time": "2023-03-05T13:09:07.979Z"
      },
      {
        "duration": 5,
        "start_time": "2023-03-05T13:09:16.300Z"
      },
      {
        "duration": 44,
        "start_time": "2023-03-05T13:09:16.308Z"
      },
      {
        "duration": 12,
        "start_time": "2023-03-05T13:09:16.354Z"
      },
      {
        "duration": 13,
        "start_time": "2023-03-05T13:09:16.369Z"
      },
      {
        "duration": 470,
        "start_time": "2023-03-05T13:09:16.384Z"
      },
      {
        "duration": 4,
        "start_time": "2023-03-05T13:09:16.857Z"
      },
      {
        "duration": 20,
        "start_time": "2023-03-05T13:09:16.863Z"
      },
      {
        "duration": 574,
        "start_time": "2023-03-05T13:09:16.886Z"
      },
      {
        "duration": 5,
        "start_time": "2023-03-05T13:09:17.462Z"
      },
      {
        "duration": 93,
        "start_time": "2023-03-05T13:09:17.470Z"
      },
      {
        "duration": 12,
        "start_time": "2023-03-05T13:09:17.565Z"
      },
      {
        "duration": 15,
        "start_time": "2023-03-05T13:09:17.579Z"
      },
      {
        "duration": 14,
        "start_time": "2023-03-05T13:09:23.280Z"
      },
      {
        "duration": 6,
        "start_time": "2023-03-05T13:10:03.482Z"
      },
      {
        "duration": 74,
        "start_time": "2023-03-05T13:10:09.791Z"
      },
      {
        "duration": 6,
        "start_time": "2023-03-05T13:10:38.468Z"
      },
      {
        "duration": 6,
        "start_time": "2023-03-05T13:10:51.282Z"
      },
      {
        "duration": 242,
        "start_time": "2023-03-05T13:11:08.134Z"
      },
      {
        "duration": 6,
        "start_time": "2023-03-05T13:11:14.263Z"
      },
      {
        "duration": 9,
        "start_time": "2023-03-05T13:11:19.763Z"
      },
      {
        "duration": 12,
        "start_time": "2023-03-05T13:11:33.107Z"
      },
      {
        "duration": 6,
        "start_time": "2023-03-05T13:12:11.360Z"
      },
      {
        "duration": 3,
        "start_time": "2023-03-05T13:13:31.414Z"
      },
      {
        "duration": 69,
        "start_time": "2023-03-05T13:13:31.419Z"
      },
      {
        "duration": 7,
        "start_time": "2023-03-05T13:13:31.491Z"
      },
      {
        "duration": 33,
        "start_time": "2023-03-05T13:13:31.501Z"
      },
      {
        "duration": 388,
        "start_time": "2023-03-05T13:13:31.536Z"
      },
      {
        "duration": 25,
        "start_time": "2023-03-05T13:13:31.926Z"
      },
      {
        "duration": 16,
        "start_time": "2023-03-05T13:13:31.957Z"
      },
      {
        "duration": 338,
        "start_time": "2023-03-05T13:13:31.975Z"
      },
      {
        "duration": 4,
        "start_time": "2023-03-05T13:13:32.315Z"
      },
      {
        "duration": 95,
        "start_time": "2023-03-05T13:13:32.321Z"
      },
      {
        "duration": 12,
        "start_time": "2023-03-05T13:13:32.417Z"
      },
      {
        "duration": 23,
        "start_time": "2023-03-05T13:13:32.431Z"
      },
      {
        "duration": 7,
        "start_time": "2023-03-05T13:13:41.264Z"
      },
      {
        "duration": 5,
        "start_time": "2023-03-05T13:13:51.676Z"
      },
      {
        "duration": 14,
        "start_time": "2023-03-05T13:13:58.002Z"
      },
      {
        "duration": 5,
        "start_time": "2023-03-05T13:14:04.562Z"
      },
      {
        "duration": 7,
        "start_time": "2023-03-05T13:14:44.961Z"
      },
      {
        "duration": 5,
        "start_time": "2023-03-05T13:14:52.534Z"
      },
      {
        "duration": 22,
        "start_time": "2023-03-05T13:14:54.906Z"
      },
      {
        "duration": 24,
        "start_time": "2023-03-05T13:19:02.404Z"
      },
      {
        "duration": 14,
        "start_time": "2023-03-05T13:21:25.788Z"
      },
      {
        "duration": 29,
        "start_time": "2023-03-05T13:21:51.781Z"
      },
      {
        "duration": 27,
        "start_time": "2023-03-05T13:23:29.112Z"
      },
      {
        "duration": 19,
        "start_time": "2023-03-05T13:30:09.793Z"
      },
      {
        "duration": 19,
        "start_time": "2023-03-05T13:30:58.113Z"
      },
      {
        "duration": 1304,
        "start_time": "2023-03-05T19:28:04.910Z"
      },
      {
        "duration": 74,
        "start_time": "2023-03-05T19:28:06.220Z"
      },
      {
        "duration": 18,
        "start_time": "2023-03-05T19:28:06.296Z"
      },
      {
        "duration": 30,
        "start_time": "2023-03-05T19:28:06.320Z"
      },
      {
        "duration": 371,
        "start_time": "2023-03-05T19:28:06.352Z"
      },
      {
        "duration": 5,
        "start_time": "2023-03-05T19:28:06.725Z"
      },
      {
        "duration": 13,
        "start_time": "2023-03-05T19:28:06.731Z"
      },
      {
        "duration": 330,
        "start_time": "2023-03-05T19:28:06.746Z"
      },
      {
        "duration": 3,
        "start_time": "2023-03-05T19:28:07.078Z"
      },
      {
        "duration": 172,
        "start_time": "2023-03-05T19:28:07.091Z"
      },
      {
        "duration": 9,
        "start_time": "2023-03-05T19:28:07.265Z"
      },
      {
        "duration": 15,
        "start_time": "2023-03-05T19:28:07.275Z"
      },
      {
        "duration": 35,
        "start_time": "2023-03-05T19:28:07.291Z"
      },
      {
        "duration": 9,
        "start_time": "2023-03-05T19:28:07.328Z"
      },
      {
        "duration": 10,
        "start_time": "2023-03-05T19:28:07.338Z"
      },
      {
        "duration": 5,
        "start_time": "2023-03-05T19:28:07.349Z"
      },
      {
        "duration": 18,
        "start_time": "2023-03-05T19:28:07.356Z"
      },
      {
        "duration": 105,
        "start_time": "2023-03-05T19:29:18.665Z"
      },
      {
        "duration": 51,
        "start_time": "2023-03-06T09:57:59.841Z"
      },
      {
        "duration": 1383,
        "start_time": "2023-03-06T09:58:05.724Z"
      },
      {
        "duration": 75,
        "start_time": "2023-03-06T09:58:07.109Z"
      },
      {
        "duration": 5,
        "start_time": "2023-03-06T09:58:07.185Z"
      },
      {
        "duration": 21,
        "start_time": "2023-03-06T09:58:07.192Z"
      },
      {
        "duration": 348,
        "start_time": "2023-03-06T09:58:07.215Z"
      },
      {
        "duration": 4,
        "start_time": "2023-03-06T09:58:07.564Z"
      },
      {
        "duration": 18,
        "start_time": "2023-03-06T09:58:07.570Z"
      },
      {
        "duration": 353,
        "start_time": "2023-03-06T09:58:07.590Z"
      },
      {
        "duration": 3,
        "start_time": "2023-03-06T09:58:07.945Z"
      },
      {
        "duration": 165,
        "start_time": "2023-03-06T09:58:07.950Z"
      },
      {
        "duration": 11,
        "start_time": "2023-03-06T09:58:08.116Z"
      },
      {
        "duration": 12,
        "start_time": "2023-03-06T09:58:08.129Z"
      },
      {
        "duration": 7,
        "start_time": "2023-03-06T09:58:08.143Z"
      },
      {
        "duration": 7,
        "start_time": "2023-03-06T09:58:08.153Z"
      },
      {
        "duration": 42,
        "start_time": "2023-03-06T09:58:08.162Z"
      },
      {
        "duration": 7,
        "start_time": "2023-03-06T09:58:08.206Z"
      },
      {
        "duration": 27,
        "start_time": "2023-03-06T09:58:08.215Z"
      },
      {
        "duration": 125,
        "start_time": "2023-03-06T09:58:08.244Z"
      },
      {
        "duration": 80,
        "start_time": "2023-03-06T09:58:20.974Z"
      },
      {
        "duration": 9,
        "start_time": "2023-03-06T09:58:52.324Z"
      },
      {
        "duration": 15,
        "start_time": "2023-03-06T09:59:42.950Z"
      },
      {
        "duration": 113,
        "start_time": "2023-03-06T09:59:52.344Z"
      },
      {
        "duration": 85,
        "start_time": "2023-03-06T10:06:40.326Z"
      },
      {
        "duration": 116,
        "start_time": "2023-03-06T10:07:09.424Z"
      },
      {
        "duration": 113,
        "start_time": "2023-03-06T10:07:23.525Z"
      },
      {
        "duration": 101,
        "start_time": "2023-03-06T10:07:41.824Z"
      },
      {
        "duration": 185,
        "start_time": "2023-03-06T10:08:24.298Z"
      },
      {
        "duration": 13,
        "start_time": "2023-03-06T10:32:30.551Z"
      },
      {
        "duration": 102,
        "start_time": "2023-03-06T10:33:32.742Z"
      },
      {
        "duration": 106,
        "start_time": "2023-03-06T10:33:55.742Z"
      },
      {
        "duration": 121,
        "start_time": "2023-03-06T10:34:40.139Z"
      },
      {
        "duration": 135,
        "start_time": "2023-03-06T10:34:50.019Z"
      },
      {
        "duration": 143,
        "start_time": "2023-03-06T10:39:31.022Z"
      },
      {
        "duration": 3,
        "start_time": "2023-03-06T10:44:37.718Z"
      },
      {
        "duration": 5,
        "start_time": "2023-03-06T10:44:45.145Z"
      },
      {
        "duration": 14,
        "start_time": "2023-03-06T10:46:24.520Z"
      },
      {
        "duration": 17,
        "start_time": "2023-03-06T10:47:03.086Z"
      },
      {
        "duration": 17,
        "start_time": "2023-03-06T10:47:15.416Z"
      },
      {
        "duration": 32,
        "start_time": "2023-03-06T10:50:07.251Z"
      },
      {
        "duration": 28,
        "start_time": "2023-03-06T10:50:21.559Z"
      },
      {
        "duration": 18,
        "start_time": "2023-03-06T10:50:30.141Z"
      },
      {
        "duration": 21,
        "start_time": "2023-03-06T10:50:48.704Z"
      },
      {
        "duration": 22,
        "start_time": "2023-03-06T10:51:32.806Z"
      },
      {
        "duration": 11,
        "start_time": "2023-03-06T10:54:10.275Z"
      },
      {
        "duration": 18,
        "start_time": "2023-03-06T10:54:17.557Z"
      },
      {
        "duration": 124,
        "start_time": "2023-03-06T10:57:03.130Z"
      },
      {
        "duration": 129,
        "start_time": "2023-03-06T10:58:51.401Z"
      },
      {
        "duration": 13,
        "start_time": "2023-03-06T10:59:16.502Z"
      },
      {
        "duration": 202,
        "start_time": "2023-03-06T11:00:00.936Z"
      },
      {
        "duration": 176,
        "start_time": "2023-03-06T11:00:20.993Z"
      },
      {
        "duration": 195,
        "start_time": "2023-03-06T11:01:08.993Z"
      },
      {
        "duration": 121,
        "start_time": "2023-03-06T11:01:12.735Z"
      },
      {
        "duration": 114,
        "start_time": "2023-03-06T11:01:25.703Z"
      },
      {
        "duration": 270,
        "start_time": "2023-03-06T11:04:08.028Z"
      },
      {
        "duration": 274,
        "start_time": "2023-03-06T11:04:26.783Z"
      },
      {
        "duration": 130,
        "start_time": "2023-03-06T11:04:57.696Z"
      },
      {
        "duration": 123,
        "start_time": "2023-03-06T11:05:07.883Z"
      },
      {
        "duration": 14,
        "start_time": "2023-03-06T11:05:46.032Z"
      },
      {
        "duration": 97,
        "start_time": "2023-03-06T11:08:24.352Z"
      },
      {
        "duration": 110,
        "start_time": "2023-03-06T11:08:36.756Z"
      },
      {
        "duration": 78,
        "start_time": "2023-03-06T11:09:29.790Z"
      },
      {
        "duration": 106,
        "start_time": "2023-03-06T11:09:36.217Z"
      },
      {
        "duration": 1223,
        "start_time": "2023-03-06T11:30:30.020Z"
      },
      {
        "duration": 74,
        "start_time": "2023-03-06T11:30:31.245Z"
      },
      {
        "duration": 5,
        "start_time": "2023-03-06T11:30:31.321Z"
      },
      {
        "duration": 24,
        "start_time": "2023-03-06T11:30:31.329Z"
      },
      {
        "duration": 370,
        "start_time": "2023-03-06T11:30:31.355Z"
      },
      {
        "duration": 4,
        "start_time": "2023-03-06T11:30:31.727Z"
      },
      {
        "duration": 30,
        "start_time": "2023-03-06T11:30:31.732Z"
      },
      {
        "duration": 328,
        "start_time": "2023-03-06T11:30:31.764Z"
      },
      {
        "duration": 10,
        "start_time": "2023-03-06T11:30:32.093Z"
      },
      {
        "duration": 265,
        "start_time": "2023-03-06T11:30:32.105Z"
      },
      {
        "duration": 11,
        "start_time": "2023-03-06T11:30:32.372Z"
      },
      {
        "duration": 28,
        "start_time": "2023-03-06T11:30:32.385Z"
      },
      {
        "duration": 21,
        "start_time": "2023-03-06T11:30:32.414Z"
      },
      {
        "duration": 34,
        "start_time": "2023-03-06T11:30:32.437Z"
      },
      {
        "duration": 19,
        "start_time": "2023-03-06T11:30:32.473Z"
      },
      {
        "duration": 26,
        "start_time": "2023-03-06T11:30:32.493Z"
      },
      {
        "duration": 31,
        "start_time": "2023-03-06T11:30:32.521Z"
      },
      {
        "duration": 118,
        "start_time": "2023-03-06T11:30:32.554Z"
      },
      {
        "duration": 143,
        "start_time": "2023-03-06T11:30:32.673Z"
      },
      {
        "duration": 104,
        "start_time": "2023-03-06T11:30:32.817Z"
      },
      {
        "duration": 0,
        "start_time": "2023-03-06T11:30:32.923Z"
      },
      {
        "duration": 12,
        "start_time": "2023-03-06T11:30:51.242Z"
      },
      {
        "duration": 121,
        "start_time": "2023-03-06T11:30:54.441Z"
      },
      {
        "duration": 59,
        "start_time": "2023-03-06T11:31:42.824Z"
      },
      {
        "duration": 129,
        "start_time": "2023-03-06T11:33:10.445Z"
      },
      {
        "duration": 71,
        "start_time": "2023-03-06T11:33:46.515Z"
      },
      {
        "duration": 131,
        "start_time": "2023-03-06T11:34:02.657Z"
      },
      {
        "duration": 139,
        "start_time": "2023-03-06T11:34:09.945Z"
      },
      {
        "duration": 13,
        "start_time": "2023-03-06T11:34:26.796Z"
      },
      {
        "duration": 224,
        "start_time": "2023-03-06T11:34:32.392Z"
      },
      {
        "duration": 131,
        "start_time": "2023-03-06T11:46:40.723Z"
      },
      {
        "duration": 1440,
        "start_time": "2023-03-06T13:23:35.036Z"
      },
      {
        "duration": 81,
        "start_time": "2023-03-06T13:23:36.479Z"
      },
      {
        "duration": 5,
        "start_time": "2023-03-06T13:23:36.562Z"
      },
      {
        "duration": 15,
        "start_time": "2023-03-06T13:23:36.570Z"
      },
      {
        "duration": 396,
        "start_time": "2023-03-06T13:23:36.587Z"
      },
      {
        "duration": 4,
        "start_time": "2023-03-06T13:23:36.992Z"
      },
      {
        "duration": 23,
        "start_time": "2023-03-06T13:23:36.999Z"
      },
      {
        "duration": 327,
        "start_time": "2023-03-06T13:23:37.024Z"
      },
      {
        "duration": 3,
        "start_time": "2023-03-06T13:23:37.353Z"
      },
      {
        "duration": 184,
        "start_time": "2023-03-06T13:23:37.359Z"
      },
      {
        "duration": 18,
        "start_time": "2023-03-06T13:23:37.545Z"
      },
      {
        "duration": 18,
        "start_time": "2023-03-06T13:23:37.565Z"
      },
      {
        "duration": 14,
        "start_time": "2023-03-06T13:23:37.585Z"
      },
      {
        "duration": 23,
        "start_time": "2023-03-06T13:23:37.601Z"
      },
      {
        "duration": 14,
        "start_time": "2023-03-06T13:23:37.626Z"
      },
      {
        "duration": 21,
        "start_time": "2023-03-06T13:23:37.642Z"
      },
      {
        "duration": 34,
        "start_time": "2023-03-06T13:23:37.665Z"
      },
      {
        "duration": 141,
        "start_time": "2023-03-06T13:23:37.701Z"
      },
      {
        "duration": 132,
        "start_time": "2023-03-06T13:23:37.843Z"
      },
      {
        "duration": 24,
        "start_time": "2023-03-06T13:23:37.976Z"
      },
      {
        "duration": 167,
        "start_time": "2023-03-06T13:23:38.002Z"
      },
      {
        "duration": 107,
        "start_time": "2023-03-06T13:23:38.171Z"
      },
      {
        "duration": 116,
        "start_time": "2023-03-06T13:23:38.290Z"
      },
      {
        "duration": 133,
        "start_time": "2023-03-06T13:48:02.093Z"
      },
      {
        "duration": 13,
        "start_time": "2023-03-06T13:48:20.031Z"
      },
      {
        "duration": 11,
        "start_time": "2023-03-06T13:48:27.730Z"
      },
      {
        "duration": 278,
        "start_time": "2023-03-06T13:50:03.381Z"
      },
      {
        "duration": 286,
        "start_time": "2023-03-06T13:50:32.096Z"
      },
      {
        "duration": 269,
        "start_time": "2023-03-06T13:50:57.863Z"
      },
      {
        "duration": 351,
        "start_time": "2023-03-06T13:53:48.366Z"
      },
      {
        "duration": 36,
        "start_time": "2023-03-06T13:54:48.245Z"
      },
      {
        "duration": 214,
        "start_time": "2023-03-06T13:55:17.852Z"
      },
      {
        "duration": 20,
        "start_time": "2023-03-06T13:58:20.769Z"
      },
      {
        "duration": 223,
        "start_time": "2023-03-06T13:59:45.231Z"
      },
      {
        "duration": 223,
        "start_time": "2023-03-06T14:08:30.902Z"
      },
      {
        "duration": 92,
        "start_time": "2023-03-06T14:19:04.626Z"
      },
      {
        "duration": 330,
        "start_time": "2023-03-06T14:19:13.886Z"
      },
      {
        "duration": 303,
        "start_time": "2023-03-06T14:19:45.643Z"
      },
      {
        "duration": 319,
        "start_time": "2023-03-06T14:20:09.480Z"
      },
      {
        "duration": 6,
        "start_time": "2023-03-06T14:31:17.198Z"
      },
      {
        "duration": 1399,
        "start_time": "2023-03-06T17:34:04.218Z"
      },
      {
        "duration": 87,
        "start_time": "2023-03-06T17:34:05.619Z"
      },
      {
        "duration": 4,
        "start_time": "2023-03-06T17:34:05.708Z"
      },
      {
        "duration": 16,
        "start_time": "2023-03-06T17:34:05.714Z"
      },
      {
        "duration": 368,
        "start_time": "2023-03-06T17:34:05.731Z"
      },
      {
        "duration": 3,
        "start_time": "2023-03-06T17:34:06.101Z"
      },
      {
        "duration": 25,
        "start_time": "2023-03-06T17:34:06.106Z"
      },
      {
        "duration": 340,
        "start_time": "2023-03-06T17:34:06.133Z"
      },
      {
        "duration": 3,
        "start_time": "2023-03-06T17:34:06.475Z"
      },
      {
        "duration": 157,
        "start_time": "2023-03-06T17:34:06.481Z"
      },
      {
        "duration": 20,
        "start_time": "2023-03-06T17:34:06.641Z"
      },
      {
        "duration": 11,
        "start_time": "2023-03-06T17:34:06.664Z"
      },
      {
        "duration": 9,
        "start_time": "2023-03-06T17:34:06.676Z"
      },
      {
        "duration": 6,
        "start_time": "2023-03-06T17:34:06.686Z"
      },
      {
        "duration": 5,
        "start_time": "2023-03-06T17:34:06.694Z"
      },
      {
        "duration": 5,
        "start_time": "2023-03-06T17:34:06.700Z"
      },
      {
        "duration": 53,
        "start_time": "2023-03-06T17:34:06.707Z"
      },
      {
        "duration": 147,
        "start_time": "2023-03-06T17:34:06.762Z"
      },
      {
        "duration": 153,
        "start_time": "2023-03-06T17:34:06.911Z"
      },
      {
        "duration": 14,
        "start_time": "2023-03-06T17:34:07.066Z"
      },
      {
        "duration": 174,
        "start_time": "2023-03-06T17:34:07.081Z"
      },
      {
        "duration": 125,
        "start_time": "2023-03-06T17:34:07.257Z"
      },
      {
        "duration": 128,
        "start_time": "2023-03-06T17:34:07.383Z"
      },
      {
        "duration": 19,
        "start_time": "2023-03-06T17:34:07.512Z"
      },
      {
        "duration": 22,
        "start_time": "2023-03-06T17:34:07.543Z"
      },
      {
        "duration": 327,
        "start_time": "2023-03-06T17:34:07.566Z"
      },
      {
        "duration": 375,
        "start_time": "2023-03-06T17:34:07.895Z"
      },
      {
        "duration": 316,
        "start_time": "2023-03-06T17:34:08.275Z"
      },
      {
        "duration": 316,
        "start_time": "2023-03-06T17:34:08.593Z"
      },
      {
        "duration": 6,
        "start_time": "2023-03-06T17:34:08.911Z"
      },
      {
        "duration": 154,
        "start_time": "2023-03-06T17:34:16.270Z"
      },
      {
        "duration": 160,
        "start_time": "2023-03-06T17:34:48.068Z"
      },
      {
        "duration": 200,
        "start_time": "2023-03-06T17:36:18.536Z"
      },
      {
        "duration": 227,
        "start_time": "2023-03-06T17:55:27.548Z"
      },
      {
        "duration": 420,
        "start_time": "2023-03-06T17:55:45.498Z"
      },
      {
        "duration": 349,
        "start_time": "2023-03-06T17:56:19.126Z"
      },
      {
        "duration": 319,
        "start_time": "2023-03-06T17:57:12.925Z"
      },
      {
        "duration": 16,
        "start_time": "2023-03-06T18:12:52.367Z"
      },
      {
        "duration": 13,
        "start_time": "2023-03-06T18:13:34.743Z"
      },
      {
        "duration": 13,
        "start_time": "2023-03-06T18:13:47.463Z"
      },
      {
        "duration": 11,
        "start_time": "2023-03-06T18:14:46.059Z"
      },
      {
        "duration": 117,
        "start_time": "2023-03-06T18:15:08.933Z"
      },
      {
        "duration": 5,
        "start_time": "2023-03-06T18:22:55.405Z"
      },
      {
        "duration": 5,
        "start_time": "2023-03-06T18:27:59.130Z"
      },
      {
        "duration": 10,
        "start_time": "2023-03-06T18:31:59.807Z"
      },
      {
        "duration": 1060,
        "start_time": "2023-03-06T18:32:36.827Z"
      },
      {
        "duration": 140,
        "start_time": "2023-03-06T18:32:45.279Z"
      },
      {
        "duration": 6,
        "start_time": "2023-03-06T18:34:32.171Z"
      },
      {
        "duration": 168,
        "start_time": "2023-03-06T19:07:20.262Z"
      },
      {
        "duration": 253,
        "start_time": "2023-03-06T19:08:12.249Z"
      },
      {
        "duration": 10,
        "start_time": "2023-03-06T19:18:02.950Z"
      },
      {
        "duration": 15,
        "start_time": "2023-03-06T19:18:28.118Z"
      },
      {
        "duration": 9,
        "start_time": "2023-03-06T19:18:31.631Z"
      },
      {
        "duration": 151,
        "start_time": "2023-03-06T19:19:17.657Z"
      },
      {
        "duration": 3,
        "start_time": "2023-03-06T19:19:36.465Z"
      },
      {
        "duration": 215,
        "start_time": "2023-03-06T19:19:43.714Z"
      },
      {
        "duration": 7,
        "start_time": "2023-03-06T19:19:47.167Z"
      },
      {
        "duration": 45,
        "start_time": "2023-03-06T19:20:17.104Z"
      },
      {
        "duration": 5,
        "start_time": "2023-03-06T19:20:21.971Z"
      },
      {
        "duration": 5,
        "start_time": "2023-03-06T19:21:26.806Z"
      },
      {
        "duration": 154,
        "start_time": "2023-03-06T19:26:12.510Z"
      },
      {
        "duration": 170,
        "start_time": "2023-03-06T19:37:42.527Z"
      },
      {
        "duration": 12,
        "start_time": "2023-03-06T19:38:33.616Z"
      },
      {
        "duration": 949,
        "start_time": "2023-03-06T19:51:32.732Z"
      },
      {
        "duration": 7,
        "start_time": "2023-03-06T19:51:46.704Z"
      },
      {
        "duration": 10,
        "start_time": "2023-03-06T19:51:53.366Z"
      },
      {
        "duration": 1009,
        "start_time": "2023-03-06T19:56:11.693Z"
      },
      {
        "duration": 11,
        "start_time": "2023-03-06T19:57:59.403Z"
      },
      {
        "duration": 10,
        "start_time": "2023-03-06T19:58:19.209Z"
      },
      {
        "duration": 14,
        "start_time": "2023-03-06T19:58:29.231Z"
      },
      {
        "duration": 45,
        "start_time": "2023-03-06T20:04:27.141Z"
      },
      {
        "duration": 16,
        "start_time": "2023-03-06T20:04:52.447Z"
      },
      {
        "duration": 30,
        "start_time": "2023-03-06T20:04:57.381Z"
      },
      {
        "duration": 788,
        "start_time": "2023-03-06T20:10:48.209Z"
      },
      {
        "duration": 20,
        "start_time": "2023-03-06T20:11:29.106Z"
      },
      {
        "duration": 321,
        "start_time": "2023-03-06T20:26:46.716Z"
      },
      {
        "duration": 225,
        "start_time": "2023-03-06T20:26:59.541Z"
      },
      {
        "duration": 219,
        "start_time": "2023-03-06T20:27:35.078Z"
      },
      {
        "duration": 426,
        "start_time": "2023-03-06T20:33:38.263Z"
      },
      {
        "duration": 107,
        "start_time": "2023-03-06T20:36:16.110Z"
      },
      {
        "duration": 394,
        "start_time": "2023-03-06T20:36:28.405Z"
      },
      {
        "duration": 406,
        "start_time": "2023-03-06T20:36:47.573Z"
      },
      {
        "duration": 348,
        "start_time": "2023-03-06T20:37:30.621Z"
      },
      {
        "duration": 1512,
        "start_time": "2023-03-06T20:50:04.709Z"
      },
      {
        "duration": 155,
        "start_time": "2023-03-06T20:50:06.223Z"
      },
      {
        "duration": 12,
        "start_time": "2023-03-06T20:50:06.381Z"
      },
      {
        "duration": 23,
        "start_time": "2023-03-06T20:50:06.403Z"
      },
      {
        "duration": 497,
        "start_time": "2023-03-06T20:50:06.429Z"
      },
      {
        "duration": 4,
        "start_time": "2023-03-06T20:50:06.929Z"
      },
      {
        "duration": 32,
        "start_time": "2023-03-06T20:50:06.941Z"
      },
      {
        "duration": 520,
        "start_time": "2023-03-06T20:50:06.976Z"
      },
      {
        "duration": 10,
        "start_time": "2023-03-06T20:50:07.497Z"
      },
      {
        "duration": 263,
        "start_time": "2023-03-06T20:50:07.514Z"
      },
      {
        "duration": 28,
        "start_time": "2023-03-06T20:50:07.783Z"
      },
      {
        "duration": 19,
        "start_time": "2023-03-06T20:50:07.815Z"
      },
      {
        "duration": 43,
        "start_time": "2023-03-06T20:50:07.837Z"
      },
      {
        "duration": 20,
        "start_time": "2023-03-06T20:50:07.892Z"
      },
      {
        "duration": 10,
        "start_time": "2023-03-06T20:50:07.915Z"
      },
      {
        "duration": 8,
        "start_time": "2023-03-06T20:50:07.945Z"
      },
      {
        "duration": 48,
        "start_time": "2023-03-06T20:50:07.955Z"
      },
      {
        "duration": 189,
        "start_time": "2023-03-06T20:50:08.005Z"
      },
      {
        "duration": 195,
        "start_time": "2023-03-06T20:50:08.203Z"
      },
      {
        "duration": 23,
        "start_time": "2023-03-06T20:50:08.400Z"
      },
      {
        "duration": 214,
        "start_time": "2023-03-06T20:50:08.433Z"
      },
      {
        "duration": 369,
        "start_time": "2023-03-06T20:50:08.661Z"
      },
      {
        "duration": 380,
        "start_time": "2023-03-06T20:50:09.032Z"
      },
      {
        "duration": 282,
        "start_time": "2023-03-06T20:50:09.416Z"
      },
      {
        "duration": 304,
        "start_time": "2023-03-06T20:50:09.701Z"
      },
      {
        "duration": 16,
        "start_time": "2023-03-06T20:50:10.011Z"
      },
      {
        "duration": 355,
        "start_time": "2023-03-06T20:50:10.031Z"
      },
      {
        "duration": 331,
        "start_time": "2023-03-06T20:50:10.387Z"
      },
      {
        "duration": 18,
        "start_time": "2023-03-06T20:50:10.720Z"
      },
      {
        "duration": 16,
        "start_time": "2023-03-06T20:50:10.740Z"
      },
      {
        "duration": 150,
        "start_time": "2023-03-06T20:50:10.758Z"
      },
      {
        "duration": 8,
        "start_time": "2023-03-06T20:50:10.910Z"
      },
      {
        "duration": 10,
        "start_time": "2023-03-06T20:50:10.923Z"
      },
      {
        "duration": 162,
        "start_time": "2023-03-06T20:50:10.935Z"
      },
      {
        "duration": 7,
        "start_time": "2023-03-06T20:50:11.099Z"
      },
      {
        "duration": 261,
        "start_time": "2023-03-06T20:50:11.111Z"
      },
      {
        "duration": 214,
        "start_time": "2023-03-06T20:50:11.374Z"
      },
      {
        "duration": 17,
        "start_time": "2023-03-06T20:50:11.594Z"
      },
      {
        "duration": 18,
        "start_time": "2023-03-06T20:50:11.617Z"
      },
      {
        "duration": 74,
        "start_time": "2023-03-06T20:50:11.637Z"
      },
      {
        "duration": 19,
        "start_time": "2023-03-06T20:50:11.719Z"
      },
      {
        "duration": 305,
        "start_time": "2023-03-06T20:50:11.743Z"
      },
      {
        "duration": 420,
        "start_time": "2023-03-06T20:50:12.049Z"
      },
      {
        "duration": 1540,
        "start_time": "2023-03-07T18:47:25.983Z"
      },
      {
        "duration": 126,
        "start_time": "2023-03-07T18:47:27.525Z"
      },
      {
        "duration": 11,
        "start_time": "2023-03-07T18:47:27.656Z"
      },
      {
        "duration": 77,
        "start_time": "2023-03-07T18:47:27.673Z"
      },
      {
        "duration": 520,
        "start_time": "2023-03-07T18:47:27.755Z"
      },
      {
        "duration": 3,
        "start_time": "2023-03-07T18:47:28.278Z"
      },
      {
        "duration": 46,
        "start_time": "2023-03-07T18:47:28.288Z"
      },
      {
        "duration": 517,
        "start_time": "2023-03-07T18:47:28.336Z"
      },
      {
        "duration": 5,
        "start_time": "2023-03-07T18:47:28.856Z"
      },
      {
        "duration": 277,
        "start_time": "2023-03-07T18:47:28.862Z"
      },
      {
        "duration": 18,
        "start_time": "2023-03-07T18:47:29.140Z"
      },
      {
        "duration": 52,
        "start_time": "2023-03-07T18:47:29.160Z"
      },
      {
        "duration": 12,
        "start_time": "2023-03-07T18:47:29.213Z"
      },
      {
        "duration": 94,
        "start_time": "2023-03-07T18:47:29.228Z"
      },
      {
        "duration": 22,
        "start_time": "2023-03-07T18:47:29.324Z"
      },
      {
        "duration": 67,
        "start_time": "2023-03-07T18:47:29.348Z"
      },
      {
        "duration": 23,
        "start_time": "2023-03-07T18:47:29.416Z"
      },
      {
        "duration": 149,
        "start_time": "2023-03-07T18:47:29.442Z"
      },
      {
        "duration": 134,
        "start_time": "2023-03-07T18:47:29.596Z"
      },
      {
        "duration": 16,
        "start_time": "2023-03-07T18:47:29.732Z"
      },
      {
        "duration": 213,
        "start_time": "2023-03-07T18:47:29.752Z"
      },
      {
        "duration": 302,
        "start_time": "2023-03-07T18:47:29.969Z"
      },
      {
        "duration": 338,
        "start_time": "2023-03-07T18:47:30.273Z"
      },
      {
        "duration": 252,
        "start_time": "2023-03-07T18:47:30.615Z"
      },
      {
        "duration": 404,
        "start_time": "2023-03-07T18:47:30.869Z"
      },
      {
        "duration": 8,
        "start_time": "2023-03-07T18:47:31.278Z"
      },
      {
        "duration": 355,
        "start_time": "2023-03-07T18:47:31.291Z"
      },
      {
        "duration": 323,
        "start_time": "2023-03-07T18:47:31.651Z"
      },
      {
        "duration": 14,
        "start_time": "2023-03-07T18:47:31.977Z"
      },
      {
        "duration": 24,
        "start_time": "2023-03-07T18:47:31.993Z"
      },
      {
        "duration": 146,
        "start_time": "2023-03-07T18:47:32.019Z"
      },
      {
        "duration": 27,
        "start_time": "2023-03-07T18:47:32.169Z"
      },
      {
        "duration": 26,
        "start_time": "2023-03-07T18:47:32.205Z"
      },
      {
        "duration": 278,
        "start_time": "2023-03-07T18:47:32.233Z"
      },
      {
        "duration": 7,
        "start_time": "2023-03-07T18:47:32.513Z"
      },
      {
        "duration": 309,
        "start_time": "2023-03-07T18:47:32.522Z"
      },
      {
        "duration": 272,
        "start_time": "2023-03-07T18:47:32.833Z"
      },
      {
        "duration": 13,
        "start_time": "2023-03-07T18:47:33.107Z"
      },
      {
        "duration": 33,
        "start_time": "2023-03-07T18:47:33.121Z"
      },
      {
        "duration": 73,
        "start_time": "2023-03-07T18:47:33.158Z"
      },
      {
        "duration": 25,
        "start_time": "2023-03-07T18:47:33.234Z"
      },
      {
        "duration": 318,
        "start_time": "2023-03-07T18:47:33.263Z"
      },
      {
        "duration": 339,
        "start_time": "2023-03-07T18:47:33.583Z"
      },
      {
        "duration": 1229,
        "start_time": "2023-03-08T16:04:36.620Z"
      },
      {
        "duration": 67,
        "start_time": "2023-03-08T16:04:37.851Z"
      },
      {
        "duration": 4,
        "start_time": "2023-03-08T16:04:37.919Z"
      },
      {
        "duration": 12,
        "start_time": "2023-03-08T16:04:41.858Z"
      },
      {
        "duration": 11,
        "start_time": "2023-03-08T16:05:23.623Z"
      },
      {
        "duration": 12,
        "start_time": "2023-03-08T16:07:52.768Z"
      },
      {
        "duration": 380,
        "start_time": "2023-03-08T16:08:12.659Z"
      },
      {
        "duration": 102,
        "start_time": "2023-03-08T16:27:51.705Z"
      },
      {
        "duration": 3,
        "start_time": "2023-03-08T16:28:01.356Z"
      },
      {
        "duration": 58,
        "start_time": "2023-03-08T16:28:01.361Z"
      },
      {
        "duration": 4,
        "start_time": "2023-03-08T16:28:01.421Z"
      },
      {
        "duration": 32,
        "start_time": "2023-03-08T16:28:01.427Z"
      },
      {
        "duration": 354,
        "start_time": "2023-03-08T16:28:01.462Z"
      },
      {
        "duration": 4,
        "start_time": "2023-03-08T16:28:01.818Z"
      },
      {
        "duration": 37,
        "start_time": "2023-03-08T16:28:01.824Z"
      },
      {
        "duration": 336,
        "start_time": "2023-03-08T16:28:01.862Z"
      },
      {
        "duration": 3,
        "start_time": "2023-03-08T16:28:02.200Z"
      },
      {
        "duration": 152,
        "start_time": "2023-03-08T16:28:02.205Z"
      },
      {
        "duration": 10,
        "start_time": "2023-03-08T16:28:02.359Z"
      },
      {
        "duration": 34,
        "start_time": "2023-03-08T16:28:02.371Z"
      },
      {
        "duration": 46,
        "start_time": "2023-03-08T16:28:02.406Z"
      },
      {
        "duration": 10,
        "start_time": "2023-03-08T16:28:02.453Z"
      },
      {
        "duration": 9,
        "start_time": "2023-03-08T16:28:02.464Z"
      },
      {
        "duration": 5,
        "start_time": "2023-03-08T16:28:02.474Z"
      },
      {
        "duration": 20,
        "start_time": "2023-03-08T16:28:02.481Z"
      },
      {
        "duration": 112,
        "start_time": "2023-03-08T16:28:02.502Z"
      },
      {
        "duration": 118,
        "start_time": "2023-03-08T16:28:02.615Z"
      },
      {
        "duration": 12,
        "start_time": "2023-03-08T16:28:02.734Z"
      },
      {
        "duration": 145,
        "start_time": "2023-03-08T16:28:02.747Z"
      },
      {
        "duration": 11,
        "start_time": "2023-03-08T16:28:06.321Z"
      },
      {
        "duration": 9,
        "start_time": "2023-03-08T16:28:42.176Z"
      },
      {
        "duration": 13,
        "start_time": "2023-03-08T16:28:46.616Z"
      },
      {
        "duration": 8,
        "start_time": "2023-03-08T16:28:52.948Z"
      },
      {
        "duration": 5,
        "start_time": "2023-03-08T16:29:13.818Z"
      },
      {
        "duration": 72,
        "start_time": "2023-03-08T16:33:40.581Z"
      },
      {
        "duration": 4,
        "start_time": "2023-03-08T16:35:23.702Z"
      },
      {
        "duration": 3,
        "start_time": "2023-03-08T16:36:57.912Z"
      },
      {
        "duration": 85,
        "start_time": "2023-03-08T16:37:23.728Z"
      },
      {
        "duration": 17,
        "start_time": "2023-03-08T16:37:28.637Z"
      },
      {
        "duration": 18,
        "start_time": "2023-03-08T16:41:01.071Z"
      },
      {
        "duration": 6,
        "start_time": "2023-03-08T16:41:30.747Z"
      },
      {
        "duration": 100,
        "start_time": "2023-03-08T16:43:52.491Z"
      },
      {
        "duration": 190,
        "start_time": "2023-03-08T16:44:17.302Z"
      },
      {
        "duration": 88,
        "start_time": "2023-03-08T16:44:38.664Z"
      },
      {
        "duration": 15,
        "start_time": "2023-03-08T16:44:43.819Z"
      },
      {
        "duration": 7,
        "start_time": "2023-03-08T16:45:48.015Z"
      },
      {
        "duration": 16,
        "start_time": "2023-03-08T16:46:26.607Z"
      },
      {
        "duration": 80,
        "start_time": "2023-03-08T16:52:57.965Z"
      },
      {
        "duration": 14,
        "start_time": "2023-03-08T16:53:07.738Z"
      },
      {
        "duration": 6,
        "start_time": "2023-03-08T16:53:38.762Z"
      },
      {
        "duration": 7,
        "start_time": "2023-03-08T16:54:22.410Z"
      },
      {
        "duration": 9,
        "start_time": "2023-03-08T16:55:47.719Z"
      },
      {
        "duration": 9,
        "start_time": "2023-03-08T16:57:49.332Z"
      },
      {
        "duration": 11,
        "start_time": "2023-03-08T17:01:04.065Z"
      },
      {
        "duration": 9,
        "start_time": "2023-03-08T17:02:41.497Z"
      },
      {
        "duration": 327,
        "start_time": "2023-03-08T17:02:51.631Z"
      },
      {
        "duration": 10,
        "start_time": "2023-03-08T17:03:13.394Z"
      },
      {
        "duration": 13,
        "start_time": "2023-03-08T17:06:53.750Z"
      },
      {
        "duration": 5,
        "start_time": "2023-03-08T17:11:17.912Z"
      },
      {
        "duration": 10,
        "start_time": "2023-03-08T17:12:18.579Z"
      },
      {
        "duration": 13,
        "start_time": "2023-03-08T17:12:46.745Z"
      },
      {
        "duration": 14,
        "start_time": "2023-03-08T17:13:30.116Z"
      },
      {
        "duration": 3,
        "start_time": "2023-03-08T17:15:31.237Z"
      },
      {
        "duration": 6,
        "start_time": "2023-03-08T17:15:35.575Z"
      },
      {
        "duration": 11,
        "start_time": "2023-03-08T17:17:02.430Z"
      },
      {
        "duration": 11,
        "start_time": "2023-03-08T17:17:33.625Z"
      },
      {
        "duration": 5,
        "start_time": "2023-03-08T17:19:57.470Z"
      },
      {
        "duration": 13,
        "start_time": "2023-03-08T17:20:05.845Z"
      },
      {
        "duration": 11,
        "start_time": "2023-03-08T17:20:48.625Z"
      },
      {
        "duration": 8,
        "start_time": "2023-03-08T17:20:59.944Z"
      },
      {
        "duration": 11,
        "start_time": "2023-03-08T17:21:33.364Z"
      },
      {
        "duration": 16,
        "start_time": "2023-03-08T17:21:53.934Z"
      },
      {
        "duration": 8,
        "start_time": "2023-03-08T17:22:03.792Z"
      },
      {
        "duration": 8,
        "start_time": "2023-03-08T17:22:22.414Z"
      },
      {
        "duration": 7,
        "start_time": "2023-03-08T17:22:31.211Z"
      },
      {
        "duration": 7,
        "start_time": "2023-03-08T17:22:57.602Z"
      },
      {
        "duration": 10,
        "start_time": "2023-03-08T17:27:38.605Z"
      },
      {
        "duration": 6,
        "start_time": "2023-03-08T17:27:58.563Z"
      },
      {
        "duration": 11,
        "start_time": "2023-03-08T17:37:45.831Z"
      },
      {
        "duration": 12,
        "start_time": "2023-03-08T17:44:30.007Z"
      },
      {
        "duration": 8,
        "start_time": "2023-03-08T17:54:32.397Z"
      },
      {
        "duration": 24,
        "start_time": "2023-03-08T18:01:13.704Z"
      },
      {
        "duration": 10,
        "start_time": "2023-03-08T18:01:23.144Z"
      },
      {
        "duration": 11,
        "start_time": "2023-03-08T18:01:34.924Z"
      },
      {
        "duration": 14,
        "start_time": "2023-03-08T18:02:50.017Z"
      },
      {
        "duration": 13,
        "start_time": "2023-03-08T18:07:24.536Z"
      },
      {
        "duration": 10,
        "start_time": "2023-03-08T18:07:45.538Z"
      },
      {
        "duration": 16,
        "start_time": "2023-03-08T18:09:24.635Z"
      },
      {
        "duration": 11,
        "start_time": "2023-03-08T18:20:30.714Z"
      },
      {
        "duration": 4,
        "start_time": "2023-03-08T18:20:37.716Z"
      },
      {
        "duration": 32,
        "start_time": "2023-03-08T18:20:37.722Z"
      },
      {
        "duration": 4,
        "start_time": "2023-03-08T18:20:37.756Z"
      },
      {
        "duration": 13,
        "start_time": "2023-03-08T18:20:37.761Z"
      },
      {
        "duration": 331,
        "start_time": "2023-03-08T18:20:37.777Z"
      },
      {
        "duration": 5,
        "start_time": "2023-03-08T18:20:38.110Z"
      },
      {
        "duration": 27,
        "start_time": "2023-03-08T18:20:38.117Z"
      },
      {
        "duration": 356,
        "start_time": "2023-03-08T18:20:38.146Z"
      },
      {
        "duration": 3,
        "start_time": "2023-03-08T18:20:38.504Z"
      },
      {
        "duration": 64,
        "start_time": "2023-03-08T18:20:38.508Z"
      },
      {
        "duration": 23,
        "start_time": "2023-03-08T18:20:38.574Z"
      },
      {
        "duration": 13,
        "start_time": "2023-03-08T18:20:38.600Z"
      },
      {
        "duration": 8,
        "start_time": "2023-03-08T18:20:38.615Z"
      },
      {
        "duration": 9,
        "start_time": "2023-03-08T18:20:38.624Z"
      },
      {
        "duration": 9,
        "start_time": "2023-03-08T18:20:38.635Z"
      },
      {
        "duration": 8,
        "start_time": "2023-03-08T18:20:38.645Z"
      },
      {
        "duration": 26,
        "start_time": "2023-03-08T18:20:38.654Z"
      },
      {
        "duration": 122,
        "start_time": "2023-03-08T18:20:38.682Z"
      },
      {
        "duration": 187,
        "start_time": "2023-03-08T18:20:38.805Z"
      },
      {
        "duration": 14,
        "start_time": "2023-03-08T18:20:38.993Z"
      },
      {
        "duration": 158,
        "start_time": "2023-03-08T18:20:39.008Z"
      },
      {
        "duration": 18,
        "start_time": "2023-03-08T18:20:39.168Z"
      },
      {
        "duration": 22,
        "start_time": "2023-03-08T18:20:39.188Z"
      },
      {
        "duration": 18,
        "start_time": "2023-03-08T18:20:39.212Z"
      },
      {
        "duration": 315,
        "start_time": "2023-03-08T18:20:39.231Z"
      },
      {
        "duration": 315,
        "start_time": "2023-03-08T18:20:42.697Z"
      },
      {
        "duration": 247,
        "start_time": "2023-03-08T18:27:24.607Z"
      },
      {
        "duration": 206,
        "start_time": "2023-03-08T18:27:40.515Z"
      },
      {
        "duration": 229,
        "start_time": "2023-03-08T18:28:50.318Z"
      },
      {
        "duration": 195,
        "start_time": "2023-03-08T18:29:53.915Z"
      },
      {
        "duration": 192,
        "start_time": "2023-03-08T18:30:02.909Z"
      },
      {
        "duration": 10,
        "start_time": "2023-03-08T18:31:15.453Z"
      },
      {
        "duration": 3,
        "start_time": "2023-03-08T18:31:57.455Z"
      },
      {
        "duration": 39,
        "start_time": "2023-03-08T18:31:57.462Z"
      },
      {
        "duration": 5,
        "start_time": "2023-03-08T18:31:57.503Z"
      },
      {
        "duration": 26,
        "start_time": "2023-03-08T18:31:57.510Z"
      },
      {
        "duration": 324,
        "start_time": "2023-03-08T18:31:57.538Z"
      },
      {
        "duration": 4,
        "start_time": "2023-03-08T18:31:57.863Z"
      },
      {
        "duration": 23,
        "start_time": "2023-03-08T18:31:57.868Z"
      },
      {
        "duration": 305,
        "start_time": "2023-03-08T18:31:57.893Z"
      },
      {
        "duration": 4,
        "start_time": "2023-03-08T18:31:58.200Z"
      },
      {
        "duration": 63,
        "start_time": "2023-03-08T18:31:58.206Z"
      },
      {
        "duration": 9,
        "start_time": "2023-03-08T18:31:58.271Z"
      },
      {
        "duration": 27,
        "start_time": "2023-03-08T18:31:58.282Z"
      },
      {
        "duration": 8,
        "start_time": "2023-03-08T18:31:58.311Z"
      },
      {
        "duration": 9,
        "start_time": "2023-03-08T18:31:58.321Z"
      },
      {
        "duration": 8,
        "start_time": "2023-03-08T18:31:58.332Z"
      },
      {
        "duration": 6,
        "start_time": "2023-03-08T18:31:58.342Z"
      },
      {
        "duration": 106,
        "start_time": "2023-03-08T18:31:58.350Z"
      },
      {
        "duration": 112,
        "start_time": "2023-03-08T18:31:58.457Z"
      },
      {
        "duration": 127,
        "start_time": "2023-03-08T18:31:58.571Z"
      },
      {
        "duration": 14,
        "start_time": "2023-03-08T18:31:58.700Z"
      },
      {
        "duration": 137,
        "start_time": "2023-03-08T18:31:58.715Z"
      },
      {
        "duration": 10,
        "start_time": "2023-03-08T18:31:58.854Z"
      },
      {
        "duration": 21,
        "start_time": "2023-03-08T18:31:58.866Z"
      },
      {
        "duration": 18,
        "start_time": "2023-03-08T18:31:58.888Z"
      },
      {
        "duration": 302,
        "start_time": "2023-03-08T18:31:58.908Z"
      },
      {
        "duration": 209,
        "start_time": "2023-03-08T18:31:59.212Z"
      },
      {
        "duration": 215,
        "start_time": "2023-03-08T18:31:59.422Z"
      },
      {
        "duration": 76,
        "start_time": "2023-03-08T18:31:59.638Z"
      },
      {
        "duration": 0,
        "start_time": "2023-03-08T18:31:59.716Z"
      },
      {
        "duration": 0,
        "start_time": "2023-03-08T18:31:59.718Z"
      },
      {
        "duration": 14,
        "start_time": "2023-03-08T18:32:10.009Z"
      },
      {
        "duration": 299,
        "start_time": "2023-03-08T18:32:26.610Z"
      },
      {
        "duration": 6,
        "start_time": "2023-03-08T18:32:29.906Z"
      },
      {
        "duration": 180,
        "start_time": "2023-03-08T18:32:31.635Z"
      },
      {
        "duration": 256,
        "start_time": "2023-03-08T18:32:39.627Z"
      },
      {
        "duration": 292,
        "start_time": "2023-03-08T18:33:17.952Z"
      },
      {
        "duration": 284,
        "start_time": "2023-03-08T18:33:53.509Z"
      },
      {
        "duration": 274,
        "start_time": "2023-03-08T18:34:03.307Z"
      },
      {
        "duration": 337,
        "start_time": "2023-03-08T18:34:57.194Z"
      },
      {
        "duration": 302,
        "start_time": "2023-03-08T18:35:12.777Z"
      },
      {
        "duration": 330,
        "start_time": "2023-03-08T18:35:38.096Z"
      },
      {
        "duration": 9,
        "start_time": "2023-03-08T18:39:35.013Z"
      },
      {
        "duration": 3,
        "start_time": "2023-03-08T18:39:43.642Z"
      },
      {
        "duration": 32,
        "start_time": "2023-03-08T18:39:43.647Z"
      },
      {
        "duration": 5,
        "start_time": "2023-03-08T18:39:43.681Z"
      },
      {
        "duration": 21,
        "start_time": "2023-03-08T18:39:43.687Z"
      },
      {
        "duration": 436,
        "start_time": "2023-03-08T18:39:43.710Z"
      },
      {
        "duration": 4,
        "start_time": "2023-03-08T18:39:44.147Z"
      },
      {
        "duration": 28,
        "start_time": "2023-03-08T18:39:44.152Z"
      },
      {
        "duration": 321,
        "start_time": "2023-03-08T18:39:44.182Z"
      },
      {
        "duration": 3,
        "start_time": "2023-03-08T18:39:44.504Z"
      },
      {
        "duration": 60,
        "start_time": "2023-03-08T18:39:44.509Z"
      },
      {
        "duration": 12,
        "start_time": "2023-03-08T18:39:44.572Z"
      },
      {
        "duration": 14,
        "start_time": "2023-03-08T18:39:44.586Z"
      },
      {
        "duration": 8,
        "start_time": "2023-03-08T18:39:44.601Z"
      },
      {
        "duration": 7,
        "start_time": "2023-03-08T18:39:44.611Z"
      },
      {
        "duration": 10,
        "start_time": "2023-03-08T18:39:44.620Z"
      },
      {
        "duration": 16,
        "start_time": "2023-03-08T18:39:44.632Z"
      },
      {
        "duration": 24,
        "start_time": "2023-03-08T18:39:44.650Z"
      },
      {
        "duration": 109,
        "start_time": "2023-03-08T18:39:44.675Z"
      },
      {
        "duration": 117,
        "start_time": "2023-03-08T18:39:44.785Z"
      },
      {
        "duration": 12,
        "start_time": "2023-03-08T18:39:44.904Z"
      },
      {
        "duration": 128,
        "start_time": "2023-03-08T18:39:44.917Z"
      },
      {
        "duration": 10,
        "start_time": "2023-03-08T18:39:45.047Z"
      },
      {
        "duration": 33,
        "start_time": "2023-03-08T18:39:45.059Z"
      },
      {
        "duration": 14,
        "start_time": "2023-03-08T18:39:45.094Z"
      },
      {
        "duration": 284,
        "start_time": "2023-03-08T18:39:45.110Z"
      },
      {
        "duration": 205,
        "start_time": "2023-03-08T18:39:45.396Z"
      },
      {
        "duration": 231,
        "start_time": "2023-03-08T18:39:45.603Z"
      },
      {
        "duration": 335,
        "start_time": "2023-03-08T18:39:45.835Z"
      },
      {
        "duration": 7,
        "start_time": "2023-03-08T18:39:46.180Z"
      },
      {
        "duration": 200,
        "start_time": "2023-03-08T18:39:46.189Z"
      },
      {
        "duration": 292,
        "start_time": "2023-03-08T18:39:46.390Z"
      },
      {
        "duration": 12,
        "start_time": "2023-03-08T18:39:46.683Z"
      },
      {
        "duration": 10,
        "start_time": "2023-03-08T18:39:46.697Z"
      },
      {
        "duration": 115,
        "start_time": "2023-03-08T18:40:00.048Z"
      },
      {
        "duration": 9,
        "start_time": "2023-03-08T18:40:12.611Z"
      },
      {
        "duration": 129,
        "start_time": "2023-03-08T18:40:21.554Z"
      },
      {
        "duration": 115,
        "start_time": "2023-03-08T18:41:36.802Z"
      },
      {
        "duration": 194,
        "start_time": "2023-03-08T18:41:49.202Z"
      },
      {
        "duration": 151,
        "start_time": "2023-03-08T18:41:55.602Z"
      },
      {
        "duration": 11,
        "start_time": "2023-03-08T18:42:01.102Z"
      },
      {
        "duration": 9,
        "start_time": "2023-03-08T18:42:07.704Z"
      },
      {
        "duration": 10,
        "start_time": "2023-03-08T18:46:23.136Z"
      },
      {
        "duration": 10,
        "start_time": "2023-03-08T18:48:32.043Z"
      },
      {
        "duration": 16,
        "start_time": "2023-03-08T18:50:15.622Z"
      },
      {
        "duration": 13,
        "start_time": "2023-03-08T18:50:50.414Z"
      },
      {
        "duration": 11,
        "start_time": "2023-03-08T18:50:55.929Z"
      },
      {
        "duration": 11,
        "start_time": "2023-03-08T18:51:58.945Z"
      },
      {
        "duration": 24,
        "start_time": "2023-03-08T18:53:38.352Z"
      },
      {
        "duration": 14,
        "start_time": "2023-03-08T18:53:42.089Z"
      },
      {
        "duration": 178,
        "start_time": "2023-03-08T18:53:47.891Z"
      },
      {
        "duration": 295,
        "start_time": "2023-03-08T18:53:52.091Z"
      },
      {
        "duration": 3,
        "start_time": "2023-03-08T18:56:50.515Z"
      },
      {
        "duration": 62,
        "start_time": "2023-03-08T18:56:50.519Z"
      },
      {
        "duration": 4,
        "start_time": "2023-03-08T18:56:50.582Z"
      },
      {
        "duration": 25,
        "start_time": "2023-03-08T18:56:50.588Z"
      },
      {
        "duration": 434,
        "start_time": "2023-03-08T18:56:50.615Z"
      },
      {
        "duration": 4,
        "start_time": "2023-03-08T18:56:51.050Z"
      },
      {
        "duration": 25,
        "start_time": "2023-03-08T18:56:51.056Z"
      },
      {
        "duration": 331,
        "start_time": "2023-03-08T18:56:51.083Z"
      },
      {
        "duration": 3,
        "start_time": "2023-03-08T18:56:51.416Z"
      },
      {
        "duration": 61,
        "start_time": "2023-03-08T18:56:51.421Z"
      },
      {
        "duration": 9,
        "start_time": "2023-03-08T18:56:51.483Z"
      },
      {
        "duration": 16,
        "start_time": "2023-03-08T18:56:51.494Z"
      },
      {
        "duration": 8,
        "start_time": "2023-03-08T18:56:51.512Z"
      },
      {
        "duration": 5,
        "start_time": "2023-03-08T18:56:51.523Z"
      },
      {
        "duration": 7,
        "start_time": "2023-03-08T18:56:51.529Z"
      },
      {
        "duration": 6,
        "start_time": "2023-03-08T18:56:51.537Z"
      },
      {
        "duration": 40,
        "start_time": "2023-03-08T18:56:51.544Z"
      },
      {
        "duration": 118,
        "start_time": "2023-03-08T18:56:51.586Z"
      },
      {
        "duration": 130,
        "start_time": "2023-03-08T18:56:51.706Z"
      },
      {
        "duration": 14,
        "start_time": "2023-03-08T18:56:51.838Z"
      },
      {
        "duration": 142,
        "start_time": "2023-03-08T18:56:51.853Z"
      },
      {
        "duration": 10,
        "start_time": "2023-03-08T18:56:51.996Z"
      },
      {
        "duration": 14,
        "start_time": "2023-03-08T18:56:52.008Z"
      },
      {
        "duration": 16,
        "start_time": "2023-03-08T18:56:52.023Z"
      },
      {
        "duration": 314,
        "start_time": "2023-03-08T18:56:52.041Z"
      },
      {
        "duration": 230,
        "start_time": "2023-03-08T18:56:52.357Z"
      },
      {
        "duration": 220,
        "start_time": "2023-03-08T18:56:52.589Z"
      },
      {
        "duration": 295,
        "start_time": "2023-03-08T18:56:52.811Z"
      },
      {
        "duration": 5,
        "start_time": "2023-03-08T18:56:53.108Z"
      },
      {
        "duration": 213,
        "start_time": "2023-03-08T18:56:53.115Z"
      },
      {
        "duration": 282,
        "start_time": "2023-03-08T18:56:53.330Z"
      },
      {
        "duration": 12,
        "start_time": "2023-03-08T18:56:53.614Z"
      },
      {
        "duration": 20,
        "start_time": "2023-03-08T18:56:53.628Z"
      },
      {
        "duration": 150,
        "start_time": "2023-03-08T18:56:53.649Z"
      },
      {
        "duration": 4,
        "start_time": "2023-03-08T18:56:53.801Z"
      },
      {
        "duration": 13,
        "start_time": "2023-03-08T18:56:53.807Z"
      },
      {
        "duration": 151,
        "start_time": "2023-03-08T18:56:53.822Z"
      },
      {
        "duration": 7,
        "start_time": "2023-03-08T18:56:53.975Z"
      },
      {
        "duration": 242,
        "start_time": "2023-03-08T18:56:53.984Z"
      },
      {
        "duration": 158,
        "start_time": "2023-03-08T18:56:54.228Z"
      },
      {
        "duration": 10,
        "start_time": "2023-03-08T18:56:54.390Z"
      },
      {
        "duration": 12,
        "start_time": "2023-03-08T18:56:54.401Z"
      },
      {
        "duration": 27,
        "start_time": "2023-03-08T18:56:54.414Z"
      },
      {
        "duration": 44,
        "start_time": "2023-03-08T18:56:54.442Z"
      },
      {
        "duration": 194,
        "start_time": "2023-03-08T18:56:54.488Z"
      },
      {
        "duration": 305,
        "start_time": "2023-03-08T18:56:54.683Z"
      }
    ],
    "kernelspec": {
      "display_name": "Python 3 (ipykernel)",
      "language": "python",
      "name": "python3"
    },
    "language_info": {
      "codemirror_mode": {
        "name": "ipython",
        "version": 3
      },
      "file_extension": ".py",
      "mimetype": "text/x-python",
      "name": "python",
      "nbconvert_exporter": "python",
      "pygments_lexer": "ipython3",
      "version": "3.9.5"
    },
    "toc": {
      "base_numbering": 1,
      "nav_menu": {
        "height": "386px",
        "width": "654px"
      },
      "number_sections": true,
      "sideBar": true,
      "skip_h1_title": true,
      "title_cell": "Table of Contents",
      "title_sidebar": "Contents",
      "toc_cell": false,
      "toc_position": {},
      "toc_section_display": true,
      "toc_window_display": false
    },
    "colab": {
      "provenance": []
    }
  },
  "nbformat": 4,
  "nbformat_minor": 0
}